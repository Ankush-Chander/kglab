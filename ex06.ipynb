{
 "cells": [
  {
   "cell_type": "markdown",
   "metadata": {},
   "source": [
    "# SHACL validation with `pySHACL`\n",
    "\n",
    "Here we'll show use of the [W3 Shapes Constraint Language](https://www.w3.org/TR/shacl/) (SHACL) based on the [`pySHACL`](https://github.com/RDFLib/pySHACL) library.\n",
    "\n",
    "To build KGs we use layers:\n",
    "\n",
    "  * [SKOS](https://www.w3.org/2001/sw/wiki/SKOS) - *thesauri* and *classification*\n",
    "  * [SHACL](https://www.w3.org/TR/shacl/) - *requirements*\n",
    "  * [OWL](https://www.w3.org/OWL/) - *concepts*\n",
    "  * [RDF](https://www.w3.org/TR/rdf11-primer/) - *represent nodes, predictates, literals*"
   ]
  },
  {
   "cell_type": "code",
   "execution_count": 1,
   "metadata": {},
   "outputs": [],
   "source": [
    "shapes_file = \"\"\"\n",
    "@prefix sh:     <http://www.w3.org/ns/shacl#> .\n",
    "@prefix xsd:    <http://www.w3.org/2001/XMLSchema#> .\n",
    "@prefix schema: <http://schema.org/> .\n",
    "\n",
    "schema:PersonShape\n",
    "    a sh:NodeShape ;\n",
    "    sh:targetClass schema:Person ;\n",
    "    sh:property [\n",
    "        sh:path schema:givenName ;\n",
    "        sh:datatype xsd:string ;\n",
    "        sh:name \"given name\" ;\n",
    "    ] ;\n",
    "    sh:property [\n",
    "        sh:path schema:birthDate ;\n",
    "        sh:lessThan schema:deathDate ;\n",
    "        sh:maxCount 1 ;\n",
    "    ] ;\n",
    "    sh:property [\n",
    "        sh:path schema:gender ;\n",
    "        sh:in ( \"female\" \"male\" ) ;\n",
    "    ] ;\n",
    "    sh:property [\n",
    "        sh:path schema:address ;\n",
    "        sh:node schema:AddressShape ;\n",
    "    ] .\n",
    "\n",
    "schema:AddressShape\n",
    "    a sh:NodeShape ;\n",
    "    sh:closed true ;\n",
    "    sh:property [\n",
    "        sh:path schema:streetAddress ;\n",
    "        sh:datatype xsd:string ;\n",
    "    ] ;\n",
    "    sh:property [\n",
    "        sh:path schema:postalCode ;\n",
    "        sh:datatype xsd:integer ;\n",
    "        sh:minInclusive 10000 ;\n",
    "        sh:maxInclusive 99999 ;\n",
    "    ] .\n",
    "\"\"\""
   ]
  },
  {
   "cell_type": "code",
   "execution_count": 2,
   "metadata": {},
   "outputs": [],
   "source": [
    "data_file = \"\"\"\n",
    "{\n",
    "    \"@context\": { \"@vocab\": \"http://schema.org/\" },\n",
    "    \"@id\": \"http://example.org/ns#Bob\",\n",
    "    \"@type\": \"Person\",\n",
    "    \"givenName\": \"Robert\",\n",
    "    \"familyName\": \"Junior\",\n",
    "\n",
    "    \"birthDate\": \"1971-07-07\",\n",
    "    \"deathDate\": \"1968-09-10\",\n",
    "    \"address\": {\n",
    "        \"@id\": \"http://example.org/ns#BobsAddress\",\n",
    "        \"streetAddress\": \"1600 Amphitheatre Pkway\",\n",
    "        \"postalCode\": 9404\n",
    "    }\n",
    "}\n",
    "\"\"\""
   ]
  },
  {
   "cell_type": "code",
   "execution_count": 3,
   "metadata": {},
   "outputs": [
    {
     "name": "stderr",
     "output_type": "stream",
     "text": [
      "Constraint Violation in LessThanConstraintComponent (http://www.w3.org/ns/shacl#LessThanConstraintComponent):\n",
      "\tSeverity: sh:Violation\n",
      "\tSource Shape: [ sh:lessThan schema:deathDate ; sh:maxCount Literal(\"1\", datatype=xsd:integer) ; sh:path schema:birthDate ]\n",
      "\tFocus Node: <http://example.org/ns#Bob>\n",
      "\tValue Node: Literal(\"1971-07-07\")\n",
      "\tResult Path: schema:birthDate\n",
      "\tMessage: Value of <http://example.org/ns#Bob>->schema:deathDate <= Literal(\"1971-07-07\")\n",
      "\n",
      "Constraint Violation in MinInclusiveConstraintComponent (http://www.w3.org/ns/shacl#MinInclusiveConstraintComponent):\n",
      "\tSeverity: sh:Violation\n",
      "\tSource Shape: [ sh:datatype xsd:integer ; sh:maxInclusive Literal(\"99999\", datatype=xsd:integer) ; sh:minInclusive Literal(\"10000\", datatype=xsd:integer) ; sh:path schema:postalCode ]\n",
      "\tFocus Node: <http://example.org/ns#BobsAddress>\n",
      "\tValue Node: Literal(\"9404\", datatype=xsd:integer)\n",
      "\tResult Path: schema:postalCode\n",
      "\tMessage: Value is not >= Literal(\"10000\", datatype=xsd:integer)\n",
      "\n",
      "Constraint Violation in NodeConstraintComponent (http://www.w3.org/ns/shacl#NodeConstraintComponent):\n",
      "\tSeverity: sh:Violation\n",
      "\tSource Shape: [ sh:node schema:AddressShape ; sh:path schema:address ]\n",
      "\tFocus Node: <http://example.org/ns#Bob>\n",
      "\tValue Node: <http://example.org/ns#BobsAddress>\n",
      "\tResult Path: schema:address\n",
      "\tMessage: Value does not conform to Shape schema:AddressShape\n",
      "\n"
     ]
    },
    {
     "name": "stdout",
     "output_type": "stream",
     "text": [
      "conforms False\n",
      "graph [a rdfg:Graph;rdflib:storage [a rdflib:Store;rdfs:label 'Memory2']].\n",
      "text Validation Report\n",
      "Conforms: False\n",
      "Results (2):\n",
      "Constraint Violation in LessThanConstraintComponent (http://www.w3.org/ns/shacl#LessThanConstraintComponent):\n",
      "\tSeverity: sh:Violation\n",
      "\tSource Shape: [ sh:lessThan schema:deathDate ; sh:maxCount Literal(\"1\", datatype=xsd:integer) ; sh:path schema:birthDate ]\n",
      "\tFocus Node: <http://example.org/ns#Bob>\n",
      "\tValue Node: Literal(\"1971-07-07\")\n",
      "\tResult Path: schema:birthDate\n",
      "\tMessage: Value of <http://example.org/ns#Bob>->schema:deathDate <= Literal(\"1971-07-07\")\n",
      "Constraint Violation in NodeConstraintComponent (http://www.w3.org/ns/shacl#NodeConstraintComponent):\n",
      "\tSeverity: sh:Violation\n",
      "\tSource Shape: [ sh:node schema:AddressShape ; sh:path schema:address ]\n",
      "\tFocus Node: <http://example.org/ns#Bob>\n",
      "\tValue Node: <http://example.org/ns#BobsAddress>\n",
      "\tResult Path: schema:address\n",
      "\tMessage: Value does not conform to Shape schema:AddressShape\n",
      "\n"
     ]
    }
   ],
   "source": [
    "import pyshacl\n",
    "\n",
    "results = pyshacl.validate(\n",
    "    data_file,\n",
    "    shacl_graph=shapes_file,\n",
    "    data_graph_format=\"json-ld\",\n",
    "    shacl_graph_format=\"turtle\",\n",
    "    inference=\"rdfs\",\n",
    "    debug=True,\n",
    "    serialize_report_graph=False,\n",
    "    )\n",
    "\n",
    "conforms, v_graph, v_text = results\n",
    "\n",
    "print(\"conforms\", conforms)\n",
    "print(\"graph\", v_graph)\n",
    "print(\"text\", v_text)"
   ]
  },
  {
   "cell_type": "markdown",
   "metadata": {},
   "source": [
    "The birthday value should result in a `LessThanConstraintComponent` violation, and the postalcode value should result in a `NodeConstraintComponent` violation."
   ]
  },
  {
   "cell_type": "markdown",
   "metadata": {},
   "source": [
    "---"
   ]
  },
  {
   "cell_type": "code",
   "execution_count": 4,
   "metadata": {},
   "outputs": [],
   "source": [
    "import kglab\n",
    "\n",
    "namespaces = {\n",
    "    \"wtm\": \"http://purl.org/heals/food/\",\n",
    "    \"ind\": \"http://purl.org/heals/ingredient/\",\n",
    "    \"skos\": \"https://www.w3.org/2004/02/skos/core#\",\n",
    "    \"nom\": \"https://github.com/DerwenAI/kglab/wiki/Vocab#\",\n",
    "    }\n",
    "\n",
    "kg = kglab.KnowledgeGraph(\n",
    "    name = \"A recipe KG example based on Food.com\",\n",
    "    base_uri = \"https://www.food.com/recipe/\",\n",
    "    language = \"en\",\n",
    "    namespaces = namespaces,\n",
    "    )\n",
    "\n",
    "kg.load_ttl(\"tmp.ttl\")"
   ]
  },
  {
   "cell_type": "code",
   "execution_count": 5,
   "metadata": {},
   "outputs": [],
   "source": [
    "shacl = \"\"\"\n",
    "@prefix sh:  <http://www.w3.org/ns/shacl#> .\n",
    "@prefix xsd: <http://www.w3.org/2001/XMLSchema#> .\n",
    "@prefix nom: <https://github.com/DerwenAI/kglab/wiki/Vocab#> .\n",
    "@prefix wtm: <http://purl.org/heals/food/> .\n",
    "@prefix ind: <http://purl.org/heals/ingredient/> .\n",
    "@prefix skos: <https://www.w3.org/2004/02/skos/core#> .\n",
    "\n",
    "nom:RecipeShape\n",
    "    a sh:NodeShape ;\n",
    "    sh:targetClass wtm:Recipe ;\n",
    "    sh:property [\n",
    "        sh:path wtm:hasIngredient ;\n",
    "        sh:node wtm:Ingredient ;\n",
    "        sh:minCount 3 ;\n",
    "    ] ;\n",
    "    sh:property [\n",
    "        sh:path skos:definition ;\n",
    "        sh:datatype xsd:string ;\n",
    "        sh:maxLength 50 ;\n",
    "    ] .\n",
    "\"\"\""
   ]
  },
  {
   "cell_type": "code",
   "execution_count": 6,
   "metadata": {},
   "outputs": [
    {
     "name": "stderr",
     "output_type": "stream",
     "text": [
      "Constraint Violation in MaxLengthConstraintComponent (http://www.w3.org/ns/shacl#MaxLengthConstraintComponent):\n",
      "\tSeverity: sh:Violation\n",
      "\tSource Shape: [ sh:datatype xsd:string ; sh:maxLength Literal(\"50\", datatype=xsd:integer) ; sh:path skos:definition ]\n",
      "\tFocus Node: <https://www.food.com/recipe/137158>\n",
      "\tValue Node: Literal(\"pikkuleipienperustaikina  finnish butter cookie dough\")\n",
      "\tResult Path: skos:definition\n",
      "\tMessage: String length not <= Literal(\"50\", datatype=xsd:integer)\n",
      "\n",
      "Constraint Violation in MaxLengthConstraintComponent (http://www.w3.org/ns/shacl#MaxLengthConstraintComponent):\n",
      "\tSeverity: sh:Violation\n",
      "\tSource Shape: [ sh:datatype xsd:string ; sh:maxLength Literal(\"50\", datatype=xsd:integer) ; sh:path skos:definition ]\n",
      "\tFocus Node: <https://www.food.com/recipe/61108>\n",
      "\tValue Node: Literal(\"german pancakes  from the mennonite treasury of recipes\")\n",
      "\tResult Path: skos:definition\n",
      "\tMessage: String length not <= Literal(\"50\", datatype=xsd:integer)\n",
      "\n",
      "Constraint Violation in MaxLengthConstraintComponent (http://www.w3.org/ns/shacl#MaxLengthConstraintComponent):\n",
      "\tSeverity: sh:Violation\n",
      "\tSource Shape: [ sh:datatype xsd:string ; sh:maxLength Literal(\"50\", datatype=xsd:integer) ; sh:path skos:definition ]\n",
      "\tFocus Node: <https://www.food.com/recipe/261361>\n",
      "\tValue Node: Literal(\"german dumplings  spaetzle or kniffles  for soup or saute\")\n",
      "\tResult Path: skos:definition\n",
      "\tMessage: String length not <= Literal(\"50\", datatype=xsd:integer)\n",
      "\n",
      "Constraint Violation in MaxLengthConstraintComponent (http://www.w3.org/ns/shacl#MaxLengthConstraintComponent):\n",
      "\tSeverity: sh:Violation\n",
      "\tSource Shape: [ sh:datatype xsd:string ; sh:maxLength Literal(\"50\", datatype=xsd:integer) ; sh:path skos:definition ]\n",
      "\tFocus Node: <https://www.food.com/recipe/279314>\n",
      "\tValue Node: Literal(\"choux pastry  for profiteroles  cream puffs or eclairs\")\n",
      "\tResult Path: skos:definition\n",
      "\tMessage: String length not <= Literal(\"50\", datatype=xsd:integer)\n",
      "\n"
     ]
    }
   ],
   "source": [
    "conforms, v_graph, v_text = kg.validate(shacl_graph=shacl)"
   ]
  },
  {
   "cell_type": "code",
   "execution_count": 7,
   "metadata": {},
   "outputs": [
    {
     "name": "stdout",
     "output_type": "stream",
     "text": [
      "conforms False\n",
      "graph b'@prefix sh: <http://www.w3.org/ns/shacl#> .\\n@prefix skos: <https://www.w3.org/2004/02/skos/core#> .\\n@prefix xsd: <http://www.w3.org/2001/XMLSchema#> .\\n\\n[] a sh:ValidationReport ;\\n    sh:conforms false ;\\n    sh:result [ a sh:ValidationResult ;\\n            sh:focusNode <https://www.food.com/recipe/61108> ;\\n            sh:resultMessage \"String length not <= Literal(\\\\\"50\\\\\", datatype=xsd:integer)\" ;\\n            sh:resultPath skos:definition ;\\n            sh:resultSeverity sh:Violation ;\\n            sh:sourceConstraintComponent sh:MaxLengthConstraintComponent ;\\n            sh:sourceShape _:ub3bL16C17 ;\\n            sh:value \"german pancakes  from the mennonite treasury of recipes\" ],\\n        [ a sh:ValidationResult ;\\n            sh:focusNode <https://www.food.com/recipe/137158> ;\\n            sh:resultMessage \"String length not <= Literal(\\\\\"50\\\\\", datatype=xsd:integer)\" ;\\n            sh:resultPath skos:definition ;\\n            sh:resultSeverity sh:Violation ;\\n            sh:sourceConstraintComponent sh:MaxLengthConstraintComponent ;\\n            sh:sourceShape _:ub3bL16C17 ;\\n            sh:value \"pikkuleipienperustaikina  finnish butter cookie dough\" ],\\n        [ a sh:ValidationResult ;\\n            sh:focusNode <https://www.food.com/recipe/279314> ;\\n            sh:resultMessage \"String length not <= Literal(\\\\\"50\\\\\", datatype=xsd:integer)\" ;\\n            sh:resultPath skos:definition ;\\n            sh:resultSeverity sh:Violation ;\\n            sh:sourceConstraintComponent sh:MaxLengthConstraintComponent ;\\n            sh:sourceShape _:ub3bL16C17 ;\\n            sh:value \"choux pastry  for profiteroles  cream puffs or eclairs\" ],\\n        [ a sh:ValidationResult ;\\n            sh:focusNode <https://www.food.com/recipe/261361> ;\\n            sh:resultMessage \"String length not <= Literal(\\\\\"50\\\\\", datatype=xsd:integer)\" ;\\n            sh:resultPath skos:definition ;\\n            sh:resultSeverity sh:Violation ;\\n            sh:sourceConstraintComponent sh:MaxLengthConstraintComponent ;\\n            sh:sourceShape _:ub3bL16C17 ;\\n            sh:value \"german dumplings  spaetzle or kniffles  for soup or saute\" ] .\\n\\n_:ub3bL16C17 sh:datatype xsd:string ;\\n    sh:maxLength 50 ;\\n    sh:path skos:definition .\\n\\n'\n",
      "text Validation Report\n",
      "Conforms: False\n",
      "Results (4):\n",
      "Constraint Violation in MaxLengthConstraintComponent (http://www.w3.org/ns/shacl#MaxLengthConstraintComponent):\n",
      "\tSeverity: sh:Violation\n",
      "\tSource Shape: [ sh:datatype xsd:string ; sh:maxLength Literal(\"50\", datatype=xsd:integer) ; sh:path skos:definition ]\n",
      "\tFocus Node: <https://www.food.com/recipe/137158>\n",
      "\tValue Node: Literal(\"pikkuleipienperustaikina  finnish butter cookie dough\")\n",
      "\tResult Path: skos:definition\n",
      "\tMessage: String length not <= Literal(\"50\", datatype=xsd:integer)\n",
      "Constraint Violation in MaxLengthConstraintComponent (http://www.w3.org/ns/shacl#MaxLengthConstraintComponent):\n",
      "\tSeverity: sh:Violation\n",
      "\tSource Shape: [ sh:datatype xsd:string ; sh:maxLength Literal(\"50\", datatype=xsd:integer) ; sh:path skos:definition ]\n",
      "\tFocus Node: <https://www.food.com/recipe/61108>\n",
      "\tValue Node: Literal(\"german pancakes  from the mennonite treasury of recipes\")\n",
      "\tResult Path: skos:definition\n",
      "\tMessage: String length not <= Literal(\"50\", datatype=xsd:integer)\n",
      "Constraint Violation in MaxLengthConstraintComponent (http://www.w3.org/ns/shacl#MaxLengthConstraintComponent):\n",
      "\tSeverity: sh:Violation\n",
      "\tSource Shape: [ sh:datatype xsd:string ; sh:maxLength Literal(\"50\", datatype=xsd:integer) ; sh:path skos:definition ]\n",
      "\tFocus Node: <https://www.food.com/recipe/261361>\n",
      "\tValue Node: Literal(\"german dumplings  spaetzle or kniffles  for soup or saute\")\n",
      "\tResult Path: skos:definition\n",
      "\tMessage: String length not <= Literal(\"50\", datatype=xsd:integer)\n",
      "Constraint Violation in MaxLengthConstraintComponent (http://www.w3.org/ns/shacl#MaxLengthConstraintComponent):\n",
      "\tSeverity: sh:Violation\n",
      "\tSource Shape: [ sh:datatype xsd:string ; sh:maxLength Literal(\"50\", datatype=xsd:integer) ; sh:path skos:definition ]\n",
      "\tFocus Node: <https://www.food.com/recipe/279314>\n",
      "\tValue Node: Literal(\"choux pastry  for profiteroles  cream puffs or eclairs\")\n",
      "\tResult Path: skos:definition\n",
      "\tMessage: String length not <= Literal(\"50\", datatype=xsd:integer)\n",
      "\n"
     ]
    }
   ],
   "source": [
    "print(\"conforms\", conforms)\n",
    "print(\"graph\", v_graph)\n",
    "print(\"text\", v_text)"
   ]
  },
  {
   "cell_type": "markdown",
   "metadata": {},
   "source": [
    "---\n",
    "\n",
    "## Exercises"
   ]
  },
  {
   "cell_type": "markdown",
   "metadata": {},
   "source": [
    "1. fix the errors in the ABox graph data of the first example"
   ]
  },
  {
   "cell_type": "markdown",
   "metadata": {},
   "source": [
    "  2. how would you validate that each recipe has a cooking time?"
   ]
  }
 ],
 "metadata": {
  "kernelspec": {
   "display_name": "Python 3",
   "language": "python",
   "name": "python3"
  },
  "language_info": {
   "codemirror_mode": {
    "name": "ipython",
    "version": 3
   },
   "file_extension": ".py",
   "mimetype": "text/x-python",
   "name": "python",
   "nbconvert_exporter": "python",
   "pygments_lexer": "ipython3",
   "version": "3.7.4"
  }
 },
 "nbformat": 4,
 "nbformat_minor": 4
}
