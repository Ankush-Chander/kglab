{
 "cells": [
  {
   "cell_type": "code",
   "execution_count": null,
   "metadata": {},
   "outputs": [],
   "source": [
    "# for use in tutorial and development; do not include this `sys.path` change in production:\n",
    "import sys ; sys.path.insert(0, \"../\")"
   ]
  },
  {
   "cell_type": "code",
   "execution_count": 2,
   "metadata": {},
   "outputs": [
    {
     "data": {
      "text/plain": [
       "<kglab.kglab.KnowledgeGraph at 0x1093cca10>"
      ]
     },
     "execution_count": 2,
     "metadata": {},
     "output_type": "execute_result"
    }
   ],
   "source": [
    "import kglab\n",
    "\n",
    "namespaces = {\n",
    "    \"acq\":  \"http://example.org/stuff/\",\n",
    "    \"foaf\": \"http://xmlns.com/foaf/0.1/\",\n",
    "    }\n",
    "\n",
    "kg = kglab.KnowledgeGraph(\n",
    "    name = \"LINQS simple acquaintance example for PSL\",\n",
    "    base_uri = \"http://example.org/stuff/\",\n",
    "    namespaces = namespaces,\n",
    "    )\n",
    "\n",
    "kg.load_rdf(\"../dat/acq.ttl\")"
   ]
  },
  {
   "cell_type": "markdown",
   "metadata": {},
   "source": [
    "Take a look at the `dat/acq.ttl` file to see the people and their relations.\n",
    "Here's a quick visualization of the graph:"
   ]
  },
  {
   "cell_type": "code",
   "execution_count": 3,
   "metadata": {},
   "outputs": [
    {
     "data": {
      "text/html": [
       "\n",
       "        <iframe\n",
       "            width=\"500px\"\n",
       "            height=\"500px\"\n",
       "            src=\"tmp.fig04.html\"\n",
       "            frameborder=\"0\"\n",
       "            allowfullscreen\n",
       "        ></iframe>\n",
       "        "
      ],
      "text/plain": [
       "<IPython.lib.display.IFrame at 0x1293f2c10>"
      ]
     },
     "execution_count": 3,
     "metadata": {},
     "output_type": "execute_result"
    }
   ],
   "source": [
    "VIS_STYLE = {\n",
    "    \"foaf\": {\n",
    "        \"color\": \"orange\",\n",
    "        \"size\": 5,\n",
    "    },\n",
    "    \"acq\":{\n",
    "        \"color\": \"blue\",\n",
    "        \"size\": 30,\n",
    "    },\n",
    "}\n",
    "\n",
    "excludes = [\n",
    "    kg.get_ns(\"rdf\").type,\n",
    "    kg.get_ns(\"rdfs\").domain,\n",
    "    kg.get_ns(\"rdfs\").range,\n",
    "]\n",
    "\n",
    "subgraph = kglab.SubgraphTensor(kg, excludes=excludes)\n",
    "pyvis_graph = subgraph.build_pyvis_graph(notebook=True, style=VIS_STYLE)\n",
    "\n",
    "pyvis_graph.force_atlas_2based()\n",
    "pyvis_graph.show(\"tmp.fig04.html\")"
   ]
  },
  {
   "cell_type": "code",
   "execution_count": 4,
   "metadata": {},
   "outputs": [],
   "source": [
    "import pslpython.model\n",
    "import pslpython.partition\n",
    "import pslpython.predicate\n",
    "import pslpython.rule\n",
    "\n",
    "import numpy as np\n",
    "import pandas as pd\n",
    "import typing\n",
    "from icecream import ic\n",
    "\n",
    "\n",
    "class PSLModel:\n",
    "    \"\"\"\n",
    "Class representing a [*probabilistic soft logic*](https://psl.linqs.org/) (PSL) model.\n",
    "For PSL-specific terminology used here, see <https://psl.linqs.org/wiki/master/Glossary.html>\n",
    "    \"\"\"\n",
    "\n",
    "    _PSL_OPTIONS: dict = {\n",
    "        \"log4j.threshold\": \"INFO\",\n",
    "    }\n",
    "\n",
    "    _PARTITIONS: dict = {\n",
    "        \"observations\": pslpython.partition.Partition.OBSERVATIONS,\n",
    "        \"targets\": pslpython.partition.Partition.TARGETS,\n",
    "        \"truth\": pslpython.partition.Partition.TRUTH,\n",
    "    }\n",
    "\n",
    "\n",
    "    def __init__ (\n",
    "        self,\n",
    "        *,\n",
    "        name: str = None,\n",
    "        ) -> None:\n",
    "        \"\"\"\n",
    "Wrapper for constructing a [`pslpython.model.Model`](https://github.com/linqs/psl/blob/master/psl-python/pslpython/model.py).\n",
    "\n",
    "    name:\n",
    "optional name of the PSL model; if not supplied, PSL generates a random name\n",
    "        \"\"\"\n",
    "        self.model = pslpython.model.Model(name)\n",
    "        self.results: dict = {}\n",
    "\n",
    "\n",
    "    def add_predicate (\n",
    "        self,\n",
    "        raw_name: str,\n",
    "        *,\n",
    "        closed: bool = False,\n",
    "        size: int = None,\n",
    "        arg_types = None,\n",
    "        ) -> \"PSLModel\":\n",
    "        \"\"\"\n",
    "Add a [`pslpython.predicate.Predicate`](https://github.com/linqs/psl/blob/master/psl-python/pslpython/predicate.py) to this model.\n",
    "Enough details must be supplied for PSL to infer the number and types of each predicate's arguments.\n",
    "\n",
    "    raw_name:\n",
    "name of the predicate; must be unique among all of the predicates\n",
    "\n",
    "    closed:\n",
    "indicates that this predicate is fully observed, i.e., all substitutions of this predicate have known values and will behave as evidence for inference; otherwise, if `False` then infer some values of this predicate; defaults to `False`\n",
    "\n",
    "    size:\n",
    "optional, the number of arguments for this predicate\n",
    "\n",
    "    arg_types:\n",
    "optional, a list of types for the arguments for this predicate; all arguments will default to string\n",
    "            \n",
    "    returns:\n",
    "this PSL model – use for method chaining\n",
    "        \"\"\"\n",
    "        predicate = pslpython.predicate.Predicate(\n",
    "            raw_name,\n",
    "            closed=closed,\n",
    "            size=size,\n",
    "            arg_types=arg_types,\n",
    "            )\n",
    "        \n",
    "        self.model.add_predicate(predicate)\n",
    "        return self\n",
    "\n",
    "\n",
    "    def add_rule (\n",
    "        self,\n",
    "        rule_string: str,\n",
    "        *,\n",
    "        weighted: bool = None,\n",
    "        weight: float = None,\n",
    "        squared: bool = None,\n",
    "        ) -> \"PSLModel\":\n",
    "        \"\"\"\n",
    "Add a [`pslpython.rule.Rule`](https://github.com/linqs/psl/blob/master/psl-python/pslpython/rule.py) to this model.\n",
    "\n",
    "  * a weighted rule can change its weight or squared status\n",
    "  * a weighted rule cannot convert into an unweighted rule nor visa-versa\n",
    "  * unweighted rules are constraints\n",
    "\n",
    "For more details, see <https://psl.linqs.org/wiki/master/Rule-Specification.html>\n",
    "\n",
    "    rule_string:\n",
    "text representation for specifying the rule\n",
    "\n",
    "    weighted:\n",
    "indicates that this rule is weighted\n",
    "\n",
    "    weight:\n",
    "weight of this rule\n",
    "\n",
    "    squared:\n",
    "indicates that this rule's potential is squared\n",
    "\n",
    "    returns:\n",
    "this PSL model – use for method chaining\n",
    "        \"\"\"\n",
    "        rule = pslpython.rule.Rule(\n",
    "            rule_string=rule_string,\n",
    "            weighted=weighted,\n",
    "            weight=weight,\n",
    "            squared=squared,\n",
    "        )\n",
    "\n",
    "        self.model.add_rule(rule)\n",
    "        return self\n",
    "\n",
    "\n",
    "    def clear_model (\n",
    "        self\n",
    "        ) -> \"PSLModel\":\n",
    "        \"\"\"\n",
    "Clear any pre-existing data from each of the predicates, to initialize the model.\n",
    "\n",
    "    returns:\n",
    "this PSL model – use for method chaining\n",
    "        \"\"\"\n",
    "        for predicate in self.model.get_predicates().values():\n",
    "            predicate.clear_data()\n",
    "\n",
    "        return self\n",
    "\n",
    "\n",
    "    def add_data_row (\n",
    "        self,\n",
    "        predicate_name: str,\n",
    "        args: list,\n",
    "        *,\n",
    "        partition: str = \"observations\",\n",
    "        truth_value: float = 1.0,\n",
    "        verbose: bool = False,\n",
    "        ) -> \"PSLModel\":\n",
    "        \"\"\"\n",
    "Add a single record to a specified predicate, within a specified partition.\n",
    "\n",
    "    predicate_name:\n",
    "name of the specific predicate; name normalization will be handled internally; raises `ModelError` if the predicate name is not found\n",
    "\n",
    "    args:\n",
    "arguments for the record being added, as a list\n",
    "\n",
    "    partition:\n",
    "label for the [`pslpython.partition.Partition`](https://github.com/linqs/psl/blob/master/psl-python/pslpython/partition.py) into which the `data` gets added; must be among `[ \"observations\", \"targets\", \"truth\" ]`; defaults to `\"observations\"`; see <https://psl.linqs.org/wiki/master/Data-Storage-in-PSL.html>\n",
    "\n",
    "    truth_value:\n",
    "optional truth value of the record being added\n",
    "\n",
    "    verbose:\n",
    "flag for verbose trace of each added record\n",
    "\n",
    "    returns:\n",
    "this PSL model – use for method chaining\n",
    "        \"\"\"\n",
    "        try:\n",
    "            predicate = self.model.get_predicate(predicate_name)\n",
    "            assert predicate\n",
    "        except:\n",
    "            error = \"Unknown predicate: {}\".format(predicate_name)\n",
    "            raise pslpython.model.ModelError(error)\n",
    "\n",
    "        try:\n",
    "            partition_obj = self._PARTITIONS[partition.lower()]\n",
    "        except:\n",
    "            error = \"Unknown partition: {}\".format(partition)\n",
    "            raise pslpython.model.ModelError(error)\n",
    "\n",
    "        if verbose:\n",
    "            ic(predicate_name, partition, args)\n",
    "\n",
    "        predicate.add_data_row(\n",
    "            partition_obj,\n",
    "            args=args,\n",
    "            truth_value=truth_value,\n",
    "        )\n",
    "\n",
    "        return self\n",
    "\n",
    "\n",
    "    def infer (\n",
    "        self,\n",
    "        *,\n",
    "        method: str = \"\",\n",
    "        cli_options: list = None,\n",
    "        psl_config: dict = None,\n",
    "        jvm_options: list = None,\n",
    "        ) -> None:\n",
    "        \"\"\"\n",
    "Run inference on this model, storing the inferred results in an internal dataframe.\n",
    "\n",
    "    method:\n",
    "the inference method to use\n",
    "\n",
    "    cli_options:\n",
    "additional options to pass to PSL, based on its CLI options; see <https://psl.linqs.org/wiki/master/Configuration.html>\n",
    "\n",
    "    psl_config:\n",
    "configuration options passed directly to the PSL core code; see <https://psl.linqs.org/wiki/master/Configuration-Options.html>\n",
    "\n",
    "    jvm_options:\n",
    "options passed to the JVM running the PSL Java library; most commonly `\"-Xmx\"` and `\"-Xms\"`\n",
    "        \"\"\"\n",
    "        if not cli_options:\n",
    "            cli_options = []\n",
    "\n",
    "        if not psl_config:\n",
    "            psl_config = self._PSL_OPTIONS\n",
    "\n",
    "        if not jvm_options:\n",
    "            jvm_options = []\n",
    "\n",
    "        self.results = self.model.infer(\n",
    "            method=method,\n",
    "            additional_cli_optons=cli_options,\n",
    "            psl_config=psl_config,\n",
    "            jvm_options=jvm_options,\n",
    "        )\n",
    "\n",
    "\n",
    "    def get_results (\n",
    "        self,\n",
    "        predicate_name: str,\n",
    "        ) -> pd.DataFrame:\n",
    "        \"\"\"\n",
    "Accessor for the inferred results for a specified predicate.\n",
    "\n",
    "    predicate_name:\n",
    "name of the specific predicate; name normalization will be handled internally; raises `ModelError` if the predicate name is not found\n",
    "\n",
    "    returns:\n",
    "inferred values as a [`pandas.DataFrame`](https://pandas.pydata.org/pandas-docs/stable/reference/api/pandas.DataFrame.html), with columns names for each argument plus the `\"truth\"` value\n",
    "        \"\"\"\n",
    "        try:\n",
    "            predicate = self.model.get_predicate(predicate_name)\n",
    "            assert predicate\n",
    "        except:\n",
    "            error = \"Unknown predicate: {}\".format(predicate_name)\n",
    "            raise pslpython.model.ModelError(error)\n",
    "\n",
    "        df = self.results[predicate].copy(deep=True)\n",
    "        df.insert(0, \"predicate\", predicate.name())\n",
    "        return df"
   ]
  },
  {
   "cell_type": "markdown",
   "metadata": {},
   "source": [
    "## Loading a PSL model\n",
    "\n",
    "Next, we'll use the [`pslpython`](https://pypi.org/project/pslpython/) library implemented in Python (atop its core library running in Java) to define three *predicates* (i.e., relations – similar as in RDF) which are: `Neighbors`, `Likes`, `Knows`"
   ]
  },
  {
   "cell_type": "code",
   "execution_count": 5,
   "metadata": {},
   "outputs": [],
   "source": [
    "psl = PSLModel(\n",
    "    name = \"simple acquaintances\",\n",
    "    )"
   ]
  },
  {
   "cell_type": "markdown",
   "metadata": {},
   "source": [
    "Then add each of the predicates:"
   ]
  },
  {
   "cell_type": "code",
   "execution_count": 6,
   "metadata": {},
   "outputs": [
    {
     "data": {
      "text/plain": [
       "<__main__.PSLModel at 0x129f86090>"
      ]
     },
     "execution_count": 6,
     "metadata": {},
     "output_type": "execute_result"
    }
   ],
   "source": [
    "psl.add_predicate(\"Neighbors\", size=2)\n",
    "psl.add_predicate(\"Likes\", size=2)\n",
    "psl.add_predicate(\"Knows\", closed=False, size=2)"
   ]
  },
  {
   "cell_type": "markdown",
   "metadata": {},
   "source": [
    "Next, we'll add a set of probabilistic [*rules*](https://psl.linqs.org/wiki/2.2.1/Rule-Specification.html), all with different weights applied:\n",
    "\n",
    "  1. \"Two people who live in the same place are **more** likely to know each other\"\n",
    "  2. \"Two people who don't live in the same place are **less** likely to know each other\"\n",
    "  3. \"Two people who share a common interest are **more** likely to know each other\"\n",
    "  4. \"Two people who both know a third person are **more** likely to know each other\"\n",
    "  5. \"Otherwise, any pair of people are **less** likely to know each other\""
   ]
  },
  {
   "cell_type": "code",
   "execution_count": 7,
   "metadata": {},
   "outputs": [
    {
     "data": {
      "text/plain": [
       "<__main__.PSLModel at 0x129f86090>"
      ]
     },
     "execution_count": 7,
     "metadata": {},
     "output_type": "execute_result"
    }
   ],
   "source": [
    "psl.add_rule(\"20: Neighbors(P1, L) & Neighbors(P2, L) & (P1 != P2) -> Knows(P1, P2) ^2\")\n",
    "\n",
    "psl.add_rule(\"5: Neighbors(P1, L1) & Neighbors(P2, L2) & (P1 != P2) & (L1 != L2) -> !Knows(P1, P2) ^2\")\n",
    "\n",
    "psl.add_rule(\"10: Likes(P1, L) & Likes(P2, L) & (P1 != P2) -> Knows(P1, P2) ^2\")\n",
    "\n",
    "psl.add_rule(\"5: Knows(P1, P2) & Knows(P2, P3) & (P1 != P3) -> Knows(P1, P3) ^2\")\n",
    "\n",
    "psl.add_rule(\"5: !Knows(P1, P2) ^2\")"
   ]
  },
  {
   "cell_type": "markdown",
   "metadata": {},
   "source": [
    "Finally we'll add a *commutative* rule such that \"If Person 1 knows Person 2, then Person 2 also knows Person 1.\""
   ]
  },
  {
   "cell_type": "code",
   "execution_count": 8,
   "metadata": {},
   "outputs": [
    {
     "data": {
      "text/plain": [
       "<__main__.PSLModel at 0x129f86090>"
      ]
     },
     "execution_count": 8,
     "metadata": {},
     "output_type": "execute_result"
    }
   ],
   "source": [
    "psl.add_rule(\"Knows(P1, P2) = Knows(P2, P1)\", weighted=False)"
   ]
  },
  {
   "cell_type": "markdown",
   "metadata": {},
   "source": [
    "To initialize the model, we'll clear any pre-existing data from each of the predicates:"
   ]
  },
  {
   "cell_type": "code",
   "execution_count": 9,
   "metadata": {},
   "outputs": [
    {
     "data": {
      "text/plain": [
       "<__main__.PSLModel at 0x129f86090>"
      ]
     },
     "execution_count": 9,
     "metadata": {},
     "output_type": "execute_result"
    }
   ],
   "source": [
    "psl.clear_model()"
   ]
  },
  {
   "cell_type": "markdown",
   "metadata": {},
   "source": [
    "Next we'll create a specific `Subgraph` to transform the names of `foaf:Person` in the graph, since the PSL rules in this example focus on relations among the people:"
   ]
  },
  {
   "cell_type": "code",
   "execution_count": 10,
   "metadata": {},
   "outputs": [],
   "source": [
    "people_iter = kg.rdf_graph().subjects(kg.get_ns(\"rdf\").type, kg.get_ns(\"foaf\").Person)\n",
    "people_urls = [ str(p) for p in sorted(people_iter) ]\n",
    "\n",
    "subgraph = kglab.Subgraph(kg, preload=people_urls)"
   ]
  },
  {
   "cell_type": "markdown",
   "metadata": {},
   "source": [
    "Now let's query our KG to populate data into the `Neighbors` predicate in the PSL model, based on `foaf:based_near` which represents people who live nearby each other:"
   ]
  },
  {
   "cell_type": "code",
   "execution_count": 11,
   "metadata": {
    "scrolled": true
   },
   "outputs": [],
   "source": [
    "sparql = \"\"\"\n",
    "SELECT DISTINCT ?p1 ?p2\n",
    "  WHERE {\n",
    "    ?p1 foaf:based_near ?l .\n",
    "    ?p2 foaf:based_near ?l .\n",
    "    FILTER( ?p1 != ?p2 )\n",
    "  }\n",
    "  \"\"\"\n",
    "\n",
    "for row in kg.query(sparql):\n",
    "    p1 = subgraph.transform(str(row.p1))\n",
    "    p2 = subgraph.transform(str(row.p2))\n",
    "    psl.add_data_row(\"Neighbors\", [p1, p2])"
   ]
  },
  {
   "cell_type": "markdown",
   "metadata": {},
   "source": [
    "Note: these data points are *observations*, i.e., empirical support for the probabilistic model.\n",
    "    \n",
    "Then let's query our KG to populate data into the `Likes` predicate in the PSL model, based on shared interests in `foaf:topic_interest` topics:"
   ]
  },
  {
   "cell_type": "code",
   "execution_count": 12,
   "metadata": {
    "scrolled": true
   },
   "outputs": [],
   "source": [
    "sparql = \"\"\"\n",
    "SELECT DISTINCT ?p1 ?p2\n",
    "  WHERE {\n",
    "    ?p1 foaf:topic_interest ?t .\n",
    "    ?p2 foaf:topic_interest ?t .\n",
    "    FILTER( ?p1 != ?p2 )\n",
    "  }\n",
    "  \"\"\"\n",
    "\n",
    "for row in kg.query(sparql):\n",
    "    p1 = subgraph.transform(str(row.p1))\n",
    "    p2 = subgraph.transform(str(row.p2))\n",
    "    psl.add_data_row(\"Likes\", [p1, p2])"
   ]
  },
  {
   "cell_type": "markdown",
   "metadata": {},
   "source": [
    "Just for kicks, let's take a look at the internal representation of a PSL predicate, which is a `pandas.DataFrame`:"
   ]
  },
  {
   "cell_type": "code",
   "execution_count": 13,
   "metadata": {},
   "outputs": [
    {
     "data": {
      "text/plain": [
       "{'_types': [<ArgType.UNIQUE_STRING_ID: 'UniqueStringID'>,\n",
       "  <ArgType.UNIQUE_STRING_ID: 'UniqueStringID'>],\n",
       " '_data': {<Partition.OBSERVATIONS: 'observations'>:       0   1    2\n",
       "  0     2  13  1.0\n",
       "  1     2   7  1.0\n",
       "  2     2   9  1.0\n",
       "  3     2  12  1.0\n",
       "  4     2   4  1.0\n",
       "  ..   ..  ..  ...\n",
       "  567  21  23  1.0\n",
       "  568  21  13  1.0\n",
       "  569  21  15  1.0\n",
       "  570  21  16  1.0\n",
       "  571  21  14  1.0\n",
       "  \n",
       "  [572 rows x 3 columns],\n",
       "  <Partition.TARGETS: 'targets'>: Empty DataFrame\n",
       "  Columns: [0, 1, 2]\n",
       "  Index: [],\n",
       "  <Partition.TRUTH: 'truth'>: Empty DataFrame\n",
       "  Columns: [0, 1, 2]\n",
       "  Index: []},\n",
       " '_name': 'LIKES',\n",
       " '_closed': False}"
      ]
     },
     "execution_count": 13,
     "metadata": {},
     "output_type": "execute_result"
    }
   ],
   "source": [
    "predicate = psl.model.get_predicate(\"Likes\")\n",
    "predicate.__dict__"
   ]
  },
  {
   "cell_type": "markdown",
   "metadata": {},
   "source": [
    "Now we'll load data from the `dat/psl/knows_targets.txt` CSV file, which is a list of `foaf:knows` relations in our graph that we want to analyze.\n",
    "Each of these has an assumed value of `1.0` (true) or `0.0` (false).\n",
    "Our PSL analysis will assign probabilities for each so that we can compare which annotations appear to be suspect and require further review:"
   ]
  },
  {
   "cell_type": "code",
   "execution_count": 14,
   "metadata": {
    "scrolled": true
   },
   "outputs": [],
   "source": [
    "import csv\n",
    "import pandas as pd\n",
    "import rdflib\n",
    "\n",
    "targets = []\n",
    "rows_list = []\n",
    "\n",
    "with open(\"../dat/psl/knows_targets.txt\", \"r\") as f:\n",
    "    reader = csv.reader(f, delimiter=\"\\t\")\n",
    "    \n",
    "    for i, row in enumerate(reader):\n",
    "        p1 = int(row[0])\n",
    "        p2 = int(row[1])\n",
    "        targets.append((p1, p2))\n",
    "    \n",
    "        p1_url = rdflib.URIRef(subgraph.inverse_transform(p1))\n",
    "        p2_url = rdflib.URIRef(subgraph.inverse_transform(p2))\n",
    "        \n",
    "        if (p1_url, kg.get_ns(\"foaf\").knows, p2_url) in kg.rdf_graph():\n",
    "            truth = 1.0\n",
    "            rows_list.append({ 0: p1, 1: p2, \"truth\": truth})\n",
    "\n",
    "            psl.add_data_row(\"Knows\", [p1, p2], partition=\"truth\", truth_value=truth)\n",
    "            psl.add_data_row(\"Knows\", [p1, p2], partition=\"targets\")\n",
    "\n",
    "        elif (p1_url, kg.get_ns(\"acq\").wantsIntro, p2_url) in kg.rdf_graph():\n",
    "            truth = 0.0\n",
    "            rows_list.append({ 0: p1, 1: p2, \"truth\": truth})\n",
    "\n",
    "            psl.add_data_row(\"Knows\", [p1, p2], partition=\"truth\", truth_value=truth)\n",
    "            psl.add_data_row(\"Knows\", [p1, p2], partition=\"targets\")\n",
    "\n",
    "        else:\n",
    "            print(\"UNKNOWN\", p1, p2)"
   ]
  },
  {
   "cell_type": "markdown",
   "metadata": {},
   "source": [
    "These data points are considered to be *ground atoms*, each with a *truth* value set initially.\n",
    "\n",
    "These are also our *targets* for which nodes in the graph to analyze based on the rules.\n",
    "We'll keep a dataframe called `df_dat` to preserve these values for later use:"
   ]
  },
  {
   "cell_type": "code",
   "execution_count": 15,
   "metadata": {},
   "outputs": [
    {
     "data": {
      "text/html": [
       "<div>\n",
       "<style scoped>\n",
       "    .dataframe tbody tr th:only-of-type {\n",
       "        vertical-align: middle;\n",
       "    }\n",
       "\n",
       "    .dataframe tbody tr th {\n",
       "        vertical-align: top;\n",
       "    }\n",
       "\n",
       "    .dataframe thead th {\n",
       "        text-align: right;\n",
       "    }\n",
       "</style>\n",
       "<table border=\"1\" class=\"dataframe\">\n",
       "  <thead>\n",
       "    <tr style=\"text-align: right;\">\n",
       "      <th></th>\n",
       "      <th>0</th>\n",
       "      <th>1</th>\n",
       "      <th>truth</th>\n",
       "    </tr>\n",
       "  </thead>\n",
       "  <tbody>\n",
       "    <tr>\n",
       "      <th>0</th>\n",
       "      <td>0</td>\n",
       "      <td>1</td>\n",
       "      <td>1.0</td>\n",
       "    </tr>\n",
       "    <tr>\n",
       "      <th>1</th>\n",
       "      <td>0</td>\n",
       "      <td>7</td>\n",
       "      <td>1.0</td>\n",
       "    </tr>\n",
       "    <tr>\n",
       "      <th>2</th>\n",
       "      <td>0</td>\n",
       "      <td>15</td>\n",
       "      <td>1.0</td>\n",
       "    </tr>\n",
       "    <tr>\n",
       "      <th>3</th>\n",
       "      <td>0</td>\n",
       "      <td>18</td>\n",
       "      <td>1.0</td>\n",
       "    </tr>\n",
       "    <tr>\n",
       "      <th>4</th>\n",
       "      <td>0</td>\n",
       "      <td>22</td>\n",
       "      <td>0.0</td>\n",
       "    </tr>\n",
       "  </tbody>\n",
       "</table>\n",
       "</div>"
      ],
      "text/plain": [
       "   0   1  truth\n",
       "0  0   1    1.0\n",
       "1  0   7    1.0\n",
       "2  0  15    1.0\n",
       "3  0  18    1.0\n",
       "4  0  22    0.0"
      ]
     },
     "execution_count": 15,
     "metadata": {},
     "output_type": "execute_result"
    }
   ],
   "source": [
    "df_dat = pd.DataFrame(rows_list)\n",
    "df_dat.head()"
   ]
  },
  {
   "cell_type": "markdown",
   "metadata": {},
   "source": [
    "Next, we'll add `foaf:knows` observations which are in the graph, although not among our set of targets.\n",
    "This provides more evidence for the probabilistic inference.\n",
    "Note that since RDF does not allow for representing probabilities on relations, we're using the `acq:wantsIntro` to represent a `foaf:knows` with a `0.0` probability:"
   ]
  },
  {
   "cell_type": "code",
   "execution_count": 16,
   "metadata": {
    "scrolled": true
   },
   "outputs": [],
   "source": [
    "sparql = \"\"\"\n",
    "SELECT ?p1 ?p2\n",
    "  WHERE {\n",
    "    ?p1 foaf:knows ?p2 .\n",
    "  }\n",
    "  ORDER BY ?p1 ?p2\n",
    "  \"\"\"\n",
    "\n",
    "for row in kg.query(sparql):\n",
    "    p1 = subgraph.transform(str(row.p1))\n",
    "    p2 = subgraph.transform(str(row.p2))\n",
    "    \n",
    "    if (p1, p2) not in targets:\n",
    "        psl.add_data_row(\"Knows\", [p1, p2], truth_value=1.0)\n",
    "    \n",
    "sparql = \"\"\"\n",
    "SELECT ?p1 ?p2\n",
    "  WHERE {\n",
    "    ?p1 acq:wantsIntro ?p2 .\n",
    "  }\n",
    "  ORDER BY ?p1 ?p2\n",
    "  \"\"\"\n",
    "\n",
    "for row in kg.query(sparql):\n",
    "    p1 = subgraph.transform(str(row.p1))\n",
    "    p2 = subgraph.transform(str(row.p2))\n",
    "    \n",
    "    if (p1, p2) not in targets:\n",
    "        psl.add_data_row(\"Knows\", [p1, p2], truth_value=0.0)"
   ]
  },
  {
   "cell_type": "markdown",
   "metadata": {},
   "source": [
    "Now we're ready to run optimization on the PSL model and infer the *grounded atoms*.\n",
    "This may take a few minutes to run:"
   ]
  },
  {
   "cell_type": "code",
   "execution_count": 17,
   "metadata": {
    "scrolled": true
   },
   "outputs": [
    {
     "name": "stderr",
     "output_type": "stream",
     "text": [
      "9103 [pslpython.model PSL] INFO --- 0    [main] INFO  org.linqs.psl.cli.Launcher  - Running PSL CLI Version 2.2.2-5f9a472\n",
      "9446 [pslpython.model PSL] INFO --- 345  [main] INFO  org.linqs.psl.cli.Launcher  - Loading data\n",
      "9721 [pslpython.model PSL] INFO --- 621  [main] INFO  org.linqs.psl.cli.Launcher  - Data loading complete\n",
      "9722 [pslpython.model PSL] INFO --- 621  [main] INFO  org.linqs.psl.cli.Launcher  - Loading model from /var/folders/zz/2ffrqd5j7n52x67qd94h_r_h0000gp/T/psl-python/simple acquaintances/simple acquaintances.psl\n",
      "9881 [pslpython.model PSL] INFO --- 781  [main] INFO  org.linqs.psl.cli.Launcher  - Model loading complete\n",
      "9882 [pslpython.model PSL] INFO --- 781  [main] INFO  org.linqs.psl.cli.Launcher  - Starting inference with class: org.linqs.psl.application.inference.MPEInference\n",
      "10051 [pslpython.model PSL] INFO --- 950  [main] INFO  org.linqs.psl.application.inference.MPEInference  - Grounding out model.\n",
      "15765 [pslpython.model PSL] INFO --- 6665 [main] INFO  org.linqs.psl.application.inference.MPEInference  - Grounding complete.\n",
      "16120 [pslpython.model PSL] INFO --- 7020 [main] INFO  org.linqs.psl.application.inference.InferenceApplication  - Beginning inference.\n",
      "36961 [pslpython.model PSL] WARNING --- 27861 [main] WARN  org.linqs.psl.reasoner.admm.ADMMReasoner  - No feasible solution found. 112 constraints violated.\n",
      "36962 [pslpython.model PSL] INFO --- 27861 [main] INFO  org.linqs.psl.reasoner.admm.ADMMReasoner  - Optimization completed in 10797 iterations. Objective: 147045.53, Feasible: false, Primal res.: 0.16985953, Dual res.: 0.011432422\n",
      "36963 [pslpython.model PSL] INFO --- 27861 [main] INFO  org.linqs.psl.application.inference.InferenceApplication  - Inference complete.\n",
      "36964 [pslpython.model PSL] INFO --- 27861 [main] INFO  org.linqs.psl.application.inference.InferenceApplication  - Writing results to Database.\n",
      "37014 [pslpython.model PSL] INFO --- 27914 [main] INFO  org.linqs.psl.application.inference.InferenceApplication  - Results committed to database.\n",
      "37015 [pslpython.model PSL] INFO --- 27915 [main] INFO  org.linqs.psl.cli.Launcher  - Inference Complete\n"
     ]
    }
   ],
   "source": [
    "psl.infer()"
   ]
  },
  {
   "cell_type": "markdown",
   "metadata": {},
   "source": [
    "Let's examine the results.\n",
    "We'll get a `pandas.DataFrame` describing the targets in the `Knows` predicate:"
   ]
  },
  {
   "cell_type": "code",
   "execution_count": 18,
   "metadata": {},
   "outputs": [
    {
     "data": {
      "text/html": [
       "<div>\n",
       "<style scoped>\n",
       "    .dataframe tbody tr th:only-of-type {\n",
       "        vertical-align: middle;\n",
       "    }\n",
       "\n",
       "    .dataframe tbody tr th {\n",
       "        vertical-align: top;\n",
       "    }\n",
       "\n",
       "    .dataframe thead th {\n",
       "        text-align: right;\n",
       "    }\n",
       "</style>\n",
       "<table border=\"1\" class=\"dataframe\">\n",
       "  <thead>\n",
       "    <tr style=\"text-align: right;\">\n",
       "      <th></th>\n",
       "      <th>predicate</th>\n",
       "      <th>0</th>\n",
       "      <th>1</th>\n",
       "      <th>truth</th>\n",
       "    </tr>\n",
       "  </thead>\n",
       "  <tbody>\n",
       "    <tr>\n",
       "      <th>0</th>\n",
       "      <td>KNOWS</td>\n",
       "      <td>20</td>\n",
       "      <td>1</td>\n",
       "      <td>0.984065</td>\n",
       "    </tr>\n",
       "    <tr>\n",
       "      <th>1</th>\n",
       "      <td>KNOWS</td>\n",
       "      <td>0</td>\n",
       "      <td>7</td>\n",
       "      <td>0.998765</td>\n",
       "    </tr>\n",
       "    <tr>\n",
       "      <th>2</th>\n",
       "      <td>KNOWS</td>\n",
       "      <td>20</td>\n",
       "      <td>6</td>\n",
       "      <td>0.003511</td>\n",
       "    </tr>\n",
       "    <tr>\n",
       "      <th>3</th>\n",
       "      <td>KNOWS</td>\n",
       "      <td>0</td>\n",
       "      <td>1</td>\n",
       "      <td>0.997271</td>\n",
       "    </tr>\n",
       "    <tr>\n",
       "      <th>4</th>\n",
       "      <td>KNOWS</td>\n",
       "      <td>12</td>\n",
       "      <td>17</td>\n",
       "      <td>0.005267</td>\n",
       "    </tr>\n",
       "  </tbody>\n",
       "</table>\n",
       "</div>"
      ],
      "text/plain": [
       "  predicate   0   1     truth\n",
       "0     KNOWS  20   1  0.984065\n",
       "1     KNOWS   0   7  0.998765\n",
       "2     KNOWS  20   6  0.003511\n",
       "3     KNOWS   0   1  0.997271\n",
       "4     KNOWS  12  17  0.005267"
      ]
     },
     "execution_count": 18,
     "metadata": {},
     "output_type": "execute_result"
    }
   ],
   "source": [
    "df = psl.get_results(\"Knows\")\n",
    "df.head()"
   ]
  },
  {
   "cell_type": "markdown",
   "metadata": {},
   "source": [
    "Now we can compare the \"truth\" values from our targets, with their probabilities from the inference provided by the PSL model.\n",
    "Let's build a dataframe to show that:"
   ]
  },
  {
   "cell_type": "code",
   "execution_count": 19,
   "metadata": {
    "scrolled": true
   },
   "outputs": [
    {
     "data": {
      "text/html": [
       "<div>\n",
       "<style scoped>\n",
       "    .dataframe tbody tr th:only-of-type {\n",
       "        vertical-align: middle;\n",
       "    }\n",
       "\n",
       "    .dataframe tbody tr th {\n",
       "        vertical-align: top;\n",
       "    }\n",
       "\n",
       "    .dataframe thead th {\n",
       "        text-align: right;\n",
       "    }\n",
       "</style>\n",
       "<table border=\"1\" class=\"dataframe\">\n",
       "  <thead>\n",
       "    <tr style=\"text-align: right;\">\n",
       "      <th></th>\n",
       "      <th>predicate</th>\n",
       "      <th>truth</th>\n",
       "      <th>diff</th>\n",
       "      <th>p1</th>\n",
       "      <th>p2</th>\n",
       "    </tr>\n",
       "  </thead>\n",
       "  <tbody>\n",
       "    <tr>\n",
       "      <th>0</th>\n",
       "      <td>KNOWS</td>\n",
       "      <td>0.984065</td>\n",
       "      <td>-0.015935</td>\n",
       "      <td>http://example.org/stuff/person_20</td>\n",
       "      <td>http://example.org/stuff/person_01</td>\n",
       "    </tr>\n",
       "    <tr>\n",
       "      <th>1</th>\n",
       "      <td>KNOWS</td>\n",
       "      <td>0.998765</td>\n",
       "      <td>-0.001235</td>\n",
       "      <td>http://example.org/stuff/person_00</td>\n",
       "      <td>http://example.org/stuff/person_07</td>\n",
       "    </tr>\n",
       "    <tr>\n",
       "      <th>2</th>\n",
       "      <td>KNOWS</td>\n",
       "      <td>0.003511</td>\n",
       "      <td>0.003511</td>\n",
       "      <td>http://example.org/stuff/person_20</td>\n",
       "      <td>http://example.org/stuff/person_06</td>\n",
       "    </tr>\n",
       "    <tr>\n",
       "      <th>3</th>\n",
       "      <td>KNOWS</td>\n",
       "      <td>0.997271</td>\n",
       "      <td>-0.002729</td>\n",
       "      <td>http://example.org/stuff/person_00</td>\n",
       "      <td>http://example.org/stuff/person_01</td>\n",
       "    </tr>\n",
       "    <tr>\n",
       "      <th>4</th>\n",
       "      <td>KNOWS</td>\n",
       "      <td>0.005267</td>\n",
       "      <td>0.005267</td>\n",
       "      <td>http://example.org/stuff/person_12</td>\n",
       "      <td>http://example.org/stuff/person_17</td>\n",
       "    </tr>\n",
       "  </tbody>\n",
       "</table>\n",
       "</div>"
      ],
      "text/plain": [
       "  predicate     truth      diff                                  p1  \\\n",
       "0     KNOWS  0.984065 -0.015935  http://example.org/stuff/person_20   \n",
       "1     KNOWS  0.998765 -0.001235  http://example.org/stuff/person_00   \n",
       "2     KNOWS  0.003511  0.003511  http://example.org/stuff/person_20   \n",
       "3     KNOWS  0.997271 -0.002729  http://example.org/stuff/person_00   \n",
       "4     KNOWS  0.005267  0.005267  http://example.org/stuff/person_12   \n",
       "\n",
       "                                   p2  \n",
       "0  http://example.org/stuff/person_01  \n",
       "1  http://example.org/stuff/person_07  \n",
       "2  http://example.org/stuff/person_06  \n",
       "3  http://example.org/stuff/person_01  \n",
       "4  http://example.org/stuff/person_17  "
      ]
     },
     "execution_count": 19,
     "metadata": {},
     "output_type": "execute_result"
    }
   ],
   "source": [
    "dat_val = {}\n",
    "\n",
    "for index, row in df_dat.iterrows():\n",
    "    p1 = int(row[0])\n",
    "    p2 = int(row[1])\n",
    "    key = (p1, p2)\n",
    "    dat_val[key] = row[\"truth\"]\n",
    "\n",
    "for index, row in df.iterrows():\n",
    "    p1 = int(row[0])\n",
    "    p2 = int(row[1])\n",
    "    key = (p1, p2)\n",
    "\n",
    "    df.at[index, \"diff\"] = row[\"truth\"] - dat_val[key]\n",
    "    df.at[index, \"p1\"] = subgraph.inverse_transform(p1)\n",
    "    df.at[index, \"p2\"] = subgraph.inverse_transform(p2)\n",
    "\n",
    "df = df.drop(df.columns[[1, 2]], axis=1)\n",
    "pd.set_option(\"max_rows\", None)\n",
    "\n",
    "df.head()"
   ]
  },
  {
   "cell_type": "markdown",
   "metadata": {},
   "source": [
    "In other words, which of these \"knows\" relations in the graph appears to be suspect, based on our rules plus the other evidence in the graph?\n",
    "\n",
    "Let's visualize a histogram of how the inferred probabilities are distributed:"
   ]
  },
  {
   "cell_type": "code",
   "execution_count": 20,
   "metadata": {},
   "outputs": [
    {
     "data": {
      "image/png": "[encoded data removed]",
      "text/plain": [
       "<Figure size 432x288 with 1 Axes>"
      ]
     },
     "metadata": {
      "needs_background": "light"
     },
     "output_type": "display_data"
    }
   ],
   "source": [
    "df[\"diff\"].hist();"
   ]
  },
  {
   "cell_type": "markdown",
   "metadata": {},
   "source": [
    "In most cases there is little or no difference (`0.0 <= d <= 0.2`) in the probabilities for the target relations.\n",
    "However, some appear to be off by a substantial (`-0.8`) amount, which indicates problems in that part of  our graph data.\n",
    "\n",
    "The following rows show where these `foaf:knows` annotations in the graph differs significantly from their truth values predicted by PSL:"
   ]
  },
  {
   "cell_type": "code",
   "execution_count": 21,
   "metadata": {
    "scrolled": true
   },
   "outputs": [
    {
     "data": {
      "text/html": [
       "<div>\n",
       "<style scoped>\n",
       "    .dataframe tbody tr th:only-of-type {\n",
       "        vertical-align: middle;\n",
       "    }\n",
       "\n",
       "    .dataframe tbody tr th {\n",
       "        vertical-align: top;\n",
       "    }\n",
       "\n",
       "    .dataframe thead th {\n",
       "        text-align: right;\n",
       "    }\n",
       "</style>\n",
       "<table border=\"1\" class=\"dataframe\">\n",
       "  <thead>\n",
       "    <tr style=\"text-align: right;\">\n",
       "      <th></th>\n",
       "      <th>predicate</th>\n",
       "      <th>truth</th>\n",
       "      <th>diff</th>\n",
       "      <th>p1</th>\n",
       "      <th>p2</th>\n",
       "    </tr>\n",
       "  </thead>\n",
       "  <tbody>\n",
       "    <tr>\n",
       "      <th>15</th>\n",
       "      <td>KNOWS</td>\n",
       "      <td>0.215396</td>\n",
       "      <td>-0.784604</td>\n",
       "      <td>http://example.org/stuff/person_12</td>\n",
       "      <td>http://example.org/stuff/person_21</td>\n",
       "    </tr>\n",
       "    <tr>\n",
       "      <th>16</th>\n",
       "      <td>KNOWS</td>\n",
       "      <td>0.256282</td>\n",
       "      <td>-0.743718</td>\n",
       "      <td>http://example.org/stuff/person_09</td>\n",
       "      <td>http://example.org/stuff/person_05</td>\n",
       "    </tr>\n",
       "    <tr>\n",
       "      <th>24</th>\n",
       "      <td>KNOWS</td>\n",
       "      <td>0.256440</td>\n",
       "      <td>-0.743560</td>\n",
       "      <td>http://example.org/stuff/person_05</td>\n",
       "      <td>http://example.org/stuff/person_09</td>\n",
       "    </tr>\n",
       "    <tr>\n",
       "      <th>25</th>\n",
       "      <td>KNOWS</td>\n",
       "      <td>0.245454</td>\n",
       "      <td>-0.754546</td>\n",
       "      <td>http://example.org/stuff/person_05</td>\n",
       "      <td>http://example.org/stuff/person_07</td>\n",
       "    </tr>\n",
       "    <tr>\n",
       "      <th>26</th>\n",
       "      <td>KNOWS</td>\n",
       "      <td>0.245359</td>\n",
       "      <td>-0.754641</td>\n",
       "      <td>http://example.org/stuff/person_07</td>\n",
       "      <td>http://example.org/stuff/person_05</td>\n",
       "    </tr>\n",
       "    <tr>\n",
       "      <th>33</th>\n",
       "      <td>KNOWS</td>\n",
       "      <td>0.231898</td>\n",
       "      <td>-0.768102</td>\n",
       "      <td>http://example.org/stuff/person_22</td>\n",
       "      <td>http://example.org/stuff/person_05</td>\n",
       "    </tr>\n",
       "    <tr>\n",
       "      <th>41</th>\n",
       "      <td>KNOWS</td>\n",
       "      <td>0.242894</td>\n",
       "      <td>-0.757106</td>\n",
       "      <td>http://example.org/stuff/person_12</td>\n",
       "      <td>http://example.org/stuff/person_06</td>\n",
       "    </tr>\n",
       "    <tr>\n",
       "      <th>67</th>\n",
       "      <td>KNOWS</td>\n",
       "      <td>0.232086</td>\n",
       "      <td>-0.767914</td>\n",
       "      <td>http://example.org/stuff/person_05</td>\n",
       "      <td>http://example.org/stuff/person_22</td>\n",
       "    </tr>\n",
       "    <tr>\n",
       "      <th>71</th>\n",
       "      <td>KNOWS</td>\n",
       "      <td>0.243224</td>\n",
       "      <td>-0.756776</td>\n",
       "      <td>http://example.org/stuff/person_06</td>\n",
       "      <td>http://example.org/stuff/person_12</td>\n",
       "    </tr>\n",
       "    <tr>\n",
       "      <th>89</th>\n",
       "      <td>KNOWS</td>\n",
       "      <td>0.209196</td>\n",
       "      <td>-0.790804</td>\n",
       "      <td>http://example.org/stuff/person_22</td>\n",
       "      <td>http://example.org/stuff/person_21</td>\n",
       "    </tr>\n",
       "    <tr>\n",
       "      <th>91</th>\n",
       "      <td>KNOWS</td>\n",
       "      <td>0.209068</td>\n",
       "      <td>-0.790932</td>\n",
       "      <td>http://example.org/stuff/person_21</td>\n",
       "      <td>http://example.org/stuff/person_22</td>\n",
       "    </tr>\n",
       "    <tr>\n",
       "      <th>114</th>\n",
       "      <td>KNOWS</td>\n",
       "      <td>0.215544</td>\n",
       "      <td>-0.784456</td>\n",
       "      <td>http://example.org/stuff/person_21</td>\n",
       "      <td>http://example.org/stuff/person_12</td>\n",
       "    </tr>\n",
       "  </tbody>\n",
       "</table>\n",
       "</div>"
      ],
      "text/plain": [
       "    predicate     truth      diff                                  p1  \\\n",
       "15      KNOWS  0.215396 -0.784604  http://example.org/stuff/person_12   \n",
       "16      KNOWS  0.256282 -0.743718  http://example.org/stuff/person_09   \n",
       "24      KNOWS  0.256440 -0.743560  http://example.org/stuff/person_05   \n",
       "25      KNOWS  0.245454 -0.754546  http://example.org/stuff/person_05   \n",
       "26      KNOWS  0.245359 -0.754641  http://example.org/stuff/person_07   \n",
       "33      KNOWS  0.231898 -0.768102  http://example.org/stuff/person_22   \n",
       "41      KNOWS  0.242894 -0.757106  http://example.org/stuff/person_12   \n",
       "67      KNOWS  0.232086 -0.767914  http://example.org/stuff/person_05   \n",
       "71      KNOWS  0.243224 -0.756776  http://example.org/stuff/person_06   \n",
       "89      KNOWS  0.209196 -0.790804  http://example.org/stuff/person_22   \n",
       "91      KNOWS  0.209068 -0.790932  http://example.org/stuff/person_21   \n",
       "114     KNOWS  0.215544 -0.784456  http://example.org/stuff/person_21   \n",
       "\n",
       "                                     p2  \n",
       "15   http://example.org/stuff/person_21  \n",
       "16   http://example.org/stuff/person_05  \n",
       "24   http://example.org/stuff/person_09  \n",
       "25   http://example.org/stuff/person_07  \n",
       "26   http://example.org/stuff/person_05  \n",
       "33   http://example.org/stuff/person_05  \n",
       "41   http://example.org/stuff/person_06  \n",
       "67   http://example.org/stuff/person_22  \n",
       "71   http://example.org/stuff/person_12  \n",
       "89   http://example.org/stuff/person_21  \n",
       "91   http://example.org/stuff/person_22  \n",
       "114  http://example.org/stuff/person_12  "
      ]
     },
     "execution_count": 21,
     "metadata": {},
     "output_type": "execute_result"
    }
   ],
   "source": [
    "df[df[\"diff\"] < -0.2]"
   ]
  },
  {
   "cell_type": "markdown",
   "metadata": {},
   "source": [
    "Speaking of [*human-in-the-loop*](https://derwen.ai/d/human-in-the-loop) practices for AI, using PSL along with a KG seems like a great way to leverage machine learning, so that the people can focus on parts of the graph that have the most uncertainty.\n",
    "And, therefore, probably provide the best ROI for investing time+cost into curation."
   ]
  },
  {
   "cell_type": "markdown",
   "metadata": {},
   "source": [
    "---\n",
    "\n",
    "## Exercises"
   ]
  },
  {
   "cell_type": "markdown",
   "metadata": {},
   "source": [
    "**Exercise 1:**\n",
    "\n",
    "Build a PSL model that tests the \"noodle vs. pancake\" rules used in an earlier example with our recipe KG.\n",
    "Which recipes should be annotated differently?"
   ]
  },
  {
   "cell_type": "markdown",
   "metadata": {},
   "source": [
    "**Exercise 2:**\n",
    "\n",
    "Try representing one of the other [PSL examples](https://github.com/linqs/psl-examples/) using RDF and `kglab`."
   ]
  }
 ],
 "metadata": {
  "kernelspec": {
   "display_name": "Python 3",
   "language": "python",
   "name": "python3"
  },
  "language_info": {
   "codemirror_mode": {
    "name": "ipython",
    "version": 3
   },
   "file_extension": ".py",
   "mimetype": "text/x-python",
   "name": "python",
   "nbconvert_exporter": "python",
   "pygments_lexer": "ipython3",
   "version": "3.7.4"
  }
 },
 "nbformat": 4,
 "nbformat_minor": 4
}
