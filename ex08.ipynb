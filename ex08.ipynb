{
 "cells": [
  {
   "cell_type": "markdown",
   "metadata": {},
   "source": [
    "#  Statistical Relational Learning with `pslpython`"
   ]
  },
  {
   "cell_type": "markdown",
   "metadata": {},
   "source": [
    "As we've seen there are several ways to work with graph-based data, including: SPARQL queries, graph algorithms traversals, ML embedding, etc.\n",
    "Each of these methods makes trade-offs in terms of:\n",
    "\n",
    "  * computational costs as the graph size scales\n",
    "  * robustness when there is uncertainty or conflicting information in the graph\n",
    "  * formalism (i.e., *analytic solutions*) vs. empirical approaches (i.e., data-driven, machine learning)\n",
    "\n",
    "One way to visualize some of these trade-offs is in the following diagram:\n",
    "\n",
    "<img src=\"https://github.com/DerwenAI/kglab/blob/main/docs/tradeoffs.png?raw=true\" width=\"400\"/>\n",
    "\n",
    "Note in the top/right corner of the diagram that a relatively formal category of graph-based approaches is called [*statistical relational learning*](https://www.cs.umd.edu/srl-book/).\n",
    "The gist is that so much of the *network analysis* that we want to perform can be describe mathematically as [*markov networks*](https://en.wikipedia.org/wiki/Markov_random_field), in terms of probabilistic models.\n",
    "Sometimes these can be quite computationally expensive; for example, hedge funds on Wall Street tend to burn lots of cloud computing on markov models.\n",
    "They are *robust* in terms of being able to work well even with lots of missing or conflicting data, and the *formalism* implies that we can infer mathematical guarantees from the analyis.\n",
    "That's quite the opposite of deep learning models, which are great at predicting sequences of things, but terrible at providing guarantees.\n",
    "\n",
    "\n",
    "Clearly, there's been much emphasis in industry recently that equates \"artificial intelligence\" with \"deep learning\", although we are also recognizing [*diminishing returns*](https://derwen.ai/s/zf43#33) for methods that rely purely on ever-larger data rates and ever-larger ML models.\n",
    "One path forward will be to combine machine learning with use of *structured knowledge* (i.e., KGs) such that we can avoid \"boiling the oceans\" with purely data-driven approaches when in so many use cases we can leverage domain expertise.\n",
    "\n",
    "In this secton we'll consider one form of statistical relational learning called [*probabilistic soft logic*](https://psl.linqs.org/) (PSL) which is essentially a kind of \"fuzzy logic\" for graphs that has interesting computational qualities.\n",
    "Whereas many kinds of formal graph analysis (e.g., \"traveling salesman problem\") are provably hard and quite expensive in practice, PSL can be solved with a *convex optimization* (e.g., like so many machine learning algorithms).\n",
    "\n",
    "Consider this: we can describe \"rules\" about nodes and relations in a KG, then assign probabilities to specific instances of those rules that are found within our graph.\n",
    "If the probabilities are all *zero* then the system is consistent.\n",
    "As some of the assigned probabilities are increased, then some of the rules become inconsistent.\n",
    "How high (i.e., optimal) of a set of probabilities can we assign while still keeping the system consistent?\n",
    "Alternatively, if we apply a set of rules, then how \"far away\" (probabilistically speaking) is a graph from being logically consistent?\n",
    "\n",
    "This comes in quite handy when we want to combine *semantic technologies* and *machine learning*, or rather when we have explicit rules plus lots of empirical data.\n",
    "Data quality is a persistent problem, so we can leverage PSL to identify which parts of the graph seem the least \"logically consistent\", and therefore need some review and curation."
   ]
  },
  {
   "cell_type": "markdown",
   "metadata": {},
   "source": [
    "## RDF representation of the \"simple acquaintances\" example"
   ]
  },
  {
   "cell_type": "markdown",
   "metadata": {},
   "source": [
    "One of the examples given for PSL is called [*simple acquaintances*](https://github.com/linqs/psl-examples/tree/master/simple-acquaintances), which uses a graph of some friends, where they live, what interests they share, and then infers who probably knows whom.\n",
    "Some people explicitly do or do not know each other, while other \"knows\" relations can be inferred based on whether two people have lived in the same place or share common interest.\n",
    "\n",
    "The objective is to build a PSL model for [*link prediction*](https://en.wikipedia.org/wiki/Link_prediction), to evaluate the annotations in the friend graph.\n",
    "In this case, we'll assume that the \"knows\" relations have been added from a questionable source (e.g., some third-party dataset) so we'll measure a subset of these relations and determine their likelihood.\n",
    "NB: this is really useful for cleaning up annotations in a large graph!\n",
    "\n",
    "First, let's load a KG which is an RDF representation of this example, based on a simple extension of the [`foaf`](http://www.foaf-project.org/) vocabulary:"
   ]
  },
  {
   "cell_type": "code",
   "execution_count": 1,
   "metadata": {},
   "outputs": [],
   "source": [
    "import kglab\n",
    "\n",
    "namespaces = {\n",
    "    \"acq\": \"http://example.org/stuff/\",\n",
    "    \"foaf\": \"http://xmlns.com/foaf/0.1/\",\n",
    "    \"rdfs\": \"http://www.w3.org/2000/01/rdf-schema#\",\n",
    "    }\n",
    "\n",
    "kg = kglab.KnowledgeGraph(\n",
    "    name = \"LINQS simple acquaintance example for PSL\",\n",
    "    base_uri = \"http://example.org/stuff/\",\n",
    "    language = \"en\",\n",
    "    namespaces = namespaces,\n",
    "    )\n",
    "\n",
    "kg.load_ttl(\"dat/acq.ttl\")"
   ]
  },
  {
   "cell_type": "markdown",
   "metadata": {},
   "source": [
    "Take a look at the `dat/acq.ttl` file to see the people and their relations.\n",
    "Here's a quick visualization of the graph:"
   ]
  },
  {
   "cell_type": "code",
   "execution_count": 2,
   "metadata": {},
   "outputs": [
    {
     "data": {
      "text/html": [
       "\n",
       "        <iframe\n",
       "            width=\"500px\"\n",
       "            height=\"500px\"\n",
       "            src=\"tmp.html\"\n",
       "            frameborder=\"0\"\n",
       "            allowfullscreen\n",
       "        ></iframe>\n",
       "        "
      ],
      "text/plain": [
       "<IPython.lib.display.IFrame at 0x12079fed0>"
      ]
     },
     "execution_count": 2,
     "metadata": {},
     "output_type": "execute_result"
    }
   ],
   "source": [
    "VIS_STYLE = {\n",
    "    \"foaf\": {\n",
    "        \"color\": \"orange\",\n",
    "        \"size\": 5,\n",
    "    },\n",
    "    \"acq\":{\n",
    "        \"color\": \"blue\",\n",
    "        \"size\": 30,\n",
    "    },\n",
    "}\n",
    "\n",
    "g = kg.vis_pyvis(notebook=True, style=VIS_STYLE)\n",
    "g.barnes_hut()\n",
    "g.show(\"tmp.html\")"
   ]
  },
  {
   "cell_type": "markdown",
   "metadata": {},
   "source": [
    "Also, let's serialize this in TTL/Turtle format, then view the resulting `foo.ttl` file to see the relations organized in a way that's probably more readable:"
   ]
  },
  {
   "cell_type": "code",
   "execution_count": 3,
   "metadata": {},
   "outputs": [],
   "source": [
    "kg.save_ttl(\"foo.ttl\")"
   ]
  },
  {
   "cell_type": "markdown",
   "metadata": {},
   "source": [
    "## Loading a PSL model\n",
    "\n",
    "Next, we'll use the (`pslpython`](https://pypi.org/project/pslpython/) library implemented in Python (atop Java core software) to define three *predicates* (i.e., relations – similar as in RDF) which are: `Neighbors`, `Likes`, `Knows`"
   ]
  },
  {
   "cell_type": "code",
   "execution_count": 4,
   "metadata": {},
   "outputs": [
    {
     "data": {
      "text/plain": [
       "<pslpython.model.Model at 0x106d155d0>"
      ]
     },
     "execution_count": 4,
     "metadata": {},
     "output_type": "execute_result"
    }
   ],
   "source": [
    "from pslpython.model import Model\n",
    "from pslpython.partition import Partition\n",
    "from pslpython.predicate import Predicate\n",
    "from pslpython.rule import Rule\n",
    "\n",
    "model = Model(\"simple acquaintances\")\n",
    "\n",
    "# add predicates\n",
    "predicate = Predicate(\"Neighbors\", closed=True, size=2)\n",
    "model.add_predicate(predicate)\n",
    "\n",
    "predicate = Predicate(\"Likes\", closed=True, size=2)\n",
    "model.add_predicate(predicate)\n",
    "\n",
    "predicate = Predicate(\"Knows\", closed=False, size=2)\n",
    "model.add_predicate(predicate)"
   ]
  },
  {
   "cell_type": "markdown",
   "metadata": {},
   "source": [
    "Next, we'll add a set of probabilistic [*rules*](https://psl.linqs.org/wiki/2.2.1/Rule-Specification.html), all with different weights applied:\n",
    "\n",
    "  1. \"Two people who live in the same place are **more** likely to know each other\"\n",
    "  2. \"Two people who don't live in the same place are **less** likely to know each other\"\n",
    "  3. \"Two people who share a common interest are **more** likely to know each other\"\n",
    "  4. \"Two people who both know a third person are **more** likely to know each other\"\n",
    "  5. \"Otherwise, any pair of people are **less** likely to know each other\""
   ]
  },
  {
   "cell_type": "code",
   "execution_count": 5,
   "metadata": {},
   "outputs": [
    {
     "data": {
      "text/plain": [
       "<pslpython.model.Model at 0x106d155d0>"
      ]
     },
     "execution_count": 5,
     "metadata": {},
     "output_type": "execute_result"
    }
   ],
   "source": [
    "model.add_rule(Rule(\"20: Neighbors(P1, L) & Neighbors(P2, L) & (P1 != P2) -> Knows(P1, P2) ^2\"))\n",
    "\n",
    "model.add_rule(Rule(\"5: Neighbors(P1, L1) & Neighbors(P2, L2) & (P1 != P2) & (L1 != L2) -> !Knows(P1, P2) ^2\"))\n",
    "\n",
    "model.add_rule(Rule(\"10: Likes(P1, L) & Likes(P2, L) & (P1 != P2) -> Knows(P1, P2) ^2\"))\n",
    "\n",
    "model.add_rule(Rule(\"5: Knows(P1, P2) & Knows(P2, P3) & (P1 != P3) -> Knows(P1, P3) ^2\"))\n",
    "\n",
    "model.add_rule(Rule(\"5: !Knows(P1, P2) ^2\"))"
   ]
  },
  {
   "cell_type": "markdown",
   "metadata": {},
   "source": [
    "Finally we'll add a *commutative* rule such that \"If Person 1 knows Person 2, then Person 2 also knows Person 1.\""
   ]
  },
  {
   "cell_type": "code",
   "execution_count": 6,
   "metadata": {},
   "outputs": [
    {
     "data": {
      "text/plain": [
       "<pslpython.model.Model at 0x106d155d0>"
      ]
     },
     "execution_count": 6,
     "metadata": {},
     "output_type": "execute_result"
    }
   ],
   "source": [
    "model.add_rule(Rule(\"Knows(P1, P2) = Knows(P2, P1) .\"))"
   ]
  },
  {
   "cell_type": "markdown",
   "metadata": {},
   "source": [
    "To initialize the model, we'll clear any pre-existing data from each of the predicates:"
   ]
  },
  {
   "cell_type": "code",
   "execution_count": 7,
   "metadata": {},
   "outputs": [],
   "source": [
    "for predicate in model.get_predicates().values():\n",
    "    predicate.clear_data()"
   ]
  },
  {
   "cell_type": "markdown",
   "metadata": {},
   "source": [
    "And we'll define a simple helper function, to format a unique URL within our `acq` vocabulary (a simple extension of `foaf`) based on the purely numeric identifiers used within PSL:"
   ]
  },
  {
   "cell_type": "code",
   "execution_count": 8,
   "metadata": {},
   "outputs": [],
   "source": [
    "def get_person_id (url):\n",
    "    return url.replace(\"http://example.org/stuff/person_\", \"\")"
   ]
  },
  {
   "cell_type": "markdown",
   "metadata": {},
   "source": [
    "Let's query our KG to populate data into the `Neighbors` predicate in the PSL model, based on `foaf:based_near` that represents living near the same locations:"
   ]
  },
  {
   "cell_type": "code",
   "execution_count": 9,
   "metadata": {
    "scrolled": true
   },
   "outputs": [],
   "source": [
    "predicate = model.get_predicate(\"Neighbors\")\n",
    "\n",
    "query = \"\"\"\n",
    "SELECT DISTINCT ?p1 ?p2\n",
    "  WHERE {\n",
    "      ?p1 foaf:based_near ?l .\n",
    "      ?p2 foaf:based_near ?l .\n",
    "  }\n",
    "  \"\"\"\n",
    "\n",
    "for row in kg.query(query):\n",
    "    p1 = get_person_id(row[0])\n",
    "    p2 = get_person_id(row[1])\n",
    "\n",
    "    if p1 != p2:\n",
    "        predicate.add_data_row(Partition.OBSERVATIONS, [p1, p2])"
   ]
  },
  {
   "cell_type": "markdown",
   "metadata": {},
   "source": [
    "Note: these data points are *observations*, i.e., empirical support for the probabilistic model.\n",
    "    \n",
    "Then let's query our KG to populate data into the `Likes` predicate in the PSL model, based on shared interests in `foaf:topic_interest` topics:"
   ]
  },
  {
   "cell_type": "code",
   "execution_count": 10,
   "metadata": {
    "scrolled": true
   },
   "outputs": [],
   "source": [
    "predicate = model.get_predicate(\"Likes\")\n",
    "    \n",
    "query = \"\"\"\n",
    "SELECT DISTINCT ?p1 ?p2\n",
    "  WHERE {\n",
    "      ?p1 foaf:topic_interest ?t .\n",
    "      ?p2 foaf:topic_interest ?t .\n",
    "  }\n",
    "  \"\"\"\n",
    "\n",
    "for row in kg.query(query):\n",
    "    p1 = get_person_id(row[0])\n",
    "    p2 = get_person_id(row[1])\n",
    "\n",
    "    if p1 != p2:\n",
    "        predicate.add_data_row(Partition.OBSERVATIONS, [p1, p2])"
   ]
  },
  {
   "cell_type": "markdown",
   "metadata": {},
   "source": [
    "Just for kicks, let's take a look at the internal representation of a PSL predicate, which is a `pandas` DataFrame:"
   ]
  },
  {
   "cell_type": "code",
   "execution_count": 11,
   "metadata": {},
   "outputs": [
    {
     "data": {
      "text/plain": [
       "{'_types': [<ArgType.UNIQUE_STRING_ID: 'UniqueStringID'>,\n",
       "  <ArgType.UNIQUE_STRING_ID: 'UniqueStringID'>],\n",
       " '_data': {<Partition.OBSERVATIONS: 'observations'>:       0   1    2\n",
       "  0    20  13  1.0\n",
       "  1    20   1  1.0\n",
       "  2    20   3  1.0\n",
       "  3    20  10  1.0\n",
       "  4    20  24  1.0\n",
       "  ..   ..  ..  ...\n",
       "  567   5  21  1.0\n",
       "  568  14  24  1.0\n",
       "  569   6  14  1.0\n",
       "  570   6  16  1.0\n",
       "  571   6  18  1.0\n",
       "  \n",
       "  [572 rows x 3 columns],\n",
       "  <Partition.TARGETS: 'targets'>: Empty DataFrame\n",
       "  Columns: [0, 1, 2]\n",
       "  Index: [],\n",
       "  <Partition.TRUTH: 'truth'>: Empty DataFrame\n",
       "  Columns: [0, 1, 2]\n",
       "  Index: []},\n",
       " '_name': 'LIKES',\n",
       " '_closed': True}"
      ]
     },
     "execution_count": 11,
     "metadata": {},
     "output_type": "execute_result"
    }
   ],
   "source": [
    "predicate = model.get_predicate(\"Likes\")\n",
    "predicate.__dict__"
   ]
  },
  {
   "cell_type": "markdown",
   "metadata": {},
   "source": [
    "Now we'll load data from the `dat/psl/knows_targets.txt` CSV file, which is a list of `foaf:knows` relations in our graph that we want to analyze.\n",
    "Each of these has an assumed value of `1.0` (true) or `0.0` (false).\n",
    "Our PSL analysis will assign probabilities for each so that we can compare which annotations appear to be suspect and require further review:"
   ]
  },
  {
   "cell_type": "code",
   "execution_count": 12,
   "metadata": {
    "scrolled": true
   },
   "outputs": [],
   "source": [
    "import csv\n",
    "import pandas as pd\n",
    "import rdflib as rdf\n",
    "\n",
    "targets = []\n",
    "rows_list = []\n",
    "predicate = model.get_predicate(\"Knows\")\n",
    "\n",
    "with open(\"dat/psl/knows_targets.txt\", \"r\") as f:\n",
    "    reader = csv.reader(f, delimiter=\"\\t\")\n",
    "    \n",
    "    for i, row in enumerate(reader):\n",
    "        p1, p2 = row\n",
    "        targets.append((p1, p2))\n",
    "    \n",
    "        p1_url = rdf.URIRef(\"http://example.org/stuff/person_\" + p1)\n",
    "        p2_url = rdf.URIRef(\"http://example.org/stuff/person_\" + p2)\n",
    "        \n",
    "        if (p1_url, kg.get_ns(\"foaf\").knows, p2_url) in kg._g:\n",
    "            truth = 1.0\n",
    "            predicate.add_data_row(Partition.TRUTH, [p1, p2], truth_value=truth)\n",
    "            predicate.add_data_row(Partition.TARGETS, [p1, p2])\n",
    "            rows_list.append({ 0: p1, 1: p2, \"truth\": truth})\n",
    "        elif (p1_url, kg.get_ns(\"acq\").wantsIntro, p2_url) in kg._g:\n",
    "            truth = 0.0\n",
    "            predicate.add_data_row(Partition.TRUTH, [p1, p2], truth_value=truth)\n",
    "            predicate.add_data_row(Partition.TARGETS, [p1, p2])\n",
    "            rows_list.append({ 0: p1, 1: p2, \"truth\": truth})\n",
    "        else:\n",
    "            print(\"UNKNOWN\", p1, p2)\n",
    "\n",
    "df_dat = pd.DataFrame(rows_list)   "
   ]
  },
  {
   "cell_type": "markdown",
   "metadata": {},
   "source": [
    "These data points are considered to be *ground atoms*, each with a *truth* value set initially.\n",
    "These are also our *targets* for which nodes in the graph to analyze based on the rules.\n",
    "\n",
    "Next, we'll add `foaf:knows` observations which are in the graph, although not among our set of targets.\n",
    "This provides more evidence for the probabilistic inference.\n",
    "Note that since RDF does not allow for representing probabilities on relations, we're using the `acq:wantsIntro` to represent a `foaf:knows` with a `0.0` probability:"
   ]
  },
  {
   "cell_type": "code",
   "execution_count": 13,
   "metadata": {
    "scrolled": true
   },
   "outputs": [],
   "source": [
    "predicate = model.get_predicate(\"Knows\")\n",
    "\n",
    "query = \"\"\"\n",
    "SELECT ?p1 ?p2\n",
    "  WHERE {\n",
    "      ?p1 foaf:knows ?p2 .\n",
    "  }\n",
    "  ORDER BY ?p1 ?p2\n",
    "  \"\"\"\n",
    "\n",
    "for row in kg.query(query):\n",
    "    p1 = get_person_id(row[0])\n",
    "    p2 = get_person_id(row[1])\n",
    "    \n",
    "    if (p1, p2) not in targets:\n",
    "        predicate.add_data_row(Partition.OBSERVATIONS, [p1, p2], truth_value=1.0)\n",
    "    \n",
    "query = \"\"\"\n",
    "SELECT ?p1 ?p2\n",
    "  WHERE {\n",
    "      ?p1 acq:wantsIntro ?p2 .\n",
    "  }\n",
    "  ORDER BY ?p1 ?p2\n",
    "  \"\"\"\n",
    "\n",
    "for row in kg.query(query):\n",
    "    p1 = get_person_id(row[0])\n",
    "    p2 = get_person_id(row[1])\n",
    "    \n",
    "    if (p1, p2) not in targets:\n",
    "        predicate.add_data_row(Partition.OBSERVATIONS, [p1, p2], truth_value=0.0)"
   ]
  },
  {
   "cell_type": "markdown",
   "metadata": {},
   "source": [
    "Now we're ready to optimize the PSL model – this may take a few minutes to run:"
   ]
  },
  {
   "cell_type": "code",
   "execution_count": 14,
   "metadata": {
    "scrolled": true
   },
   "outputs": [
    {
     "name": "stderr",
     "output_type": "stream",
     "text": [
      "6357 [pslpython.model PSL] INFO --- 0    [main] INFO  org.linqs.psl.cli.Launcher  - Running PSL CLI Version 2.2.2-5f9a472\n",
      "6680 [pslpython.model PSL] INFO --- 325  [main] INFO  org.linqs.psl.cli.Launcher  - Loading data\n",
      "6956 [pslpython.model PSL] INFO --- 601  [main] INFO  org.linqs.psl.cli.Launcher  - Data loading complete\n",
      "6958 [pslpython.model PSL] INFO --- 601  [main] INFO  org.linqs.psl.cli.Launcher  - Loading model from /var/folders/zz/2ffrqd5j7n52x67qd94h_r_h0000gp/T/psl-python/simple acquaintances/simple acquaintances.psl\n",
      "7148 [pslpython.model PSL] INFO --- 792  [main] INFO  org.linqs.psl.cli.Launcher  - Model loading complete\n",
      "7149 [pslpython.model PSL] INFO --- 792  [main] INFO  org.linqs.psl.cli.Launcher  - Starting inference with class: org.linqs.psl.application.inference.MPEInference\n",
      "7345 [pslpython.model PSL] INFO --- 989  [main] INFO  org.linqs.psl.application.inference.MPEInference  - Grounding out model.\n",
      "12252 [pslpython.model PSL] INFO --- 5897 [main] INFO  org.linqs.psl.application.inference.MPEInference  - Grounding complete.\n",
      "12607 [pslpython.model PSL] INFO --- 6252 [main] INFO  org.linqs.psl.application.inference.InferenceApplication  - Beginning inference.\n",
      "34579 [pslpython.model PSL] WARNING --- 28224 [main] WARN  org.linqs.psl.reasoner.admm.ADMMReasoner  - No feasible solution found. 114 constraints violated.\n",
      "34580 [pslpython.model PSL] INFO --- 28224 [main] INFO  org.linqs.psl.reasoner.admm.ADMMReasoner  - Optimization completed in 10796 iterations. Objective: 147031.39, Feasible: false, Primal res.: 0.1698383, Dual res.: 0.008167049\n",
      "34581 [pslpython.model PSL] INFO --- 28224 [main] INFO  org.linqs.psl.application.inference.InferenceApplication  - Inference complete.\n",
      "34582 [pslpython.model PSL] INFO --- 28224 [main] INFO  org.linqs.psl.application.inference.InferenceApplication  - Writing results to Database.\n",
      "34633 [pslpython.model PSL] INFO --- 28277 [main] INFO  org.linqs.psl.application.inference.InferenceApplication  - Results committed to database.\n",
      "34634 [pslpython.model PSL] INFO --- 28278 [main] INFO  org.linqs.psl.cli.Launcher  - Inference Complete\n"
     ]
    }
   ],
   "source": [
    "PSL_OPTIONS = {\n",
    "    \"log4j.threshold\": \"INFO\"\n",
    "}\n",
    "\n",
    "results = model.infer(additional_cli_optons=[], psl_config=PSL_OPTIONS)"
   ]
  },
  {
   "cell_type": "markdown",
   "metadata": {},
   "source": [
    "Let's examine the results.\n",
    "We'll get a `pandas` DataFrame describing the targets in the `Knows` predicate:"
   ]
  },
  {
   "cell_type": "code",
   "execution_count": 15,
   "metadata": {},
   "outputs": [
    {
     "data": {
      "text/html": [
       "<div>\n",
       "<style scoped>\n",
       "    .dataframe tbody tr th:only-of-type {\n",
       "        vertical-align: middle;\n",
       "    }\n",
       "\n",
       "    .dataframe tbody tr th {\n",
       "        vertical-align: top;\n",
       "    }\n",
       "\n",
       "    .dataframe thead th {\n",
       "        text-align: right;\n",
       "    }\n",
       "</style>\n",
       "<table border=\"1\" class=\"dataframe\">\n",
       "  <thead>\n",
       "    <tr style=\"text-align: right;\">\n",
       "      <th></th>\n",
       "      <th>0</th>\n",
       "      <th>1</th>\n",
       "      <th>truth</th>\n",
       "    </tr>\n",
       "  </thead>\n",
       "  <tbody>\n",
       "    <tr>\n",
       "      <th>0</th>\n",
       "      <td>13</td>\n",
       "      <td>7</td>\n",
       "      <td>0.003289</td>\n",
       "    </tr>\n",
       "    <tr>\n",
       "      <th>1</th>\n",
       "      <td>13</td>\n",
       "      <td>4</td>\n",
       "      <td>0.983951</td>\n",
       "    </tr>\n",
       "    <tr>\n",
       "      <th>2</th>\n",
       "      <td>14</td>\n",
       "      <td>3</td>\n",
       "      <td>0.986265</td>\n",
       "    </tr>\n",
       "    <tr>\n",
       "      <th>3</th>\n",
       "      <td>14</td>\n",
       "      <td>1</td>\n",
       "      <td>0.987136</td>\n",
       "    </tr>\n",
       "    <tr>\n",
       "      <th>4</th>\n",
       "      <td>14</td>\n",
       "      <td>0</td>\n",
       "      <td>0.998973</td>\n",
       "    </tr>\n",
       "  </tbody>\n",
       "</table>\n",
       "</div>"
      ],
      "text/plain": [
       "    0  1     truth\n",
       "0  13  7  0.003289\n",
       "1  13  4  0.983951\n",
       "2  14  3  0.986265\n",
       "3  14  1  0.987136\n",
       "4  14  0  0.998973"
      ]
     },
     "execution_count": 15,
     "metadata": {},
     "output_type": "execute_result"
    }
   ],
   "source": [
    "predicate = model.get_predicates()[\"KNOWS\"]\n",
    "df = results[predicate]\n",
    "df.head()"
   ]
  },
  {
   "cell_type": "markdown",
   "metadata": {},
   "source": [
    "Now we can compare the \"truth\" values from our targets, with their probabilities from the inference provided by the PSL model:"
   ]
  },
  {
   "cell_type": "code",
   "execution_count": 16,
   "metadata": {},
   "outputs": [
    {
     "data": {
      "text/html": [
       "<div>\n",
       "<style scoped>\n",
       "    .dataframe tbody tr th:only-of-type {\n",
       "        vertical-align: middle;\n",
       "    }\n",
       "\n",
       "    .dataframe tbody tr th {\n",
       "        vertical-align: top;\n",
       "    }\n",
       "\n",
       "    .dataframe thead th {\n",
       "        text-align: right;\n",
       "    }\n",
       "</style>\n",
       "<table border=\"1\" class=\"dataframe\">\n",
       "  <thead>\n",
       "    <tr style=\"text-align: right;\">\n",
       "      <th></th>\n",
       "      <th>0</th>\n",
       "      <th>1</th>\n",
       "      <th>truth</th>\n",
       "      <th>diff</th>\n",
       "    </tr>\n",
       "  </thead>\n",
       "  <tbody>\n",
       "    <tr>\n",
       "      <th>0</th>\n",
       "      <td>13</td>\n",
       "      <td>7</td>\n",
       "      <td>0.003289</td>\n",
       "      <td>0.003289</td>\n",
       "    </tr>\n",
       "    <tr>\n",
       "      <th>1</th>\n",
       "      <td>13</td>\n",
       "      <td>4</td>\n",
       "      <td>0.983951</td>\n",
       "      <td>-0.016049</td>\n",
       "    </tr>\n",
       "    <tr>\n",
       "      <th>2</th>\n",
       "      <td>14</td>\n",
       "      <td>3</td>\n",
       "      <td>0.986265</td>\n",
       "      <td>-0.013735</td>\n",
       "    </tr>\n",
       "    <tr>\n",
       "      <th>3</th>\n",
       "      <td>14</td>\n",
       "      <td>1</td>\n",
       "      <td>0.987136</td>\n",
       "      <td>-0.012864</td>\n",
       "    </tr>\n",
       "    <tr>\n",
       "      <th>4</th>\n",
       "      <td>14</td>\n",
       "      <td>0</td>\n",
       "      <td>0.998973</td>\n",
       "      <td>-0.001027</td>\n",
       "    </tr>\n",
       "    <tr>\n",
       "      <th>...</th>\n",
       "      <td>...</td>\n",
       "      <td>...</td>\n",
       "      <td>...</td>\n",
       "      <td>...</td>\n",
       "    </tr>\n",
       "    <tr>\n",
       "      <th>113</th>\n",
       "      <td>10</td>\n",
       "      <td>15</td>\n",
       "      <td>0.994999</td>\n",
       "      <td>-0.005001</td>\n",
       "    </tr>\n",
       "    <tr>\n",
       "      <th>114</th>\n",
       "      <td>11</td>\n",
       "      <td>19</td>\n",
       "      <td>0.981674</td>\n",
       "      <td>-0.018326</td>\n",
       "    </tr>\n",
       "    <tr>\n",
       "      <th>115</th>\n",
       "      <td>11</td>\n",
       "      <td>22</td>\n",
       "      <td>0.982146</td>\n",
       "      <td>-0.017854</td>\n",
       "    </tr>\n",
       "    <tr>\n",
       "      <th>116</th>\n",
       "      <td>12</td>\n",
       "      <td>17</td>\n",
       "      <td>0.005286</td>\n",
       "      <td>0.005286</td>\n",
       "    </tr>\n",
       "    <tr>\n",
       "      <th>117</th>\n",
       "      <td>12</td>\n",
       "      <td>10</td>\n",
       "      <td>0.988116</td>\n",
       "      <td>-0.011884</td>\n",
       "    </tr>\n",
       "  </tbody>\n",
       "</table>\n",
       "<p>118 rows × 4 columns</p>\n",
       "</div>"
      ],
      "text/plain": [
       "      0   1     truth      diff\n",
       "0    13   7  0.003289  0.003289\n",
       "1    13   4  0.983951 -0.016049\n",
       "2    14   3  0.986265 -0.013735\n",
       "3    14   1  0.987136 -0.012864\n",
       "4    14   0  0.998973 -0.001027\n",
       "..   ..  ..       ...       ...\n",
       "113  10  15  0.994999 -0.005001\n",
       "114  11  19  0.981674 -0.018326\n",
       "115  11  22  0.982146 -0.017854\n",
       "116  12  17  0.005286  0.005286\n",
       "117  12  10  0.988116 -0.011884\n",
       "\n",
       "[118 rows x 4 columns]"
      ]
     },
     "execution_count": 16,
     "metadata": {},
     "output_type": "execute_result"
    }
   ],
   "source": [
    "dat_val = {}\n",
    "\n",
    "for index, row in df_dat.iterrows():\n",
    "    p1 = row[0]\n",
    "    p2 = row[1]\n",
    "    key = (int(p1), int(p2))\n",
    "    dat_val[key] = row[\"truth\"]\n",
    "\n",
    "for index, row in df.iterrows():\n",
    "    p1 = row[0]\n",
    "    p2 = row[1]\n",
    "    key = (int(p1), int(p2))\n",
    "    df.at[index, \"diff\"] = row[\"truth\"] - dat_val[key]\n",
    "\n",
    "df"
   ]
  },
  {
   "cell_type": "markdown",
   "metadata": {},
   "source": [
    "In other words, which of these \"knows\" relations in the graph appears to be suspect, based on our rules plus the other evidence in the graph?\n",
    "\n",
    "Let's visualize a histogram of how the inferred probabilities are distributed:"
   ]
  },
  {
   "cell_type": "code",
   "execution_count": 17,
   "metadata": {},
   "outputs": [
    {
     "data": {
      "image/png": "[encoded data removed]",
      "text/plain": [
       "<Figure size 432x288 with 1 Axes>"
      ]
     },
     "metadata": {
      "needs_background": "light"
     },
     "output_type": "display_data"
    }
   ],
   "source": [
    "df[\"diff\"].hist();"
   ]
  },
  {
   "cell_type": "markdown",
   "metadata": {},
   "source": [
    "In most cases there is little or no difference (`0.0 <= d <= 0.2`) in the probabilities for the target relations.\n",
    "However, some appear to be off by a substantial (`-0.8`) amount, which indicates problems in that part of  our graph data.\n",
    "\n",
    "The following rows show where these `foaf:knows` annotations in the graph differs significantly from their truth values predicted by PSL:"
   ]
  },
  {
   "cell_type": "code",
   "execution_count": 18,
   "metadata": {},
   "outputs": [
    {
     "name": "stdout",
     "output_type": "stream",
     "text": [
      "?? acq:person_12 foaf:knows acq:person_6\n",
      "?? acq:person_22 foaf:knows acq:person_21\n",
      "?? acq:person_5 foaf:knows acq:person_22\n",
      "?? acq:person_6 foaf:knows acq:person_12\n",
      "?? acq:person_21 foaf:knows acq:person_12\n",
      "?? acq:person_21 foaf:knows acq:person_22\n",
      "?? acq:person_22 foaf:knows acq:person_5\n",
      "?? acq:person_7 foaf:knows acq:person_5\n",
      "?? acq:person_9 foaf:knows acq:person_5\n",
      "?? acq:person_5 foaf:knows acq:person_9\n",
      "?? acq:person_5 foaf:knows acq:person_7\n",
      "?? acq:person_12 foaf:knows acq:person_21\n"
     ]
    }
   ],
   "source": [
    "for index, row in df.iterrows():\n",
    "    p1 = row[0]\n",
    "    p2 = row[1]\n",
    "    diff = row[\"diff\"]\n",
    "    \n",
    "    if diff < -0.2:\n",
    "        print(\"?? acq:person_{} foaf:knows acq:person_{}\".format(int(row[0]), int(row[1])))"
   ]
  },
  {
   "cell_type": "markdown",
   "metadata": {},
   "source": [
    "Speaking of [*human-in-the-loop*](https://derwen.ai/d/human-in-the-loop) practices for AI, using PSL along with a KG seems like a great way to leverage machine learning, so that the people can focus on parts of the graph that have the most uncertainty.\n",
    "And, therefore, probably provide the best ROI for investing time+cost into curation."
   ]
  },
  {
   "cell_type": "markdown",
   "metadata": {},
   "source": [
    "---\n",
    "\n",
    "## Exercises"
   ]
  },
  {
   "cell_type": "markdown",
   "metadata": {},
   "source": [
    "**Exercise 1:**\n",
    "\n",
    "Build a PSL model that tests the \"noodle vs. pancake\" rules used in an earlier example with our recipe KG.\n",
    "Which recipes should be annotated differently?"
   ]
  },
  {
   "cell_type": "markdown",
   "metadata": {},
   "source": [
    "**Exercise 2:**\n",
    "\n",
    "Try representing one of the other [PSL examples](https://github.com/linqs/psl-examples/) using RDF and `kglab`."
   ]
  }
 ],
 "metadata": {
  "kernelspec": {
   "display_name": "Python 3",
   "language": "python",
   "name": "python3"
  },
  "language_info": {
   "codemirror_mode": {
    "name": "ipython",
    "version": 3
   },
   "file_extension": ".py",
   "mimetype": "text/x-python",
   "name": "python",
   "nbconvert_exporter": "python",
   "pygments_lexer": "ipython3",
   "version": "3.7.4"
  }
 },
 "nbformat": 4,
 "nbformat_minor": 4
}
