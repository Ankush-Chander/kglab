{
 "cells": [
  {
   "cell_type": "markdown",
   "metadata": {},
   "source": [
    "# Data Source\n",
    "\n",
    "Throughout this tutorial we'll work with data in the `recipes.csv` CSV file which comes from a [Kaggle dataset](https://www.kaggle.com/shuyangli94/food-com-recipes-and-user-interactions/metadata):\n",
    "\n",
    "> \"Food.com Recipes and Interactions\"  \n",
    "Shuyang Li  \n",
    "Kaggle (2019)  \n",
    "<https://doi.org/10.34740/kaggle/dsv/783630>"
   ]
  },
  {
   "cell_type": "markdown",
   "metadata": {},
   "source": [
    "One of the simpler recipes in that dataset is **anytime crepes** <https://www.food.com/recipe/327593>\n",
    "\n",
    "  * id: 327593\n",
    "  * minutes: 8\n",
    "  * ingredients: \"['egg', 'milk', 'whole wheat flour']\"\n",
    "  \n",
    "Let's load and examine that CSV data:"
   ]
  },
  {
   "cell_type": "code",
   "execution_count": 5,
   "metadata": {},
   "outputs": [
    {
     "data": {
      "text/html": [
       "<div>\n",
       "<style scoped>\n",
       "    .dataframe tbody tr th:only-of-type {\n",
       "        vertical-align: middle;\n",
       "    }\n",
       "\n",
       "    .dataframe tbody tr th {\n",
       "        vertical-align: top;\n",
       "    }\n",
       "\n",
       "    .dataframe thead th {\n",
       "        text-align: right;\n",
       "    }\n",
       "</style>\n",
       "<table border=\"1\" class=\"dataframe\">\n",
       "  <thead>\n",
       "    <tr style=\"text-align: right;\">\n",
       "      <th></th>\n",
       "      <th>name</th>\n",
       "      <th>id</th>\n",
       "      <th>minutes</th>\n",
       "      <th>contributor_id</th>\n",
       "      <th>submitted</th>\n",
       "      <th>tags</th>\n",
       "      <th>nutrition</th>\n",
       "      <th>n_steps</th>\n",
       "      <th>steps</th>\n",
       "      <th>description</th>\n",
       "      <th>ingredients</th>\n",
       "      <th>n_ingredients</th>\n",
       "    </tr>\n",
       "  </thead>\n",
       "  <tbody>\n",
       "    <tr>\n",
       "      <th>0</th>\n",
       "      <td>anytime crepes</td>\n",
       "      <td>327593</td>\n",
       "      <td>8</td>\n",
       "      <td>955857</td>\n",
       "      <td>2008-09-27</td>\n",
       "      <td>['15-minutes-or-less', 'time-to-make', 'course...</td>\n",
       "      <td>[149.6, 14.0, 0.0, 5.0, 20.0, 21.0, 2.0]</td>\n",
       "      <td>12</td>\n",
       "      <td>['mix all ingredients in a blender , or mix re...</td>\n",
       "      <td>from my friend linda, this is an oh-so-easy-an...</td>\n",
       "      <td>['egg', 'milk', 'whole wheat flour']</td>\n",
       "      <td>3</td>\n",
       "    </tr>\n",
       "  </tbody>\n",
       "</table>\n",
       "</div>"
      ],
      "text/plain": [
       "             name      id  minutes  contributor_id   submitted  \\\n",
       "0  anytime crepes  327593        8          955857  2008-09-27   \n",
       "\n",
       "                                                tags  \\\n",
       "0  ['15-minutes-or-less', 'time-to-make', 'course...   \n",
       "\n",
       "                                  nutrition  n_steps  \\\n",
       "0  [149.6, 14.0, 0.0, 5.0, 20.0, 21.0, 2.0]       12   \n",
       "\n",
       "                                               steps  \\\n",
       "0  ['mix all ingredients in a blender , or mix re...   \n",
       "\n",
       "                                         description  \\\n",
       "0  from my friend linda, this is an oh-so-easy-an...   \n",
       "\n",
       "                            ingredients  n_ingredients  \n",
       "0  ['egg', 'milk', 'whole wheat flour']              3  "
      ]
     },
     "execution_count": 5,
     "metadata": {},
     "output_type": "execute_result"
    }
   ],
   "source": [
    "import pandas as pd\n",
    "\n",
    "df = pd.read_csv(\"recipes.csv\")\n",
    "df.head()"
   ]
  },
  {
   "cell_type": "code",
   "execution_count": 6,
   "metadata": {},
   "outputs": [
    {
     "data": {
      "text/plain": [
       "name                                                 anytime crepes\n",
       "id                                                           327593\n",
       "minutes                                                           8\n",
       "contributor_id                                               955857\n",
       "submitted                                                2008-09-27\n",
       "tags              ['15-minutes-or-less', 'time-to-make', 'course...\n",
       "nutrition                  [149.6, 14.0, 0.0, 5.0, 20.0, 21.0, 2.0]\n",
       "n_steps                                                          12\n",
       "steps             ['mix all ingredients in a blender , or mix re...\n",
       "description       from my friend linda, this is an oh-so-easy-an...\n",
       "ingredients                    ['egg', 'milk', 'whole wheat flour']\n",
       "n_ingredients                                                     3\n",
       "Name: 0, dtype: object"
      ]
     },
     "execution_count": 6,
     "metadata": {},
     "output_type": "execute_result"
    }
   ],
   "source": [
    "recipe_row = df[df[\"name\"] == \"anytime crepes\"].iloc[0]\n",
    "recipe_row"
   ]
  },
  {
   "cell_type": "markdown",
   "metadata": {},
   "source": [
    "Given that we have a rich source of *linked data* to use, next we need to focus on *knowledge representation*. \n",
    "We'll use the [FoodOn](https://foodon.org/design/foodon-relations/) ontology to represent recipes, making use of two *controlled vocabularies*:\n",
    "\n",
    "  * <http://purl.org/heals/food/>\n",
    "  * <http://purl.org/heals/ingredient/>\n",
    "  \n",
    "The first one defines an entity called `Recipe` which has the full URL of <http://purl.org/heals/food/Recipe> and we'll use that to represent our recipe data from the *Food.com* dataset.\n",
    "  \n",
    "It's a common practice to abbreviate the first part of the URL for a controlled vocabular with a *prefix*.\n",
    "In this case we'll the prefix conventions used in previous publications related to this ontology:\n",
    "\n",
    "| URL | prefix |  \n",
    "| --- | --- |  \n",
    "| <http://purl.org/heals/food/> | `wtm:` |\n",
    "| <http://purl.org/heals/ingredient/> | `ind:` |"
   ]
  },
  {
   "cell_type": "markdown",
   "metadata": {},
   "source": [
    "Now let's represent the data using this ontology, starting with the three ingredients for the **anytime crepes** recipe:"
   ]
  },
  {
   "cell_type": "code",
   "execution_count": 7,
   "metadata": {},
   "outputs": [
    {
     "data": {
      "text/plain": [
       "['egg', 'milk', 'whole wheat flour']"
      ]
     },
     "execution_count": 7,
     "metadata": {},
     "output_type": "execute_result"
    }
   ],
   "source": [
    "ingredients = eval(recipe_row[\"ingredients\"])\n",
    "ingredients"
   ]
  },
  {
   "cell_type": "markdown",
   "metadata": {},
   "source": [
    "These ingredients become represented, respectively, as:\n",
    "\n",
    "  * `ind:ChickenEgg`\n",
    "  * `ind:CowMilk`\n",
    "  * `ind:WholeWheatFlour`"
   ]
  },
  {
   "cell_type": "markdown",
   "metadata": {},
   "source": [
    "---\n",
    "## Misc. Notes (not part of lesson)"
   ]
  },
  {
   "cell_type": "markdown",
   "metadata": {},
   "source": [
    "    <owl:NamedIndividual rdf:about=\"&ind;BananaBlueberryAlmondFlourMuffin\">\n",
    "        <rdf:type rdf:resource=\"&wtm;Recipe\"/>\n",
    "        <wtm:hasIngredient rdf:resource=\"&ind;AlmondMeal\"/>\n",
    "        <wtm:hasIngredient rdf:resource=\"&ind;AppleCiderVinegar\"/>\n",
    "        <wtm:hasIngredient rdf:resource=\"&ind;BakingSoda\"/>\n",
    "        <wtm:hasIngredient rdf:resource=\"&ind;Banana\"/>\n",
    "        <wtm:hasIngredient rdf:resource=\"&ind;Blueberry\"/>\n",
    "        <wtm:hasIngredient rdf:resource=\"&ind;ChickenEgg\"/>\n",
    "        <wtm:hasIngredient rdf:resource=\"&ind;Honey\"/>\n",
    "        <wtm:isRecommendedForCourse rdf:resource=\"&wtm;Dessert\"/>\n",
    "        <wtm:isRecommendedForMeal rdf:resource=\"&wtm;Breakfast\"/>\n",
    "        <wtm:isRecommendedForMeal rdf:resource=\"&wtm;Snack\"/>\n",
    "        <wtm:hasCookTime rdf:datatype=\"&xsd;integer\">60</wtm:hasCookTime>\n",
    "        <wtm:hasCookingTemperature rdf:datatype=\"&xsd;integer\">350</wtm:hasCookingTemperature>\n",
    "        <wtm:serves rdf:datatype=\"&xsd;integer\">4</wtm:serves>\n",
    "        <dct:source>Allrecipes.com, \"Banana Blueberry Almond Flour Muffins ,\" 2010. [Online]. Available: https://www.allrecipes.com/recipe/238012/banana-blueberry-almond-flour-muffins-gluten-free/?internalSource=hub%20recipe&amp;referringContentType=Search. [Accessed Nov.9, 2018]</dct:source>\n",
    "        <rdfs:label>banana blueberry almond flour muffin</rdfs:label>\n",
    "        <skos:definition>a banana blueberry muffin made with almond flour</skos:definition>\n",
    "        <skos:scopeNote>recipe</skos:scopeNote>\n",
    "        <prov:wasDerivedFrom>https://www.allrecipes.com/recipe/238012/banana-blueberry-almond-flour-muffins-gluten-free/?internalSource=hub%20recipe&amp;referringContentType=Search</prov:wasDerivedFrom>\n",
    "    </owl:NamedIndividual>"
   ]
  },
  {
   "cell_type": "markdown",
   "metadata": {},
   "source": [
    "```\n",
    ":x rdf:type wtm:Recipe ,\n",
    "  wtm:hasIngredient ind:ChickenEgg,\n",
    "  wtm:hasIngredient ind:CowMilk,\n",
    "  wtm:hasIngredient ind:WholeWheatFlour,\n",
    "  wtm:hasCookTime 8,\n",
    "  skos:definition \"anytime crepes\",\n",
    "  dct:source <https://www.food.com/recipe/327593>\n",
    "  ;\n",
    "```"
   ]
  }
 ],
 "metadata": {
  "kernelspec": {
   "display_name": "Python 3",
   "language": "python",
   "name": "python3"
  },
  "language_info": {
   "codemirror_mode": {
    "name": "ipython",
    "version": 3
   },
   "file_extension": ".py",
   "mimetype": "text/x-python",
   "name": "python",
   "nbconvert_exporter": "python",
   "pygments_lexer": "ipython3",
   "version": "3.7.4"
  }
 },
 "nbformat": 4,
 "nbformat_minor": 4
}
