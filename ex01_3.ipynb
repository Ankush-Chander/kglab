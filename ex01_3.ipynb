{
 "cells": [
  {
   "cell_type": "markdown",
   "metadata": {},
   "source": [
    "# Interactive graph visualization with `pyvis`\n",
    "\n",
    "First, let's visualize a small graph using the popular `pyvis` library:"
   ]
  },
  {
   "cell_type": "code",
   "execution_count": 1,
   "metadata": {},
   "outputs": [],
   "source": [
    "from pyvis.network import Network"
   ]
  },
  {
   "cell_type": "code",
   "execution_count": 2,
   "metadata": {},
   "outputs": [
    {
     "data": {
      "text/html": [
       "\n",
       "        <iframe\n",
       "            width=\"500px\"\n",
       "            height=\"500px\"\n",
       "            src=\"tmp.html\"\n",
       "            frameborder=\"0\"\n",
       "            allowfullscreen\n",
       "        ></iframe>\n",
       "        "
      ],
      "text/plain": [
       "<IPython.lib.display.IFrame at 0x1152d5b10>"
      ]
     },
     "execution_count": 2,
     "metadata": {},
     "output_type": "execute_result"
    }
   ],
   "source": [
    "g = Network(notebook=True)\n",
    "g.force_atlas_2based()\n",
    "\n",
    "g.add_node(0, label=\"foo\", title=\"This is FOO\", color=\"orange\", size=9)\n",
    "g.add_node(1, label=\"bar\", title=\"Here is BAR\", color=\"blue\", size=5)\n",
    "g.add_node(2, label=\"baz\", title=\"There is BAZ\", color=\"green\", size=3)\n",
    "\n",
    "g.add_edge(0, 1, label=\"xyzzy\", color=\"gray\")\n",
    "g.add_edge(0, 2, label=\"fubar\", color=\"red\")\n",
    "\n",
    "g.show(\"tmp.html\")"
   ]
  },
  {
   "cell_type": "markdown",
   "metadata": {},
   "source": [
    "---"
   ]
  },
  {
   "cell_type": "markdown",
   "metadata": {},
   "source": [
    "## Graph visualization with `kglab`\n",
    "\n",
    "Now let's load a KG to visualize:"
   ]
  },
  {
   "cell_type": "code",
   "execution_count": 3,
   "metadata": {},
   "outputs": [],
   "source": [
    "import kglab\n",
    "\n",
    "kg = kglab.KnowledgeGraph()\n",
    "kg.load_ttl(\"tmp.ttl\")"
   ]
  },
  {
   "cell_type": "markdown",
   "metadata": {},
   "source": [
    "Then construct a `pyvis` interactive visualization from the triples in the KG:"
   ]
  },
  {
   "cell_type": "code",
   "execution_count": 5,
   "metadata": {
    "collapsed": true,
    "jupyter": {
     "outputs_hidden": true
    }
   },
   "outputs": [
    {
     "data": {
      "text/html": [
       "\n",
       "        <iframe\n",
       "            width=\"500px\"\n",
       "            height=\"500px\"\n",
       "            src=\"tmp.html\"\n",
       "            frameborder=\"0\"\n",
       "            allowfullscreen\n",
       "        ></iframe>\n",
       "        "
      ],
      "text/plain": [
       "<IPython.lib.display.IFrame at 0x118b0f7d0>"
      ]
     },
     "execution_count": 5,
     "metadata": {},
     "output_type": "execute_result"
    }
   ],
   "source": [
    "VIS_STYLE = {\n",
    "    \"wtm\": {\n",
    "        \"color\": \"orange\",\n",
    "        \"size\": 40,\n",
    "    },\n",
    "    \"ind\":{\n",
    "        \"color\": \"blue\",\n",
    "        \"size\": 30,\n",
    "    },\n",
    "}\n",
    "\n",
    "g = kg.vis_pyvis(notebook=True, style=VIS_STYLE)\n",
    "g.barnes_hut()\n",
    "g.show(\"tmp.html\")"
   ]
  },
  {
   "cell_type": "markdown",
   "metadata": {},
   "source": [
    "---\n",
    "WIP: integrating `grave` as simpler visualization option"
   ]
  },
  {
   "cell_type": "code",
   "execution_count": 16,
   "metadata": {},
   "outputs": [],
   "source": [
    "\n",
    "kg = kglab.KnowledgeGraph()\n",
    "g = kg.vis_grave()\n",
    "\n",
    "#g.add_edge(\"A\", \"B\", weight=1)\n",
    "#g.add_edge(\"A\", \"C\", weight=2)\n",
    "\n",
    "g.add_node(\"foo\") #, title=\"This is FOO\", color=\"orange\", size=9)\n",
    "g.add_node(\"bar\") #, title=\"Here is BAR\", color=\"blue\", size=5)\n",
    "g.add_node(\"baz\") #, title=\"There is BAZ\", color=\"green\", size=3)\n",
    "\n",
    "g.add_edge(\"foo\", \"bar\") #, label=\"xyzzy\", color=\"gray\")\n",
    "g.add_edge(\"foo\", \"baz\") #, label=\"fubar\", color=\"red\")\n",
    "\n",
    "import networkx as nx\n",
    "\n",
    "attr = {\n",
    "    (0, 1): \"xyzzy\",\n",
    "    (1, 2): \"fubar\"\n",
    "}\n",
    "\n",
    "nx.set_edge_attributes(g, attr, \"label\")"
   ]
  },
  {
   "cell_type": "code",
   "execution_count": 17,
   "metadata": {},
   "outputs": [
    {
     "data": {
      "image/png": "[encoded data removed]",
      "text/plain": [
       "<Figure size 432x288 with 1 Axes>"
      ]
     },
     "metadata": {
      "needs_background": "light"
     },
     "output_type": "display_data"
    }
   ],
   "source": [
    "import matplotlib.pyplot as plt\n",
    "from grave import plot_network\n",
    "\n",
    "plot_network(g)\n",
    "plt.show()"
   ]
  }
 ],
 "metadata": {
  "kernelspec": {
   "display_name": "Python 3",
   "language": "python",
   "name": "python3"
  },
  "language_info": {
   "codemirror_mode": {
    "name": "ipython",
    "version": 3
   },
   "file_extension": ".py",
   "mimetype": "text/x-python",
   "name": "python",
   "nbconvert_exporter": "python",
   "pygments_lexer": "ipython3",
   "version": "3.7.4"
  }
 },
 "nbformat": 4,
 "nbformat_minor": 4
}
