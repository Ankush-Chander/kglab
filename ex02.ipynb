{
 "cells": [
  {
   "cell_type": "markdown",
   "metadata": {},
   "source": [
    "# Leveraging the `kglab` abstraction layer\n",
    "\n",
    "Let's try the previous examples – i.e., building a simple recipe KG – again, but this time using the [`kglab`](https://github.com/DerwenAI/kglab) library to make things a wee bit easier..."
   ]
  },
  {
   "cell_type": "code",
   "execution_count": 1,
   "metadata": {},
   "outputs": [],
   "source": [
    "import kglab\n",
    "\n",
    "namespaces = {\n",
    "    \"wtm\": \"http://purl.org/heals/food/\",\n",
    "    \"ind\": \"http://purl.org/heals/ingredient/\",\n",
    "    }\n",
    "\n",
    "kg = kglab.KnowledgeGraph(\n",
    "    name = \"A recipe KG example based on Food.com\",\n",
    "    base_uri = \"https://www.food.com/recipe/\",\n",
    "    language = \"en\",\n",
    "    namespaces = namespaces,\n",
    "    )"
   ]
  },
  {
   "cell_type": "markdown",
   "metadata": {},
   "source": [
    "Once we have the `kg` object instantiated, we can use its short-cuts for the food-related vocabularies.\n",
    "Then construct the graph from a sequence of triples:"
   ]
  },
  {
   "cell_type": "code",
   "execution_count": 2,
   "metadata": {},
   "outputs": [],
   "source": [
    "import rdflib as rdf\n",
    "from rdflib.namespace import RDF, XSD\n",
    "\n",
    "node = rdf.URIRef(\"https://www.food.com/recipe/327593\")\n",
    "\n",
    "kg.add(node, RDF.type, kg.get_ns(\"wtm\").Recipe)\n",
    "kg.add(node, kg.get_ns(\"wtm\").hasCookTime, rdf.Literal(\"8\", datatype=XSD.integer))\n",
    "kg.add(node, kg.get_ns(\"wtm\").hasIngredient, kg.get_ns(\"ind\").ChickenEgg)\n",
    "kg.add(node, kg.get_ns(\"wtm\").hasIngredient, kg.get_ns(\"ind\").CowMilk)\n",
    "kg.add(node, kg.get_ns(\"wtm\").hasIngredient, kg.get_ns(\"ind\").WholeWheatFlour)"
   ]
  },
  {
   "cell_type": "markdown",
   "metadata": {},
   "source": [
    "Iterating through these triples shows their full URLs:"
   ]
  },
  {
   "cell_type": "code",
   "execution_count": 3,
   "metadata": {},
   "outputs": [
    {
     "name": "stdout",
     "output_type": "stream",
     "text": [
      "https://www.food.com/recipe/327593 http://www.w3.org/1999/02/22-rdf-syntax-ns#type http://purl.org/heals/food/Recipe\n",
      "https://www.food.com/recipe/327593 http://purl.org/heals/food/hasIngredient http://purl.org/heals/ingredient/ChickenEgg\n",
      "https://www.food.com/recipe/327593 http://purl.org/heals/food/hasCookTime 8\n",
      "https://www.food.com/recipe/327593 http://purl.org/heals/food/hasIngredient http://purl.org/heals/ingredient/WholeWheatFlour\n",
      "https://www.food.com/recipe/327593 http://purl.org/heals/food/hasIngredient http://purl.org/heals/ingredient/CowMilk\n"
     ]
    }
   ],
   "source": [
    "for s, p, o in kg._g:\n",
    "    print(s, p, o)"
   ]
  },
  {
   "cell_type": "markdown",
   "metadata": {},
   "source": [
    "We can serialize the graph in N3 format to a string, as another way to exam the triples:"
   ]
  },
  {
   "cell_type": "code",
   "execution_count": 4,
   "metadata": {},
   "outputs": [
    {
     "name": "stdout",
     "output_type": "stream",
     "text": [
      "@prefix ind: <http://purl.org/heals/ingredient/> .\n",
      "@prefix wtm: <http://purl.org/heals/food/> .\n",
      "@prefix xsd: <http://www.w3.org/2001/XMLSchema#> .\n",
      "\n",
      "<https://www.food.com/recipe/327593> a wtm:Recipe ;\n",
      "    wtm:hasCookTime 8 ;\n",
      "    wtm:hasIngredient ind:ChickenEgg,\n",
      "        ind:CowMilk,\n",
      "        ind:WholeWheatFlour .\n",
      "\n",
      "\n"
     ]
    }
   ],
   "source": [
    "s = kg._g.serialize(format=\"n3\")\n",
    "print(s.decode(\"utf8\"))"
   ]
  },
  {
   "cell_type": "markdown",
   "metadata": {},
   "source": [
    "Overall, with the `kglab` library the KG serialization to multiple formats (Turtle, XML, JSON-LD, etc.) becomes much simpler:"
   ]
  },
  {
   "cell_type": "code",
   "execution_count": 5,
   "metadata": {},
   "outputs": [],
   "source": [
    "kg.save_ttl(\"tmp.ttl\")"
   ]
  },
  {
   "cell_type": "code",
   "execution_count": 6,
   "metadata": {},
   "outputs": [],
   "source": [
    "kg.save_ttl(\"tmp.xml\", format=\"xml\")"
   ]
  },
  {
   "cell_type": "code",
   "execution_count": 7,
   "metadata": {},
   "outputs": [],
   "source": [
    "kg.save_jsonld(\"tmp.jsonld\")"
   ]
  },
  {
   "cell_type": "markdown",
   "metadata": {},
   "source": [
    "Try opening these files to confirm their serialized contents."
   ]
  },
  {
   "cell_type": "markdown",
   "metadata": {},
   "source": [
    "Next, we'll use the [Parquet](https://parquet.apache.org/) format for *columnar storage*.\n",
    "Use of this technology has been especially effective for Big Data frameworks handling data management and analytics efficiently.\n",
    "It's simple to *partitioned* into multiple files (e.g., for distributed processing per partition) and the columns can be selectively decompressed on file reads (e.g., for [*predicate pushdown*](https://medium.com/microsoftazure/data-at-scale-learn-how-predicate-pushdown-will-save-you-money-7063b80878d7) optimizations)."
   ]
  },
  {
   "cell_type": "code",
   "execution_count": 8,
   "metadata": {},
   "outputs": [],
   "source": [
    "kg.save_parquet(\"tmp.parquet\")"
   ]
  },
  {
   "cell_type": "markdown",
   "metadata": {},
   "source": [
    "Let's compare the relative files sizes for these formats:"
   ]
  },
  {
   "cell_type": "code",
   "execution_count": 9,
   "metadata": {},
   "outputs": [
    {
     "data": {
      "text/html": [
       "<div>\n",
       "<style scoped>\n",
       "    .dataframe tbody tr th:only-of-type {\n",
       "        vertical-align: middle;\n",
       "    }\n",
       "\n",
       "    .dataframe tbody tr th {\n",
       "        vertical-align: top;\n",
       "    }\n",
       "\n",
       "    .dataframe thead th {\n",
       "        text-align: right;\n",
       "    }\n",
       "</style>\n",
       "<table border=\"1\" class=\"dataframe\">\n",
       "  <thead>\n",
       "    <tr style=\"text-align: right;\">\n",
       "      <th></th>\n",
       "      <th>file_path</th>\n",
       "      <th>file_size</th>\n",
       "    </tr>\n",
       "  </thead>\n",
       "  <tbody>\n",
       "    <tr>\n",
       "      <th>0</th>\n",
       "      <td>tmp.jsonld</td>\n",
       "      <td>779</td>\n",
       "    </tr>\n",
       "    <tr>\n",
       "      <th>1</th>\n",
       "      <td>tmp.ttl</td>\n",
       "      <td>314</td>\n",
       "    </tr>\n",
       "    <tr>\n",
       "      <th>2</th>\n",
       "      <td>tmp.xml</td>\n",
       "      <td>667</td>\n",
       "    </tr>\n",
       "    <tr>\n",
       "      <th>3</th>\n",
       "      <td>tmp.parquet</td>\n",
       "      <td>3632</td>\n",
       "    </tr>\n",
       "  </tbody>\n",
       "</table>\n",
       "</div>"
      ],
      "text/plain": [
       "     file_path  file_size\n",
       "0   tmp.jsonld        779\n",
       "1      tmp.ttl        314\n",
       "2      tmp.xml        667\n",
       "3  tmp.parquet       3632"
      ]
     },
     "execution_count": 9,
     "metadata": {},
     "output_type": "execute_result"
    }
   ],
   "source": [
    "import pandas as pd\n",
    "import os\n",
    "\n",
    "file_paths = [\"tmp.jsonld\", \"tmp.ttl\", \"tmp.xml\", \"tmp.parquet\"]\n",
    "file_sizes = [os.path.getsize(file_path) for file_path in file_paths]\n",
    "\n",
    "df = pd.DataFrame({\"file_path\": file_paths, \"file_size\": file_sizes})\n",
    "df"
   ]
  },
  {
   "cell_type": "markdown",
   "metadata": {},
   "source": [
    "Parquet uses compression based on a \"dictionary\" approach, so it added overhead for small files such as this KG.\n",
    "We'll revisit this comparison across file formats again with a larger KG."
   ]
  },
  {
   "cell_type": "markdown",
   "metadata": {},
   "source": [
    "---\n",
    "\n",
    "## Exercises"
   ]
  },
  {
   "cell_type": "markdown",
   "metadata": {},
   "source": [
    "**Exercise 1:**\n",
    "    \n",
    "Using the `kglab` library, extend the graph by adding another recipe, such as *German Egg Pancakes* <https://www.food.com/recipe/406738>  then serialize out to the three file formats again.\n",
    "How do the relative file sizes compare as the size of the graph grows?"
   ]
  }
 ],
 "metadata": {
  "kernelspec": {
   "display_name": "Python 3",
   "language": "python",
   "name": "python3"
  },
  "language_info": {
   "codemirror_mode": {
    "name": "ipython",
    "version": 3
   },
   "file_extension": ".py",
   "mimetype": "text/x-python",
   "name": "python",
   "nbconvert_exporter": "python",
   "pygments_lexer": "ipython3",
   "version": "3.7.4"
  }
 },
 "nbformat": 4,
 "nbformat_minor": 4
}
