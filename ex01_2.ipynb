{
 "cells": [
  {
   "cell_type": "markdown",
   "metadata": {},
   "source": [
    "# Leveraging the `kglab` abstraction layer\n",
    "\n",
    "Let's try this again -- building a KG -- but this time using the `kglab` library to make things a wee bit easier..."
   ]
  },
  {
   "cell_type": "code",
   "execution_count": 1,
   "metadata": {},
   "outputs": [],
   "source": [
    "import kglab\n",
    "\n",
    "namespaces = {\n",
    "    \"wtm\": \"http://purl.org/heals/food/\",\n",
    "    \"ind\": \"http://purl.org/heals/ingredient/\",\n",
    "    }\n",
    "\n",
    "kg = kglab.KnowledgeGraph(\n",
    "    name = \"A recipe KG example based on Food.com\",\n",
    "    base_uri = \"https://www.food.com/recipe/\",\n",
    "    language = \"en\",\n",
    "    namespaces = namespaces,\n",
    "    )"
   ]
  },
  {
   "cell_type": "code",
   "execution_count": 2,
   "metadata": {},
   "outputs": [],
   "source": [
    "import rdflib as rdf\n",
    "from rdflib.namespace import RDF, XSD"
   ]
  },
  {
   "cell_type": "code",
   "execution_count": 3,
   "metadata": {},
   "outputs": [],
   "source": [
    "node = rdf.URIRef(\"https://www.food.com/recipe/327593\")\n",
    "\n",
    "kg.add(node, RDF.type, kg.get_ns(\"wtm\").Recipe)\n",
    "kg.add(node, kg.get_ns(\"wtm\").hasCookTime, rdf.Literal(\"8\", datatype=XSD.integer))\n",
    "kg.add(node, kg.get_ns(\"wtm\").hasIngredient, kg.get_ns(\"ind\").ChickenEgg)\n",
    "kg.add(node, kg.get_ns(\"wtm\").hasIngredient, kg.get_ns(\"ind\").CowMilk)\n",
    "kg.add(node, kg.get_ns(\"wtm\").hasIngredient, kg.get_ns(\"ind\").WholeWheatFlour)"
   ]
  },
  {
   "cell_type": "code",
   "execution_count": 4,
   "metadata": {},
   "outputs": [
    {
     "name": "stdout",
     "output_type": "stream",
     "text": [
      "https://www.food.com/recipe/327593 http://purl.org/heals/food/hasIngredient http://purl.org/heals/ingredient/ChickenEgg\n",
      "https://www.food.com/recipe/327593 http://purl.org/heals/food/hasCookTime 8\n",
      "https://www.food.com/recipe/327593 http://purl.org/heals/food/hasIngredient http://purl.org/heals/ingredient/CowMilk\n",
      "https://www.food.com/recipe/327593 http://purl.org/heals/food/hasIngredient http://purl.org/heals/ingredient/WholeWheatFlour\n",
      "https://www.food.com/recipe/327593 http://www.w3.org/1999/02/22-rdf-syntax-ns#type http://purl.org/heals/food/Recipe\n"
     ]
    }
   ],
   "source": [
    "for s, p, o in kg._g:\n",
    "    print(s, p, o)"
   ]
  },
  {
   "cell_type": "code",
   "execution_count": 5,
   "metadata": {},
   "outputs": [
    {
     "name": "stdout",
     "output_type": "stream",
     "text": [
      "@prefix dc: <https://purl.org/dc/terms/> .\n",
      "@prefix dct: <https://purl.org/dc/dcmitype/> .\n",
      "@prefix ind: <http://purl.org/heals/ingredient/> .\n",
      "@prefix owl: <https://www.w3.org/2002/07/owl#> .\n",
      "@prefix rdf: <http://www.w3.org/1999/02/22-rdf-syntax-ns#> .\n",
      "@prefix rdfs: <http://www.w3.org/2000/01/rdf-schema#> .\n",
      "@prefix skos: <https://www.w3.org/2004/02/skos/core#> .\n",
      "@prefix wtm: <http://purl.org/heals/food/> .\n",
      "@prefix xml: <http://www.w3.org/XML/1998/namespace> .\n",
      "@prefix xsd: <http://www.w3.org/2001/XMLSchema#> .\n",
      "\n",
      "<https://www.food.com/recipe/327593> a wtm:Recipe ;\n",
      "    wtm:hasCookTime 8 ;\n",
      "    wtm:hasIngredient ind:ChickenEgg,\n",
      "        ind:CowMilk,\n",
      "        ind:WholeWheatFlour .\n",
      "\n",
      "\n"
     ]
    }
   ],
   "source": [
    "s = kg._g.serialize(format=\"n3\")\n",
    "print(s.decode(\"utf8\"))"
   ]
  },
  {
   "cell_type": "markdown",
   "metadata": {},
   "source": [
    "Then the serialization becomes much simpler:"
   ]
  },
  {
   "cell_type": "code",
   "execution_count": 6,
   "metadata": {},
   "outputs": [],
   "source": [
    "kg.save_ttl(\"tmp.ttl\")"
   ]
  },
  {
   "cell_type": "code",
   "execution_count": 7,
   "metadata": {},
   "outputs": [],
   "source": [
    "kg.save_jsonld(\"tmp.jsonld\")"
   ]
  },
  {
   "cell_type": "markdown",
   "metadata": {},
   "source": [
    "Next, we'll use the [Parquet](https://parquet.apache.org/) format for *columnar storage*.\n",
    "This has been especially effective for Big Data frameworks handling data management and analytics effeciently."
   ]
  },
  {
   "cell_type": "code",
   "execution_count": 8,
   "metadata": {},
   "outputs": [],
   "source": [
    "kg.save_parquet(\"tmp.parquet\")"
   ]
  },
  {
   "cell_type": "code",
   "execution_count": 9,
   "metadata": {},
   "outputs": [
    {
     "data": {
      "text/html": [
       "<div>\n",
       "<style scoped>\n",
       "    .dataframe tbody tr th:only-of-type {\n",
       "        vertical-align: middle;\n",
       "    }\n",
       "\n",
       "    .dataframe tbody tr th {\n",
       "        vertical-align: top;\n",
       "    }\n",
       "\n",
       "    .dataframe thead th {\n",
       "        text-align: right;\n",
       "    }\n",
       "</style>\n",
       "<table border=\"1\" class=\"dataframe\">\n",
       "  <thead>\n",
       "    <tr style=\"text-align: right;\">\n",
       "      <th></th>\n",
       "      <th>file_path</th>\n",
       "      <th>file_size</th>\n",
       "    </tr>\n",
       "  </thead>\n",
       "  <tbody>\n",
       "    <tr>\n",
       "      <th>0</th>\n",
       "      <td>tmp.jsonld</td>\n",
       "      <td>779</td>\n",
       "    </tr>\n",
       "    <tr>\n",
       "      <th>1</th>\n",
       "      <td>tmp.ttl</td>\n",
       "      <td>680</td>\n",
       "    </tr>\n",
       "    <tr>\n",
       "      <th>2</th>\n",
       "      <td>tmp.parquet</td>\n",
       "      <td>3631</td>\n",
       "    </tr>\n",
       "  </tbody>\n",
       "</table>\n",
       "</div>"
      ],
      "text/plain": [
       "     file_path  file_size\n",
       "0   tmp.jsonld        779\n",
       "1      tmp.ttl        680\n",
       "2  tmp.parquet       3631"
      ]
     },
     "execution_count": 9,
     "metadata": {},
     "output_type": "execute_result"
    }
   ],
   "source": [
    "import pandas as pd\n",
    "import os\n",
    "\n",
    "file_paths = [\"tmp.jsonld\", \"tmp.ttl\", \"tmp.parquet\"]\n",
    "file_sizes = [os.path.getsize(file_path) for file_path in file_paths]\n",
    "\n",
    "df = pd.DataFrame({\"file_path\": file_paths, \"file_size\": file_sizes})\n",
    "df"
   ]
  },
  {
   "cell_type": "markdown",
   "metadata": {},
   "source": [
    "Parquet uses compression based on a \"dictionary\" approach, so it added overhead for small files such as this KG.\n",
    "We'll revisit this comparison across file formats again with a larger KG."
   ]
  }
 ],
 "metadata": {
  "kernelspec": {
   "display_name": "Python 3",
   "language": "python",
   "name": "python3"
  },
  "language_info": {
   "codemirror_mode": {
    "name": "ipython",
    "version": 3
   },
   "file_extension": ".py",
   "mimetype": "text/x-python",
   "name": "python",
   "nbconvert_exporter": "python",
   "pygments_lexer": "ipython3",
   "version": "3.7.4"
  }
 },
 "nbformat": 4,
 "nbformat_minor": 4
}
