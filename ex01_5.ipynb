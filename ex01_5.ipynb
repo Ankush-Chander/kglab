{
 "cells": [
  {
   "cell_type": "markdown",
   "metadata": {},
   "source": [
    "# Running SPARQL queries\n",
    "\n",
    "First we'll load the medium size KG serialized as `tmp.ttl` in the previous example:"
   ]
  },
  {
   "cell_type": "code",
   "execution_count": 1,
   "metadata": {},
   "outputs": [],
   "source": [
    "import kglab\n",
    "\n",
    "namespaces = {\n",
    "    \"wtm\": \"http://purl.org/heals/food/\",\n",
    "    \"ind\": \"http://purl.org/heals/ingredient/\",\n",
    "    }\n",
    "\n",
    "kg = kglab.KnowledgeGraph(\n",
    "    name = \"A recipe KG example based on Food.com\",\n",
    "    base_uri = \"https://www.food.com/recipe/\",\n",
    "    language = \"en\",\n",
    "    namespaces = namespaces,\n",
    "    )\n",
    "\n",
    "kg.load_ttl(\"tmp.ttl\")"
   ]
  },
  {
   "cell_type": "markdown",
   "metadata": {},
   "source": [
    "Now let's run a query based on [SPARQL 1.1](https://www.w3.org/TR/sparql11-query/) then iterate through the result set.\n",
    "Let's look for recipes that use *eggs* and require at least 1.5 hours to prepare."
   ]
  },
  {
   "cell_type": "code",
   "execution_count": 2,
   "metadata": {
    "scrolled": true
   },
   "outputs": [
    {
     "name": "stdout",
     "output_type": "stream",
     "text": [
      "https://www.food.com/recipe/31041\n",
      " marti s homemade noodles\n",
      " 160 minutes\n",
      "\n",
      "https://www.food.com/recipe/124106\n",
      " hungarian noodles homemade\n",
      " 120 minutes\n",
      "\n",
      "https://www.food.com/recipe/371915\n",
      " crepes    alton brown\n",
      " 100 minutes\n",
      "\n",
      "https://www.food.com/recipe/77354\n",
      " wonton wrappers\n",
      " 90 minutes\n",
      "\n",
      "https://www.food.com/recipe/19104\n",
      " all purpose dinner crepes batter\n",
      " 90 minutes\n",
      "\n",
      "https://www.food.com/recipe/497918\n",
      " easy homemade noodles\n",
      " 90 minutes\n",
      "\n"
     ]
    }
   ],
   "source": [
    "query = \"\"\"\n",
    "        SELECT ?a ?def ?time\n",
    "           WHERE {\n",
    "              ?a rdf:type wtm:Recipe .\n",
    "              ?a skos:definition ?def .\n",
    "              ?a wtm:hasIngredient ind:ChickenEgg .\n",
    "              ?a wtm:hasCookTime ?time .\n",
    "              FILTER (?time >= 90)\n",
    "           }\n",
    "           ORDER BY DESC(?time)\n",
    "        \"\"\"\n",
    "\n",
    "for row in kg.query(query):\n",
    "    url, recipe_name, cook_time = row\n",
    "    print(\"{}\\n {}\\n {} minutes\\n\".format(url, recipe_name, cook_time))"
   ]
  },
  {
   "cell_type": "markdown",
   "metadata": {},
   "source": [
    "That's interesting ... the outliers -- i.e., recipes for special kinds of *noodles* -- take 2-3 hours to prepare."
   ]
  }
 ],
 "metadata": {
  "kernelspec": {
   "display_name": "Python 3",
   "language": "python",
   "name": "python3"
  },
  "language_info": {
   "codemirror_mode": {
    "name": "ipython",
    "version": 3
   },
   "file_extension": ".py",
   "mimetype": "text/x-python",
   "name": "python",
   "nbconvert_exporter": "python",
   "pygments_lexer": "ipython3",
   "version": "3.7.4"
  }
 },
 "nbformat": 4,
 "nbformat_minor": 4
}
