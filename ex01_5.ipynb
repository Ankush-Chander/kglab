{
 "cells": [
  {
   "cell_type": "markdown",
   "metadata": {},
   "source": [
    "# Running SPARQL queries\n",
    "\n",
    "First we'll load the medium size KG serialized as `tmp.ttl` in the previous example:"
   ]
  },
  {
   "cell_type": "code",
   "execution_count": 24,
   "metadata": {},
   "outputs": [],
   "source": [
    "import kglab\n",
    "\n",
    "namespaces = {\n",
    "    \"wtm\": \"http://purl.org/heals/food/\",\n",
    "    \"ind\": \"http://purl.org/heals/ingredient/\",\n",
    "    }\n",
    "\n",
    "kg = kglab.KnowledgeGraph(\n",
    "    name = \"A recipe KG example based on Food.com\",\n",
    "    base_uri = \"https://www.food.com/recipe/\",\n",
    "    language = \"en\",\n",
    "    namespaces = namespaces,\n",
    "    )\n",
    "\n",
    "kg.load_ttl(\"tmp.ttl\")"
   ]
  },
  {
   "cell_type": "markdown",
   "metadata": {},
   "source": [
    "Now let's run a query based on [SPARQL 1.1](https://www.w3.org/TR/sparql11-query/) then iterate through the result set.\n",
    "Let's look for recipes that use both *vanilla* and *eggs* and require at least 1.5 hours to prepare."
   ]
  },
  {
   "cell_type": "code",
   "execution_count": 26,
   "metadata": {
    "scrolled": true
   },
   "outputs": [
    {
     "name": "stdout",
     "output_type": "stream",
     "text": [
      "https://www.food.com/recipe/64564\n",
      " classic cooked eggnog\n",
      " 1470 minutes\n",
      "\n",
      "https://www.food.com/recipe/16163\n",
      " safe eggnog\n",
      " 735 minutes\n",
      "\n",
      "https://www.food.com/recipe/108172\n",
      " no fail sugar cookies\n",
      " 140 minutes\n",
      "\n",
      "https://www.food.com/recipe/368493\n",
      " sugar cookies\n",
      " 130 minutes\n",
      "\n",
      "https://www.food.com/recipe/26119\n",
      " grandma kay s vanilla cookies\n",
      " 128 minutes\n",
      "\n",
      "https://www.food.com/recipe/335893\n",
      " easy pound cake\n",
      " 110 minutes\n",
      "\n",
      "https://www.food.com/recipe/144841\n",
      " 2 step pound cake  for a kitchen aide mixer\n",
      " 110 minutes\n",
      "\n",
      "https://www.food.com/recipe/483334\n",
      " wallis  crepes\n",
      " 100 minutes\n",
      "\n",
      "https://www.food.com/recipe/272433\n",
      " fannie farmer s pound cake\n",
      " 95 minutes\n",
      "\n",
      "https://www.food.com/recipe/362055\n",
      " miss ellen s pound cake\n",
      " 90 minutes\n",
      "\n"
     ]
    }
   ],
   "source": [
    "query = \"\"\"\n",
    "        SELECT ?a ?def ?time\n",
    "           WHERE {\n",
    "              ?a rdf:type wtm:Recipe .\n",
    "              ?a skos:definition ?def .\n",
    "              ?a wtm:hasIngredient ind:VanillaExtract .\n",
    "              ?a wtm:hasIngredient ind:ChickenEgg .\n",
    "              ?a wtm:hasCookTime ?time .\n",
    "              FILTER (?time >= 90)\n",
    "           }\n",
    "           ORDER BY DESC(?time)\n",
    "        \"\"\"\n",
    "\n",
    "for row in kg.query(query):\n",
    "    url, recipe_name, cook_time = row\n",
    "    print(\"{}\\n {}\\n {} minutes\\n\".format(url, recipe_name, cook_time))"
   ]
  },
  {
   "cell_type": "markdown",
   "metadata": {},
   "source": [
    "That's interesing, the outliers -- i.e., the recipes for *eggnog* -- take about a day to prepare."
   ]
  }
 ],
 "metadata": {
  "kernelspec": {
   "display_name": "Python 3",
   "language": "python",
   "name": "python3"
  },
  "language_info": {
   "codemirror_mode": {
    "name": "ipython",
    "version": 3
   },
   "file_extension": ".py",
   "mimetype": "text/x-python",
   "name": "python",
   "nbconvert_exporter": "python",
   "pygments_lexer": "ipython3",
   "version": "3.7.4"
  }
 },
 "nbformat": 4,
 "nbformat_minor": 4
}
