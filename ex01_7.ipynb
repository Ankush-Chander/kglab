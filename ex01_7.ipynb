{
 "cells": [
  {
   "cell_type": "markdown",
   "metadata": {},
   "source": [
    "#  Statistical Relational Learning with `pslpython`"
   ]
  },
  {
   "cell_type": "markdown",
   "metadata": {},
   "source": [
    "Can we build a PSL model for *link prediction* to evaluate the annotations in a friend graph?"
   ]
  },
  {
   "cell_type": "code",
   "execution_count": 1,
   "metadata": {},
   "outputs": [],
   "source": [
    "import kglab\n",
    "\n",
    "namespaces = {\n",
    "    \"acq\": \"http://example.org/stuff/\",\n",
    "    \"foaf\": \"http://xmlns.com/foaf/0.1/\",\n",
    "    \"rdfs\": \"http://www.w3.org/2000/01/rdf-schema#\",\n",
    "    }\n",
    "\n",
    "kg = kglab.KnowledgeGraph(\n",
    "    name = \"LINQS simple acquaintance example for PSL\",\n",
    "    base_uri = \"http://example.org/stuff/\",\n",
    "    language = \"en\",\n",
    "    namespaces = namespaces,\n",
    "    )\n",
    "\n",
    "kg.load_ttl(\"acq.ttl\")"
   ]
  },
  {
   "cell_type": "code",
   "execution_count": 2,
   "metadata": {},
   "outputs": [
    {
     "data": {
      "text/html": [
       "\n",
       "        <iframe\n",
       "            width=\"500px\"\n",
       "            height=\"500px\"\n",
       "            src=\"tmp.html\"\n",
       "            frameborder=\"0\"\n",
       "            allowfullscreen\n",
       "        ></iframe>\n",
       "        "
      ],
      "text/plain": [
       "<IPython.lib.display.IFrame at 0x11e8b5850>"
      ]
     },
     "execution_count": 2,
     "metadata": {},
     "output_type": "execute_result"
    }
   ],
   "source": [
    "VIS_STYLE = {\n",
    "    \"foaf\": {\n",
    "        \"color\": \"orange\",\n",
    "        \"size\": 5,\n",
    "    },\n",
    "    \"acq\":{\n",
    "        \"color\": \"blue\",\n",
    "        \"size\": 30,\n",
    "    },\n",
    "}\n",
    "\n",
    "g = kg.vis_pyvis(notebook=True, style=VIS_STYLE)\n",
    "g.barnes_hut()\n",
    "g.show(\"tmp.html\")"
   ]
  },
  {
   "cell_type": "code",
   "execution_count": 3,
   "metadata": {},
   "outputs": [],
   "source": [
    "kg.save_ttl(\"foo.ttl\")"
   ]
  },
  {
   "cell_type": "code",
   "execution_count": 4,
   "metadata": {},
   "outputs": [
    {
     "data": {
      "text/plain": [
       "<pslpython.model.Model at 0x11ef089d0>"
      ]
     },
     "execution_count": 4,
     "metadata": {},
     "output_type": "execute_result"
    }
   ],
   "source": [
    "from pslpython.model import Model\n",
    "from pslpython.partition import Partition\n",
    "from pslpython.predicate import Predicate\n",
    "from pslpython.rule import Rule\n",
    "\n",
    "model = Model(\"simple acquaintances\")\n",
    "\n",
    "# add predicates\n",
    "predicate = Predicate(\"Knows\", closed=False, size=2)\n",
    "model.add_predicate(predicate)\n",
    "\n",
    "predicate = Predicate(\"Likes\", closed=True, size=2)\n",
    "model.add_predicate(predicate)\n",
    "\n",
    "predicate = Predicate(\"Neighbors\", closed=True, size=2)\n",
    "model.add_predicate(predicate)"
   ]
  },
  {
   "cell_type": "code",
   "execution_count": 5,
   "metadata": {},
   "outputs": [
    {
     "data": {
      "text/plain": [
       "<pslpython.model.Model at 0x11ef089d0>"
      ]
     },
     "execution_count": 5,
     "metadata": {},
     "output_type": "execute_result"
    }
   ],
   "source": [
    "# add rules\n",
    "model.add_rule(Rule(\"20: Neighbors(P1, L) & Neighbors(P2, L) & (P1 != P2) -> Knows(P1, P2) ^2\"))\n",
    "model.add_rule(Rule(\"5: Neighbors(P1, L1) & Neighbors(P2, L2) & (P1 != P2) & (L1 != L2) -> !Knows(P1, P2) ^2\"))\n",
    "\n",
    "model.add_rule(Rule(\"10: Likes(P1, L) & Likes(P2, L) & (P1 != P2) -> Knows(P1, P2) ^2\"))\n",
    "\n",
    "model.add_rule(Rule(\"5: Knows(P1, P2) & Knows(P2, P3) & (P1 != P3) -> Knows(P1, P3) ^2\"))\n",
    "model.add_rule(Rule(\"5: !Knows(P1, P2) ^2\"))\n",
    "\n",
    "model.add_rule(Rule(\"Knows(P1, P2) = Knows(P2, P1) .\"))"
   ]
  },
  {
   "cell_type": "code",
   "execution_count": 6,
   "metadata": {},
   "outputs": [],
   "source": [
    "# reset the PSL network data\n",
    "for predicate in model.get_predicates().values():\n",
    "    predicate.clear_data()"
   ]
  },
  {
   "cell_type": "code",
   "execution_count": 7,
   "metadata": {},
   "outputs": [],
   "source": [
    "def get_person_id (url):\n",
    "    return url.replace(\"http://example.org/stuff/person_\", \"\")"
   ]
  },
  {
   "cell_type": "code",
   "execution_count": 8,
   "metadata": {
    "scrolled": true
   },
   "outputs": [],
   "source": [
    "predicate = model.get_predicate(\"Neighbors\")\n",
    "\n",
    "query = \"\"\"\n",
    "SELECT DISTINCT ?p1 ?p2\n",
    "  WHERE {\n",
    "      ?p1 foaf:based_near ?l .\n",
    "      ?p2 foaf:based_near ?l .\n",
    "  }\n",
    "        \"\"\"\n",
    "\n",
    "for row in kg.query(query):\n",
    "    p1 = get_person_id(row[0])\n",
    "    p2 = get_person_id(row[1])\n",
    "\n",
    "    if p1 != p2:\n",
    "        predicate.add_data_row(Partition.OBSERVATIONS, [p1, p2])"
   ]
  },
  {
   "cell_type": "code",
   "execution_count": 9,
   "metadata": {
    "scrolled": true
   },
   "outputs": [],
   "source": [
    "predicate = model.get_predicate(\"Likes\")\n",
    "    \n",
    "query = \"\"\"\n",
    "SELECT DISTINCT ?p1 ?p2\n",
    "  WHERE {\n",
    "      ?p1 foaf:topic_interest ?t .\n",
    "      ?p2 foaf:topic_interest ?t .\n",
    "  }\n",
    "        \"\"\"\n",
    "\n",
    "for row in kg.query(query):\n",
    "    p1 = get_person_id(row[0])\n",
    "    p2 = get_person_id(row[1])\n",
    "\n",
    "    if p1 != p2:\n",
    "        predicate.add_data_row(Partition.OBSERVATIONS, [p1, p2])"
   ]
  },
  {
   "cell_type": "code",
   "execution_count": 10,
   "metadata": {},
   "outputs": [
    {
     "data": {
      "text/plain": [
       "{'_types': [<ArgType.UNIQUE_STRING_ID: 'UniqueStringID'>,\n",
       "  <ArgType.UNIQUE_STRING_ID: 'UniqueStringID'>],\n",
       " '_data': {<Partition.OBSERVATIONS: 'observations'>:       0   1    2\n",
       "  0    12   2  1.0\n",
       "  1    12   0  1.0\n",
       "  2    12  10  1.0\n",
       "  3    12   7  1.0\n",
       "  4    12   4  1.0\n",
       "  ..   ..  ..  ...\n",
       "  567  13   4  1.0\n",
       "  568   5   1  1.0\n",
       "  569   5  21  1.0\n",
       "  570   5   6  1.0\n",
       "  571   4   6  1.0\n",
       "  \n",
       "  [572 rows x 3 columns],\n",
       "  <Partition.TARGETS: 'targets'>: Empty DataFrame\n",
       "  Columns: [0, 1, 2]\n",
       "  Index: [],\n",
       "  <Partition.TRUTH: 'truth'>: Empty DataFrame\n",
       "  Columns: [0, 1, 2]\n",
       "  Index: []},\n",
       " '_name': 'LIKES',\n",
       " '_closed': True}"
      ]
     },
     "execution_count": 10,
     "metadata": {},
     "output_type": "execute_result"
    }
   ],
   "source": [
    "predicate = model.get_predicate(\"Likes\")\n",
    "predicate.__dict__"
   ]
  },
  {
   "cell_type": "code",
   "execution_count": 11,
   "metadata": {
    "scrolled": true
   },
   "outputs": [],
   "source": [
    "import csv\n",
    "import pandas as pd\n",
    "import rdflib as rdf\n",
    "\n",
    "targets = []\n",
    "rows_list = []\n",
    "predicate = model.get_predicate(\"Knows\")\n",
    "\n",
    "with open(\"dat/psl/knows_targets.txt\", \"r\") as f:\n",
    "    reader = csv.reader(f, delimiter=\"\\t\")\n",
    "    \n",
    "    for i, row in enumerate(reader):\n",
    "        p1, p2 = row\n",
    "        targets.append((p1, p2))\n",
    "    \n",
    "        p1_url = rdf.URIRef(\"http://example.org/stuff/person_\" + p1)\n",
    "        p2_url = rdf.URIRef(\"http://example.org/stuff/person_\" + p2)\n",
    "        \n",
    "        if (p1_url, kg.get_ns(\"foaf\").knows, p2_url) in kg._g:\n",
    "            truth = 1.0\n",
    "            predicate.add_data_row(Partition.TRUTH, [p1, p2], truth_value=truth)\n",
    "            predicate.add_data_row(Partition.TARGETS, [p1, p2])\n",
    "            rows_list.append({ 0: p1, 1: p2, \"truth\": truth})\n",
    "        elif (p1_url, kg.get_ns(\"acq\").wantsIntro, p2_url) in kg._g:\n",
    "            truth = 0.0\n",
    "            predicate.add_data_row(Partition.TRUTH, [p1, p2], truth_value=truth)\n",
    "            predicate.add_data_row(Partition.TARGETS, [p1, p2])\n",
    "            rows_list.append({ 0: p1, 1: p2, \"truth\": truth})\n",
    "        else:\n",
    "            print(\"UNKNOWN\", p1, p2)\n",
    "\n",
    "df_dat = pd.DataFrame(rows_list)   "
   ]
  },
  {
   "cell_type": "code",
   "execution_count": 12,
   "metadata": {
    "scrolled": true
   },
   "outputs": [],
   "source": [
    "predicate = model.get_predicate(\"Knows\")\n",
    "\n",
    "query = \"\"\"\n",
    "SELECT ?p1 ?p2\n",
    "  WHERE {\n",
    "      ?p1 foaf:knows ?p2 .\n",
    "  }\n",
    "  ORDER BY ?p1 ?p2\n",
    "        \"\"\"\n",
    "\n",
    "for row in kg.query(query):\n",
    "    p1 = get_person_id(row[0])\n",
    "    p2 = get_person_id(row[1])\n",
    "    \n",
    "    if (p1, p2) not in targets:\n",
    "        predicate.add_data_row(Partition.OBSERVATIONS, [p1, p2], truth_value=1.0)\n",
    "    \n",
    "query = \"\"\"\n",
    "SELECT ?p1 ?p2\n",
    "  WHERE {\n",
    "      ?p1 acq:wantsIntro ?p2 .\n",
    "  }\n",
    "  ORDER BY ?p1 ?p2\n",
    "        \"\"\"\n",
    "\n",
    "for row in kg.query(query):\n",
    "    p1 = get_person_id(row[0])\n",
    "    p2 = get_person_id(row[1])\n",
    "    \n",
    "    if (p1, p2) not in targets:\n",
    "        predicate.add_data_row(Partition.OBSERVATIONS, [p1, p2], truth_value=0.0)"
   ]
  },
  {
   "cell_type": "code",
   "execution_count": 13,
   "metadata": {},
   "outputs": [
    {
     "name": "stderr",
     "output_type": "stream",
     "text": [
      "7475 [pslpython.model PSL] INFO --- 0    [main] INFO  org.linqs.psl.cli.Launcher  - Running PSL CLI Version 2.2.2-5f9a472\n",
      "7782 [pslpython.model PSL] INFO --- 309  [main] INFO  org.linqs.psl.cli.Launcher  - Loading data\n",
      "8083 [pslpython.model PSL] INFO --- 610  [main] INFO  org.linqs.psl.cli.Launcher  - Data loading complete\n",
      "8084 [pslpython.model PSL] INFO --- 610  [main] INFO  org.linqs.psl.cli.Launcher  - Loading model from /var/folders/zz/2ffrqd5j7n52x67qd94h_r_h0000gp/T/psl-python/simple acquaintances/simple acquaintances.psl\n",
      "8236 [pslpython.model PSL] INFO --- 762  [main] INFO  org.linqs.psl.cli.Launcher  - Model loading complete\n",
      "8237 [pslpython.model PSL] INFO --- 763  [main] INFO  org.linqs.psl.cli.Launcher  - Starting inference with class: org.linqs.psl.application.inference.MPEInference\n",
      "8439 [pslpython.model PSL] INFO --- 966  [main] INFO  org.linqs.psl.application.inference.MPEInference  - Grounding out model.\n",
      "15009 [pslpython.model PSL] INFO --- 7536 [main] INFO  org.linqs.psl.application.inference.MPEInference  - Grounding complete.\n",
      "15472 [pslpython.model PSL] INFO --- 7998 [main] INFO  org.linqs.psl.application.inference.InferenceApplication  - Beginning inference.\n",
      "33489 [pslpython.model PSL] WARNING --- 26016 [main] WARN  org.linqs.psl.reasoner.admm.ADMMReasoner  - No feasible solution found. 114 constraints violated.\n",
      "33490 [pslpython.model PSL] INFO --- 26016 [main] INFO  org.linqs.psl.reasoner.admm.ADMMReasoner  - Optimization completed in 10797 iterations. Objective: 147037.34, Feasible: false, Primal res.: 0.16976903, Dual res.: 0.0077914274\n",
      "33491 [pslpython.model PSL] INFO --- 26016 [main] INFO  org.linqs.psl.application.inference.InferenceApplication  - Inference complete.\n",
      "33492 [pslpython.model PSL] INFO --- 26016 [main] INFO  org.linqs.psl.application.inference.InferenceApplication  - Writing results to Database.\n",
      "33527 [pslpython.model PSL] INFO --- 26053 [main] INFO  org.linqs.psl.application.inference.InferenceApplication  - Results committed to database.\n",
      "33528 [pslpython.model PSL] INFO --- 26054 [main] INFO  org.linqs.psl.cli.Launcher  - Inference Complete\n"
     ]
    }
   ],
   "source": [
    "# inference\n",
    "\n",
    "PSL_OPTIONS = {\n",
    "    \"log4j.threshold\": \"INFO\"\n",
    "}\n",
    "\n",
    "results = model.infer(additional_cli_optons=[], psl_config=PSL_OPTIONS)"
   ]
  },
  {
   "cell_type": "code",
   "execution_count": 14,
   "metadata": {},
   "outputs": [
    {
     "data": {
      "text/html": [
       "<div>\n",
       "<style scoped>\n",
       "    .dataframe tbody tr th:only-of-type {\n",
       "        vertical-align: middle;\n",
       "    }\n",
       "\n",
       "    .dataframe tbody tr th {\n",
       "        vertical-align: top;\n",
       "    }\n",
       "\n",
       "    .dataframe thead th {\n",
       "        text-align: right;\n",
       "    }\n",
       "</style>\n",
       "<table border=\"1\" class=\"dataframe\">\n",
       "  <thead>\n",
       "    <tr style=\"text-align: right;\">\n",
       "      <th></th>\n",
       "      <th>0</th>\n",
       "      <th>1</th>\n",
       "      <th>truth</th>\n",
       "    </tr>\n",
       "  </thead>\n",
       "  <tbody>\n",
       "    <tr>\n",
       "      <th>0</th>\n",
       "      <td>7</td>\n",
       "      <td>20</td>\n",
       "      <td>0.002999</td>\n",
       "    </tr>\n",
       "    <tr>\n",
       "      <th>1</th>\n",
       "      <td>8</td>\n",
       "      <td>13</td>\n",
       "      <td>0.983527</td>\n",
       "    </tr>\n",
       "    <tr>\n",
       "      <th>2</th>\n",
       "      <td>8</td>\n",
       "      <td>12</td>\n",
       "      <td>0.980395</td>\n",
       "    </tr>\n",
       "    <tr>\n",
       "      <th>3</th>\n",
       "      <td>8</td>\n",
       "      <td>10</td>\n",
       "      <td>0.986561</td>\n",
       "    </tr>\n",
       "    <tr>\n",
       "      <th>4</th>\n",
       "      <td>8</td>\n",
       "      <td>21</td>\n",
       "      <td>0.977004</td>\n",
       "    </tr>\n",
       "    <tr>\n",
       "      <th>...</th>\n",
       "      <td>...</td>\n",
       "      <td>...</td>\n",
       "      <td>...</td>\n",
       "    </tr>\n",
       "    <tr>\n",
       "      <th>113</th>\n",
       "      <td>5</td>\n",
       "      <td>9</td>\n",
       "      <td>0.256435</td>\n",
       "    </tr>\n",
       "    <tr>\n",
       "      <th>114</th>\n",
       "      <td>5</td>\n",
       "      <td>7</td>\n",
       "      <td>0.245458</td>\n",
       "    </tr>\n",
       "    <tr>\n",
       "      <th>115</th>\n",
       "      <td>6</td>\n",
       "      <td>7</td>\n",
       "      <td>0.991628</td>\n",
       "    </tr>\n",
       "    <tr>\n",
       "      <th>116</th>\n",
       "      <td>6</td>\n",
       "      <td>9</td>\n",
       "      <td>0.235496</td>\n",
       "    </tr>\n",
       "    <tr>\n",
       "      <th>117</th>\n",
       "      <td>7</td>\n",
       "      <td>1</td>\n",
       "      <td>0.986663</td>\n",
       "    </tr>\n",
       "  </tbody>\n",
       "</table>\n",
       "<p>118 rows × 3 columns</p>\n",
       "</div>"
      ],
      "text/plain": [
       "     0   1     truth\n",
       "0    7  20  0.002999\n",
       "1    8  13  0.983527\n",
       "2    8  12  0.980395\n",
       "3    8  10  0.986561\n",
       "4    8  21  0.977004\n",
       "..  ..  ..       ...\n",
       "113  5   9  0.256435\n",
       "114  5   7  0.245458\n",
       "115  6   7  0.991628\n",
       "116  6   9  0.235496\n",
       "117  7   1  0.986663\n",
       "\n",
       "[118 rows x 3 columns]"
      ]
     },
     "execution_count": 14,
     "metadata": {},
     "output_type": "execute_result"
    }
   ],
   "source": [
    "# report results\n",
    "predicate = model.get_predicates()[\"KNOWS\"]\n",
    "df = results[predicate]\n",
    "\n",
    "df"
   ]
  },
  {
   "cell_type": "code",
   "execution_count": 15,
   "metadata": {},
   "outputs": [
    {
     "data": {
      "text/html": [
       "<div>\n",
       "<style scoped>\n",
       "    .dataframe tbody tr th:only-of-type {\n",
       "        vertical-align: middle;\n",
       "    }\n",
       "\n",
       "    .dataframe tbody tr th {\n",
       "        vertical-align: top;\n",
       "    }\n",
       "\n",
       "    .dataframe thead th {\n",
       "        text-align: right;\n",
       "    }\n",
       "</style>\n",
       "<table border=\"1\" class=\"dataframe\">\n",
       "  <thead>\n",
       "    <tr style=\"text-align: right;\">\n",
       "      <th></th>\n",
       "      <th>0</th>\n",
       "      <th>1</th>\n",
       "      <th>truth</th>\n",
       "      <th>diff</th>\n",
       "    </tr>\n",
       "  </thead>\n",
       "  <tbody>\n",
       "    <tr>\n",
       "      <th>0</th>\n",
       "      <td>7</td>\n",
       "      <td>20</td>\n",
       "      <td>0.002999</td>\n",
       "      <td>0.002999</td>\n",
       "    </tr>\n",
       "    <tr>\n",
       "      <th>1</th>\n",
       "      <td>8</td>\n",
       "      <td>13</td>\n",
       "      <td>0.983527</td>\n",
       "      <td>-0.016473</td>\n",
       "    </tr>\n",
       "    <tr>\n",
       "      <th>2</th>\n",
       "      <td>8</td>\n",
       "      <td>12</td>\n",
       "      <td>0.980395</td>\n",
       "      <td>-0.019605</td>\n",
       "    </tr>\n",
       "    <tr>\n",
       "      <th>3</th>\n",
       "      <td>8</td>\n",
       "      <td>10</td>\n",
       "      <td>0.986561</td>\n",
       "      <td>-0.013439</td>\n",
       "    </tr>\n",
       "    <tr>\n",
       "      <th>4</th>\n",
       "      <td>8</td>\n",
       "      <td>21</td>\n",
       "      <td>0.977004</td>\n",
       "      <td>-0.022996</td>\n",
       "    </tr>\n",
       "    <tr>\n",
       "      <th>...</th>\n",
       "      <td>...</td>\n",
       "      <td>...</td>\n",
       "      <td>...</td>\n",
       "      <td>...</td>\n",
       "    </tr>\n",
       "    <tr>\n",
       "      <th>113</th>\n",
       "      <td>5</td>\n",
       "      <td>9</td>\n",
       "      <td>0.256435</td>\n",
       "      <td>-0.743565</td>\n",
       "    </tr>\n",
       "    <tr>\n",
       "      <th>114</th>\n",
       "      <td>5</td>\n",
       "      <td>7</td>\n",
       "      <td>0.245458</td>\n",
       "      <td>-0.754542</td>\n",
       "    </tr>\n",
       "    <tr>\n",
       "      <th>115</th>\n",
       "      <td>6</td>\n",
       "      <td>7</td>\n",
       "      <td>0.991628</td>\n",
       "      <td>-0.008372</td>\n",
       "    </tr>\n",
       "    <tr>\n",
       "      <th>116</th>\n",
       "      <td>6</td>\n",
       "      <td>9</td>\n",
       "      <td>0.235496</td>\n",
       "      <td>0.235496</td>\n",
       "    </tr>\n",
       "    <tr>\n",
       "      <th>117</th>\n",
       "      <td>7</td>\n",
       "      <td>1</td>\n",
       "      <td>0.986663</td>\n",
       "      <td>-0.013337</td>\n",
       "    </tr>\n",
       "  </tbody>\n",
       "</table>\n",
       "<p>118 rows × 4 columns</p>\n",
       "</div>"
      ],
      "text/plain": [
       "     0   1     truth      diff\n",
       "0    7  20  0.002999  0.002999\n",
       "1    8  13  0.983527 -0.016473\n",
       "2    8  12  0.980395 -0.019605\n",
       "3    8  10  0.986561 -0.013439\n",
       "4    8  21  0.977004 -0.022996\n",
       "..  ..  ..       ...       ...\n",
       "113  5   9  0.256435 -0.743565\n",
       "114  5   7  0.245458 -0.754542\n",
       "115  6   7  0.991628 -0.008372\n",
       "116  6   9  0.235496  0.235496\n",
       "117  7   1  0.986663 -0.013337\n",
       "\n",
       "[118 rows x 4 columns]"
      ]
     },
     "execution_count": 15,
     "metadata": {},
     "output_type": "execute_result"
    }
   ],
   "source": [
    "dat_val = {}\n",
    "\n",
    "for index, row in df_dat.iterrows():\n",
    "    p1 = row[0]\n",
    "    p2 = row[1]\n",
    "    key = (int(p1), int(p2))\n",
    "    dat_val[key] = row[\"truth\"]\n",
    "\n",
    "for index, row in df.iterrows():\n",
    "    p1 = row[0]\n",
    "    p2 = row[1]\n",
    "    key = (int(p1), int(p2))\n",
    "    df.at[index, \"diff\"] = row[\"truth\"] - dat_val[key]\n",
    "\n",
    "df"
   ]
  },
  {
   "cell_type": "code",
   "execution_count": 16,
   "metadata": {},
   "outputs": [
    {
     "data": {
      "text/plain": [
       "<matplotlib.axes._subplots.AxesSubplot at 0x11f2b0190>"
      ]
     },
     "execution_count": 16,
     "metadata": {},
     "output_type": "execute_result"
    },
    {
     "data": {
      "image/png": "[encoded data removed]",
      "text/plain": [
       "<Figure size 432x288 with 1 Axes>"
      ]
     },
     "metadata": {
      "needs_background": "light"
     },
     "output_type": "display_data"
    }
   ],
   "source": [
    "df[\"diff\"].hist()"
   ]
  },
  {
   "cell_type": "markdown",
   "metadata": {},
   "source": [
    "The following rows show where `foaf:knows` annotations in the graph differs significantly from its truth value predicted by PSL:"
   ]
  },
  {
   "cell_type": "code",
   "execution_count": 17,
   "metadata": {},
   "outputs": [
    {
     "name": "stdout",
     "output_type": "stream",
     "text": [
      "?? acq:person_21 foaf:knows acq:person_12\n",
      "?? acq:person_21 foaf:knows acq:person_22\n",
      "?? acq:person_22 foaf:knows acq:person_21\n",
      "?? acq:person_5 foaf:knows acq:person_22\n",
      "?? acq:person_6 foaf:knows acq:person_12\n",
      "?? acq:person_12 foaf:knows acq:person_6\n",
      "?? acq:person_7 foaf:knows acq:person_5\n",
      "?? acq:person_9 foaf:knows acq:person_5\n",
      "?? acq:person_12 foaf:knows acq:person_21\n",
      "?? acq:person_22 foaf:knows acq:person_5\n",
      "?? acq:person_5 foaf:knows acq:person_9\n",
      "?? acq:person_5 foaf:knows acq:person_7\n"
     ]
    }
   ],
   "source": [
    "for index, row in df.iterrows():\n",
    "    p1 = row[0]\n",
    "    p2 = row[1]\n",
    "    diff = row[\"diff\"]\n",
    "    \n",
    "    if diff < -0.2:\n",
    "        print(\"?? acq:person_{} foaf:knows acq:person_{}\".format(int(row[0]), int(row[1])))"
   ]
  }
 ],
 "metadata": {
  "kernelspec": {
   "display_name": "Python 3",
   "language": "python",
   "name": "python3"
  },
  "language_info": {
   "codemirror_mode": {
    "name": "ipython",
    "version": 3
   },
   "file_extension": ".py",
   "mimetype": "text/x-python",
   "name": "python",
   "nbconvert_exporter": "python",
   "pygments_lexer": "ipython3",
   "version": "3.7.4"
  }
 },
 "nbformat": 4,
 "nbformat_minor": 4
}
