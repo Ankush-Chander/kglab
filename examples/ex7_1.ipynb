{
 "cells": [
  {
   "cell_type": "code",
   "execution_count": null,
   "metadata": {},
   "outputs": [],
   "source": [
    "# for use in tutorial and development; do not include this `sys.path` change in production:\n",
    "import sys ; sys.path.insert(0, \"../\")"
   ]
  },
  {
   "cell_type": "markdown",
   "metadata": {},
   "source": [
    "# Statistical Relational Learning with `pslpython`"
   ]
  },
  {
   "cell_type": "markdown",
   "metadata": {},
   "source": [
    "In this section we'll explore one form of \n",
    "[*statistical relational learning*](../glossary/#statistical-relational-learning)\n",
    "called \n",
    "[*probabilistic soft logic*](../glossary/#probabilistic-soft-logic) (PSL).\n",
    "\n",
    "One of the examples given for PSL is called [*simple acquaintances*](https://github.com/linqs/psl-examples/tree/master/simple-acquaintances), which uses a graph of some friends, where they live, what interests they share, and then infers who probably knows whom.\n",
    "Some people explicitly do or do not know each other, while other \"knows\" relations can be inferred based on whether two people have lived in the same place or share common interest.\n",
    "\n",
    "The objective is to build a PSL model for [*link prediction*](https://en.wikipedia.org/wiki/Link_prediction), to evaluate the annotations in the friend graph.\n",
    "In this case, we'll assume that the \"knows\" relations have been added from a questionable source (e.g., some third-party dataset) so we'll measure a subset of these relations and determine their likelihood.\n",
    "NB: this is really useful for cleaning up annotations in a large graph!"
   ]
  },
  {
   "cell_type": "markdown",
   "metadata": {},
   "source": [
    "Now let's load a KG which is an RDF representation of this \"simple acquaintances\" example, based on using the [`foaf`](http://www.foaf-project.org/) vocabulary:"
   ]
  },
  {
   "cell_type": "code",
   "execution_count": 2,
   "metadata": {},
   "outputs": [
    {
     "data": {
      "text/plain": [
       "<kglab.kglab.KnowledgeGraph at 0x1107ab050>"
      ]
     },
     "execution_count": 2,
     "metadata": {},
     "output_type": "execute_result"
    }
   ],
   "source": [
    "import kglab\n",
    "\n",
    "namespaces = {\n",
    "    \"acq\":  \"http://example.org/stuff/\",\n",
    "    \"foaf\": \"http://xmlns.com/foaf/0.1/\",\n",
    "    }\n",
    "\n",
    "kg = kglab.KnowledgeGraph(\n",
    "    name = \"LINQS simple acquaintance example for PSL\",\n",
    "    base_uri = \"http://example.org/stuff/\",\n",
    "    namespaces = namespaces,\n",
    "    )\n",
    "\n",
    "kg.load_rdf(\"../dat/acq.ttl\")"
   ]
  },
  {
   "cell_type": "markdown",
   "metadata": {},
   "source": [
    "Take a look at the `dat/acq.ttl` file to see the people and their relations.\n",
    "Here's a quick visualization of the graph:"
   ]
  },
  {
   "cell_type": "code",
   "execution_count": 3,
   "metadata": {},
   "outputs": [
    {
     "data": {
      "text/html": [
       "\n",
       "        <iframe\n",
       "            width=\"500px\"\n",
       "            height=\"500px\"\n",
       "            src=\"tmp.fig04.html\"\n",
       "            frameborder=\"0\"\n",
       "            allowfullscreen\n",
       "        ></iframe>\n",
       "        "
      ],
      "text/plain": [
       "<IPython.lib.display.IFrame at 0x1107abf10>"
      ]
     },
     "execution_count": 3,
     "metadata": {},
     "output_type": "execute_result"
    }
   ],
   "source": [
    "VIS_STYLE = {\n",
    "    \"foaf\": {\n",
    "        \"color\": \"orange\",\n",
    "        \"size\": 5,\n",
    "    },\n",
    "    \"acq\":{\n",
    "        \"color\": \"blue\",\n",
    "        \"size\": 30,\n",
    "    },\n",
    "}\n",
    "\n",
    "excludes = [\n",
    "    kg.get_ns(\"rdf\").type,\n",
    "    kg.get_ns(\"rdfs\").domain,\n",
    "    kg.get_ns(\"rdfs\").range,\n",
    "]\n",
    "\n",
    "subgraph = kglab.SubgraphTensor(kg, excludes=excludes)\n",
    "pyvis_graph = subgraph.build_pyvis_graph(notebook=True, style=VIS_STYLE)\n",
    "\n",
    "pyvis_graph.force_atlas_2based()\n",
    "pyvis_graph.show(\"tmp.fig04.html\")"
   ]
  },
  {
   "cell_type": "markdown",
   "metadata": {},
   "source": [
    "## Loading a PSL model\n",
    "\n",
    "Next, we'll use the [`pslpython`](https://pypi.org/project/pslpython/) library implemented in Python (atop its core library running in Java) to define three *predicates* (i.e., relations – similar as in RDF) which are: `Neighbors`, `Likes`, `Knows`"
   ]
  },
  {
   "cell_type": "code",
   "execution_count": 4,
   "metadata": {},
   "outputs": [],
   "source": [
    "psl = kglab.PSLModel(\n",
    "    name = \"simple acquaintances\",\n",
    "    )"
   ]
  },
  {
   "cell_type": "markdown",
   "metadata": {},
   "source": [
    "Then add each of the predicates:"
   ]
  },
  {
   "cell_type": "code",
   "execution_count": 5,
   "metadata": {},
   "outputs": [
    {
     "data": {
      "text/plain": [
       "<kglab.srl.PSLModel at 0x13130d3d0>"
      ]
     },
     "execution_count": 5,
     "metadata": {},
     "output_type": "execute_result"
    }
   ],
   "source": [
    "psl.add_predicate(\"Neighbors\", size=2)\n",
    "psl.add_predicate(\"Likes\", size=2)\n",
    "psl.add_predicate(\"Knows\", size=2, closed=False)"
   ]
  },
  {
   "cell_type": "markdown",
   "metadata": {},
   "source": [
    "Next, we'll add a set of probabilistic [*rules*](https://psl.linqs.org/wiki/2.2.1/Rule-Specification.html), all with different weights applied:\n",
    "\n",
    "  1. \"Two people who live in the same place are **more** likely to know each other\"\n",
    "  2. \"Two people who don't live in the same place are **less** likely to know each other\"\n",
    "  3. \"Two people who share a common interest are **more** likely to know each other\"\n",
    "  4. \"Two people who both know a third person are **more** likely to know each other\"\n",
    "  5. \"Otherwise, any pair of people are **less** likely to know each other\""
   ]
  },
  {
   "cell_type": "code",
   "execution_count": 6,
   "metadata": {},
   "outputs": [
    {
     "data": {
      "text/plain": [
       "<kglab.srl.PSLModel at 0x13130d3d0>"
      ]
     },
     "execution_count": 6,
     "metadata": {},
     "output_type": "execute_result"
    }
   ],
   "source": [
    "psl.add_rule(\"Neighbors(P1, L) & Neighbors(P2, L) & (P1 != P2) -> Knows(P1, P2)\", weight=20.0, squared=True)\n",
    "\n",
    "psl.add_rule(\"Neighbors(P1, L1) & Neighbors(P2, L2) & (P1 != P2) & (L1 != L2) -> !Knows(P1, P2)\", weight=5.0, squared=True)\n",
    "\n",
    "psl.add_rule(\"Likes(P1, L) & Likes(P2, L) & (P1 != P2) -> Knows(P1, P2)\", weight=10.0, squared=True)\n",
    "\n",
    "psl.add_rule(\"Knows(P1, P2) & Knows(P2, P3) & (P1 != P3) -> Knows(P1, P3)\", weight=5.0, squared=True)\n",
    "\n",
    "psl.add_rule(\"!Knows(P1, P2)\", weight=5.0, squared=True)"
   ]
  },
  {
   "cell_type": "markdown",
   "metadata": {},
   "source": [
    "Finally we'll add a [*commutative*](https://mathworld.wolfram.com/Commutative.html) rule such that:\n",
    "> \"If Person 1 knows Person 2, then Person 2 also knows Person 1.\""
   ]
  },
  {
   "cell_type": "code",
   "execution_count": 7,
   "metadata": {},
   "outputs": [
    {
     "data": {
      "text/plain": [
       "<kglab.srl.PSLModel at 0x13130d3d0>"
      ]
     },
     "execution_count": 7,
     "metadata": {},
     "output_type": "execute_result"
    }
   ],
   "source": [
    "psl.add_rule(\"Knows(P1, P2) = Knows(P2, P1)\", weighted=False)"
   ]
  },
  {
   "cell_type": "markdown",
   "metadata": {},
   "source": [
    "To initialize the model, we'll clear any pre-existing data from each of the predicates:"
   ]
  },
  {
   "cell_type": "code",
   "execution_count": 8,
   "metadata": {},
   "outputs": [
    {
     "data": {
      "text/plain": [
       "<kglab.srl.PSLModel at 0x13130d3d0>"
      ]
     },
     "execution_count": 8,
     "metadata": {},
     "output_type": "execute_result"
    }
   ],
   "source": [
    "psl.clear_model()"
   ]
  },
  {
   "cell_type": "markdown",
   "metadata": {},
   "source": [
    "Next we'll create a specific `Subgraph` to transform the names of `foaf:Person` in the graph, since the PSL rules in this example focus on relations among the people:"
   ]
  },
  {
   "cell_type": "code",
   "execution_count": 9,
   "metadata": {},
   "outputs": [],
   "source": [
    "people_iter = kg.rdf_graph().subjects(kg.get_ns(\"rdf\").type, kg.get_ns(\"foaf\").Person)\n",
    "people_nodes = [ p for p in sorted(people_iter, key=lambda p: str(p)) ]\n",
    "\n",
    "subgraph = kglab.Subgraph(kg, preload=people_nodes)"
   ]
  },
  {
   "cell_type": "markdown",
   "metadata": {},
   "source": [
    "Now let's query our KG to populate data into the `Neighbors` predicate in the PSL model, based on `foaf:based_near` which represents people who live nearby each other:"
   ]
  },
  {
   "cell_type": "code",
   "execution_count": 10,
   "metadata": {
    "scrolled": true
   },
   "outputs": [],
   "source": [
    "sparql = \"\"\"\n",
    "SELECT DISTINCT ?p1 ?p2\n",
    "  WHERE {\n",
    "    ?p1 foaf:based_near ?l .\n",
    "    ?p2 foaf:based_near ?l .\n",
    "    FILTER( ?p1 != ?p2 )\n",
    "  }\n",
    "  \"\"\"\n",
    "\n",
    "for row in kg.query(sparql):\n",
    "    p1 = subgraph.transform(row.p1)\n",
    "    p2 = subgraph.transform(row.p2)\n",
    "    psl.add_data_row(\"Neighbors\", [p1, p2])"
   ]
  },
  {
   "cell_type": "markdown",
   "metadata": {},
   "source": [
    "Note: these data points are *observations*, i.e., empirical support for the probabilistic model.\n",
    "    \n",
    "Then let's query our KG to populate data into the `Likes` predicate in the PSL model, based on shared interests in `foaf:topic_interest` topics:"
   ]
  },
  {
   "cell_type": "code",
   "execution_count": 11,
   "metadata": {
    "scrolled": true
   },
   "outputs": [],
   "source": [
    "sparql = \"\"\"\n",
    "SELECT DISTINCT ?p1 ?p2\n",
    "  WHERE {\n",
    "    ?p1 foaf:topic_interest ?t .\n",
    "    ?p2 foaf:topic_interest ?t .\n",
    "    FILTER( ?p1 != ?p2 )\n",
    "  }\n",
    "  \"\"\"\n",
    "\n",
    "for row in kg.query(sparql):\n",
    "    p1 = subgraph.transform(row.p1)\n",
    "    p2 = subgraph.transform(row.p2)\n",
    "    psl.add_data_row(\"Likes\", [p1, p2])"
   ]
  },
  {
   "cell_type": "markdown",
   "metadata": {},
   "source": [
    "Just for kicks, let's take a look at the internal representation of a PSL predicate, which is a `pandas.DataFrame`:"
   ]
  },
  {
   "cell_type": "code",
   "execution_count": 12,
   "metadata": {},
   "outputs": [
    {
     "data": {
      "text/plain": [
       "{'_types': [<ArgType.UNIQUE_STRING_ID: 'UniqueStringID'>,\n",
       "  <ArgType.UNIQUE_STRING_ID: 'UniqueStringID'>],\n",
       " '_data': {<Partition.OBSERVATIONS: 'observations'>:       0   1    2\n",
       "  0    23   9  1.0\n",
       "  1    23   0  1.0\n",
       "  2    23  19  1.0\n",
       "  3    23  10  1.0\n",
       "  4    23   6  1.0\n",
       "  ..   ..  ..  ...\n",
       "  567  23  21  1.0\n",
       "  568  23  14  1.0\n",
       "  569  23  15  1.0\n",
       "  570  23   2  1.0\n",
       "  571  22  23  1.0\n",
       "  \n",
       "  [572 rows x 3 columns],\n",
       "  <Partition.TARGETS: 'targets'>: Empty DataFrame\n",
       "  Columns: [0, 1, 2]\n",
       "  Index: [],\n",
       "  <Partition.TRUTH: 'truth'>: Empty DataFrame\n",
       "  Columns: [0, 1, 2]\n",
       "  Index: []},\n",
       " '_name': 'LIKES',\n",
       " '_closed': False}"
      ]
     },
     "execution_count": 12,
     "metadata": {},
     "output_type": "execute_result"
    }
   ],
   "source": [
    "predicate = psl.model.get_predicate(\"Likes\")\n",
    "predicate.__dict__"
   ]
  },
  {
   "cell_type": "markdown",
   "metadata": {},
   "source": [
    "Now we'll load data from the `dat/psl/knows_targets.txt` CSV file, which is a list of `foaf:knows` relations in our graph that we want to analyze.\n",
    "Each of these has an assumed value of `1.0` (true) or `0.0` (false).\n",
    "Our PSL analysis will assign probabilities for each so that we can compare which annotations appear to be suspect and require further review:"
   ]
  },
  {
   "cell_type": "code",
   "execution_count": 13,
   "metadata": {
    "scrolled": true
   },
   "outputs": [],
   "source": [
    "import csv\n",
    "import pandas as pd\n",
    "\n",
    "targets = []\n",
    "rows_list = []\n",
    "\n",
    "with open(\"../dat/psl/knows_targets.txt\", \"r\") as f:\n",
    "    reader = csv.reader(f, delimiter=\"\\t\")\n",
    "    \n",
    "    for i, row in enumerate(reader):\n",
    "        p1 = int(row[0])\n",
    "        p2 = int(row[1])\n",
    "        targets.append((p1, p2))\n",
    "    \n",
    "        p1_node = subgraph.inverse_transform(p1)\n",
    "        p2_node = subgraph.inverse_transform(p2)\n",
    "        \n",
    "        if (p1_node, kg.get_ns(\"foaf\").knows, p2_node) in kg.rdf_graph():\n",
    "            truth = 1.0\n",
    "            rows_list.append({ 0: p1, 1: p2, \"truth\": truth})\n",
    "\n",
    "            psl.add_data_row(\"Knows\", [p1, p2], partition=\"truth\", truth_value=truth)\n",
    "            psl.add_data_row(\"Knows\", [p1, p2], partition=\"targets\")\n",
    "\n",
    "        elif (p1_node, kg.get_ns(\"acq\").wantsIntro, p2_node) in kg.rdf_graph():\n",
    "            truth = 0.0\n",
    "            rows_list.append({ 0: p1, 1: p2, \"truth\": truth})\n",
    "\n",
    "            psl.add_data_row(\"Knows\", [p1, p2], partition=\"truth\", truth_value=truth)\n",
    "            psl.add_data_row(\"Knows\", [p1, p2], partition=\"targets\")\n",
    "\n",
    "        else:\n",
    "            print(\"UNKNOWN\", p1, p2)"
   ]
  },
  {
   "cell_type": "markdown",
   "metadata": {},
   "source": [
    "These data points are considered to be *ground atoms*, each with a *truth* value set initially.\n",
    "\n",
    "These are also our *targets* for which nodes in the graph to analyze based on the rules.\n",
    "We'll keep a dataframe called `df_dat` to preserve these values for later use:"
   ]
  },
  {
   "cell_type": "code",
   "execution_count": 14,
   "metadata": {},
   "outputs": [
    {
     "data": {
      "text/html": [
       "<div>\n",
       "<style scoped>\n",
       "    .dataframe tbody tr th:only-of-type {\n",
       "        vertical-align: middle;\n",
       "    }\n",
       "\n",
       "    .dataframe tbody tr th {\n",
       "        vertical-align: top;\n",
       "    }\n",
       "\n",
       "    .dataframe thead th {\n",
       "        text-align: right;\n",
       "    }\n",
       "</style>\n",
       "<table border=\"1\" class=\"dataframe\">\n",
       "  <thead>\n",
       "    <tr style=\"text-align: right;\">\n",
       "      <th></th>\n",
       "      <th>0</th>\n",
       "      <th>1</th>\n",
       "      <th>truth</th>\n",
       "    </tr>\n",
       "  </thead>\n",
       "  <tbody>\n",
       "    <tr>\n",
       "      <th>0</th>\n",
       "      <td>0</td>\n",
       "      <td>1</td>\n",
       "      <td>1.0</td>\n",
       "    </tr>\n",
       "    <tr>\n",
       "      <th>1</th>\n",
       "      <td>0</td>\n",
       "      <td>7</td>\n",
       "      <td>1.0</td>\n",
       "    </tr>\n",
       "    <tr>\n",
       "      <th>2</th>\n",
       "      <td>0</td>\n",
       "      <td>15</td>\n",
       "      <td>1.0</td>\n",
       "    </tr>\n",
       "    <tr>\n",
       "      <th>3</th>\n",
       "      <td>0</td>\n",
       "      <td>18</td>\n",
       "      <td>1.0</td>\n",
       "    </tr>\n",
       "    <tr>\n",
       "      <th>4</th>\n",
       "      <td>0</td>\n",
       "      <td>22</td>\n",
       "      <td>0.0</td>\n",
       "    </tr>\n",
       "  </tbody>\n",
       "</table>\n",
       "</div>"
      ],
      "text/plain": [
       "   0   1  truth\n",
       "0  0   1    1.0\n",
       "1  0   7    1.0\n",
       "2  0  15    1.0\n",
       "3  0  18    1.0\n",
       "4  0  22    0.0"
      ]
     },
     "execution_count": 14,
     "metadata": {},
     "output_type": "execute_result"
    }
   ],
   "source": [
    "df_dat = pd.DataFrame(rows_list)\n",
    "df_dat.head()"
   ]
  },
  {
   "cell_type": "markdown",
   "metadata": {},
   "source": [
    "Next, we'll add `foaf:knows` observations which are in the graph, although not among our set of targets.\n",
    "This provides more evidence for the probabilistic inference.\n",
    "Note that since RDF does not allow for representing probabilities on relations, we're using the `acq:wantsIntro` to represent a `foaf:knows` with a `0.0` probability:"
   ]
  },
  {
   "cell_type": "code",
   "execution_count": 15,
   "metadata": {
    "scrolled": true
   },
   "outputs": [],
   "source": [
    "sparql = \"\"\"\n",
    "SELECT ?p1 ?p2\n",
    "  WHERE {\n",
    "    ?p1 foaf:knows ?p2 .\n",
    "  }\n",
    "  ORDER BY ?p1 ?p2\n",
    "  \"\"\"\n",
    "\n",
    "for row in kg.query(sparql):\n",
    "    p1 = subgraph.transform(row.p1)\n",
    "    p2 = subgraph.transform(row.p2)\n",
    "    \n",
    "    if (p1, p2) not in targets:\n",
    "        psl.add_data_row(\"Knows\", [p1, p2], truth_value=1.0)\n",
    "    \n",
    "sparql = \"\"\"\n",
    "SELECT ?p1 ?p2\n",
    "  WHERE {\n",
    "    ?p1 acq:wantsIntro ?p2 .\n",
    "  }\n",
    "  ORDER BY ?p1 ?p2\n",
    "  \"\"\"\n",
    "\n",
    "for row in kg.query(sparql):\n",
    "    p1 = subgraph.transform(row.p1)\n",
    "    p2 = subgraph.transform(row.p2)\n",
    "    \n",
    "    if (p1, p2) not in targets:\n",
    "        psl.add_data_row(\"Knows\", [p1, p2], truth_value=0.0)"
   ]
  },
  {
   "cell_type": "markdown",
   "metadata": {},
   "source": [
    "Now we're ready to run optimization on the PSL model and infer the *grounded atoms*.\n",
    "This may take a few minutes to run:"
   ]
  },
  {
   "cell_type": "code",
   "execution_count": 16,
   "metadata": {
    "scrolled": true
   },
   "outputs": [
    {
     "name": "stderr",
     "output_type": "stream",
     "text": [
      "9625 [pslpython.model PSL] INFO --- 0    [main] INFO  org.linqs.psl.cli.Launcher  - Running PSL CLI Version 2.2.2-5f9a472\n",
      "9994 [pslpython.model PSL] INFO --- 372  [main] INFO  org.linqs.psl.cli.Launcher  - Loading data\n",
      "10314 [pslpython.model PSL] INFO --- 692  [main] INFO  org.linqs.psl.cli.Launcher  - Data loading complete\n",
      "10316 [pslpython.model PSL] INFO --- 692  [main] INFO  org.linqs.psl.cli.Launcher  - Loading model from /var/folders/zz/2ffrqd5j7n52x67qd94h_r_h0000gp/T/psl-python/simple acquaintances/simple acquaintances.psl\n",
      "10637 [pslpython.model PSL] INFO --- 1015 [main] INFO  org.linqs.psl.cli.Launcher  - Model loading complete\n",
      "10638 [pslpython.model PSL] INFO --- 1016 [main] INFO  org.linqs.psl.cli.Launcher  - Starting inference with class: org.linqs.psl.application.inference.MPEInference\n",
      "10837 [pslpython.model PSL] INFO --- 1215 [main] INFO  org.linqs.psl.application.inference.MPEInference  - Grounding out model.\n",
      "15793 [pslpython.model PSL] INFO --- 6171 [main] INFO  org.linqs.psl.application.inference.MPEInference  - Grounding complete.\n",
      "16259 [pslpython.model PSL] INFO --- 6637 [main] INFO  org.linqs.psl.application.inference.InferenceApplication  - Beginning inference.\n",
      "35084 [pslpython.model PSL] WARNING --- 25462 [main] WARN  org.linqs.psl.reasoner.admm.ADMMReasoner  - No feasible solution found. 114 constraints violated.\n",
      "35087 [pslpython.model PSL] INFO --- 25462 [main] INFO  org.linqs.psl.reasoner.admm.ADMMReasoner  - Optimization completed in 10797 iterations. Objective: 147037.16, Feasible: false, Primal res.: 0.16980013, Dual res.: 0.009037247\n",
      "35088 [pslpython.model PSL] INFO --- 25462 [main] INFO  org.linqs.psl.application.inference.InferenceApplication  - Inference complete.\n",
      "35089 [pslpython.model PSL] INFO --- 25462 [main] INFO  org.linqs.psl.application.inference.InferenceApplication  - Writing results to Database.\n",
      "35149 [pslpython.model PSL] INFO --- 25527 [main] INFO  org.linqs.psl.application.inference.InferenceApplication  - Results committed to database.\n",
      "35150 [pslpython.model PSL] INFO --- 25527 [main] INFO  org.linqs.psl.cli.Launcher  - Inference Complete\n"
     ]
    }
   ],
   "source": [
    "psl.infer()"
   ]
  },
  {
   "cell_type": "markdown",
   "metadata": {},
   "source": [
    "Let's examine the results.\n",
    "We'll get a `pandas.DataFrame` describing the targets in the `Knows` predicate:"
   ]
  },
  {
   "cell_type": "code",
   "execution_count": 17,
   "metadata": {},
   "outputs": [
    {
     "data": {
      "text/html": [
       "<div>\n",
       "<style scoped>\n",
       "    .dataframe tbody tr th:only-of-type {\n",
       "        vertical-align: middle;\n",
       "    }\n",
       "\n",
       "    .dataframe tbody tr th {\n",
       "        vertical-align: top;\n",
       "    }\n",
       "\n",
       "    .dataframe thead th {\n",
       "        text-align: right;\n",
       "    }\n",
       "</style>\n",
       "<table border=\"1\" class=\"dataframe\">\n",
       "  <thead>\n",
       "    <tr style=\"text-align: right;\">\n",
       "      <th></th>\n",
       "      <th>predicate</th>\n",
       "      <th>0</th>\n",
       "      <th>1</th>\n",
       "      <th>truth</th>\n",
       "    </tr>\n",
       "  </thead>\n",
       "  <tbody>\n",
       "    <tr>\n",
       "      <th>0</th>\n",
       "      <td>KNOWS</td>\n",
       "      <td>7</td>\n",
       "      <td>20</td>\n",
       "      <td>0.003016</td>\n",
       "    </tr>\n",
       "    <tr>\n",
       "      <th>1</th>\n",
       "      <td>KNOWS</td>\n",
       "      <td>8</td>\n",
       "      <td>13</td>\n",
       "      <td>0.983523</td>\n",
       "    </tr>\n",
       "    <tr>\n",
       "      <th>2</th>\n",
       "      <td>KNOWS</td>\n",
       "      <td>8</td>\n",
       "      <td>12</td>\n",
       "      <td>0.980346</td>\n",
       "    </tr>\n",
       "    <tr>\n",
       "      <th>3</th>\n",
       "      <td>KNOWS</td>\n",
       "      <td>8</td>\n",
       "      <td>10</td>\n",
       "      <td>0.986557</td>\n",
       "    </tr>\n",
       "    <tr>\n",
       "      <th>4</th>\n",
       "      <td>KNOWS</td>\n",
       "      <td>8</td>\n",
       "      <td>21</td>\n",
       "      <td>0.977004</td>\n",
       "    </tr>\n",
       "  </tbody>\n",
       "</table>\n",
       "</div>"
      ],
      "text/plain": [
       "  predicate  0   1     truth\n",
       "0     KNOWS  7  20  0.003016\n",
       "1     KNOWS  8  13  0.983523\n",
       "2     KNOWS  8  12  0.980346\n",
       "3     KNOWS  8  10  0.986557\n",
       "4     KNOWS  8  21  0.977004"
      ]
     },
     "execution_count": 17,
     "metadata": {},
     "output_type": "execute_result"
    }
   ],
   "source": [
    "df = psl.get_results(\"Knows\")\n",
    "df.head()"
   ]
  },
  {
   "cell_type": "markdown",
   "metadata": {},
   "source": [
    "Now we can compare the \"truth\" values from our targets, with their probabilities from the inference provided by the PSL model.\n",
    "Let's build a dataframe to show that:"
   ]
  },
  {
   "cell_type": "code",
   "execution_count": 18,
   "metadata": {
    "scrolled": true
   },
   "outputs": [
    {
     "data": {
      "text/html": [
       "<div>\n",
       "<style scoped>\n",
       "    .dataframe tbody tr th:only-of-type {\n",
       "        vertical-align: middle;\n",
       "    }\n",
       "\n",
       "    .dataframe tbody tr th {\n",
       "        vertical-align: top;\n",
       "    }\n",
       "\n",
       "    .dataframe thead th {\n",
       "        text-align: right;\n",
       "    }\n",
       "</style>\n",
       "<table border=\"1\" class=\"dataframe\">\n",
       "  <thead>\n",
       "    <tr style=\"text-align: right;\">\n",
       "      <th></th>\n",
       "      <th>predicate</th>\n",
       "      <th>p1</th>\n",
       "      <th>p2</th>\n",
       "      <th>truth</th>\n",
       "      <th>diff</th>\n",
       "    </tr>\n",
       "  </thead>\n",
       "  <tbody>\n",
       "    <tr>\n",
       "      <th>0</th>\n",
       "      <td>KNOWS</td>\n",
       "      <td>http://example.org/stuff/person_07</td>\n",
       "      <td>http://example.org/stuff/person_20</td>\n",
       "      <td>0.003016</td>\n",
       "      <td>0.003016</td>\n",
       "    </tr>\n",
       "    <tr>\n",
       "      <th>1</th>\n",
       "      <td>KNOWS</td>\n",
       "      <td>http://example.org/stuff/person_08</td>\n",
       "      <td>http://example.org/stuff/person_13</td>\n",
       "      <td>0.983523</td>\n",
       "      <td>-0.016477</td>\n",
       "    </tr>\n",
       "    <tr>\n",
       "      <th>2</th>\n",
       "      <td>KNOWS</td>\n",
       "      <td>http://example.org/stuff/person_08</td>\n",
       "      <td>http://example.org/stuff/person_12</td>\n",
       "      <td>0.980346</td>\n",
       "      <td>-0.019654</td>\n",
       "    </tr>\n",
       "    <tr>\n",
       "      <th>3</th>\n",
       "      <td>KNOWS</td>\n",
       "      <td>http://example.org/stuff/person_08</td>\n",
       "      <td>http://example.org/stuff/person_10</td>\n",
       "      <td>0.986557</td>\n",
       "      <td>-0.013443</td>\n",
       "    </tr>\n",
       "    <tr>\n",
       "      <th>4</th>\n",
       "      <td>KNOWS</td>\n",
       "      <td>http://example.org/stuff/person_08</td>\n",
       "      <td>http://example.org/stuff/person_21</td>\n",
       "      <td>0.977004</td>\n",
       "      <td>-0.022996</td>\n",
       "    </tr>\n",
       "  </tbody>\n",
       "</table>\n",
       "</div>"
      ],
      "text/plain": [
       "  predicate                                  p1  \\\n",
       "0     KNOWS  http://example.org/stuff/person_07   \n",
       "1     KNOWS  http://example.org/stuff/person_08   \n",
       "2     KNOWS  http://example.org/stuff/person_08   \n",
       "3     KNOWS  http://example.org/stuff/person_08   \n",
       "4     KNOWS  http://example.org/stuff/person_08   \n",
       "\n",
       "                                   p2     truth      diff  \n",
       "0  http://example.org/stuff/person_20  0.003016  0.003016  \n",
       "1  http://example.org/stuff/person_13  0.983523 -0.016477  \n",
       "2  http://example.org/stuff/person_12  0.980346 -0.019654  \n",
       "3  http://example.org/stuff/person_10  0.986557 -0.013443  \n",
       "4  http://example.org/stuff/person_21  0.977004 -0.022996  "
      ]
     },
     "execution_count": 18,
     "metadata": {},
     "output_type": "execute_result"
    }
   ],
   "source": [
    "dat_val = {}\n",
    "df.insert(1, \"p1\", \"\")\n",
    "df.insert(2, \"p2\", \"\")\n",
    "\n",
    "for index, row in df_dat.iterrows():\n",
    "    p1 = int(row[0])\n",
    "    p2 = int(row[1])\n",
    "    key = (p1, p2)\n",
    "    dat_val[key] = row[\"truth\"]\n",
    "\n",
    "for index, row in df.iterrows():\n",
    "    p1 = int(row[0])\n",
    "    p2 = int(row[1])\n",
    "    key = (p1, p2)\n",
    "\n",
    "    df.at[index, \"diff\"] = row[\"truth\"] - dat_val[key]\n",
    "    df.at[index, \"p1\"] = str(subgraph.inverse_transform(p1))\n",
    "    df.at[index, \"p2\"] = str(subgraph.inverse_transform(p2))\n",
    "\n",
    "df = df.drop(df.columns[[3, 4]], axis=1)\n",
    "pd.set_option(\"max_rows\", None)\n",
    "\n",
    "df.head()"
   ]
  },
  {
   "cell_type": "markdown",
   "metadata": {},
   "source": [
    "In other words, which of these \"knows\" relations in the graph appears to be suspect, based on our rules plus the other evidence in the graph?\n",
    "\n",
    "Let's visualize a histogram of how the inferred probabilities are distributed:"
   ]
  },
  {
   "cell_type": "code",
   "execution_count": 19,
   "metadata": {},
   "outputs": [
    {
     "data": {
      "image/png": "[encoded data removed]",
      "text/plain": [
       "<Figure size 432x288 with 1 Axes>"
      ]
     },
     "metadata": {
      "needs_background": "light"
     },
     "output_type": "display_data"
    }
   ],
   "source": [
    "df[\"diff\"].hist();"
   ]
  },
  {
   "cell_type": "markdown",
   "metadata": {},
   "source": [
    "In most cases there is little or no difference (`0.0 <= d <= 0.2`) in the probabilities for the target relations.\n",
    "However, some appear to be off by a substantial (`-0.8`) amount, which indicates problems in that part of  our graph data.\n",
    "\n",
    "The following rows show where these `foaf:knows` annotations in the graph differs significantly from their truth values predicted by PSL:"
   ]
  },
  {
   "cell_type": "code",
   "execution_count": 20,
   "metadata": {
    "scrolled": true
   },
   "outputs": [
    {
     "data": {
      "text/html": [
       "<div>\n",
       "<style scoped>\n",
       "    .dataframe tbody tr th:only-of-type {\n",
       "        vertical-align: middle;\n",
       "    }\n",
       "\n",
       "    .dataframe tbody tr th {\n",
       "        vertical-align: top;\n",
       "    }\n",
       "\n",
       "    .dataframe thead th {\n",
       "        text-align: right;\n",
       "    }\n",
       "</style>\n",
       "<table border=\"1\" class=\"dataframe\">\n",
       "  <thead>\n",
       "    <tr style=\"text-align: right;\">\n",
       "      <th></th>\n",
       "      <th>predicate</th>\n",
       "      <th>p1</th>\n",
       "      <th>p2</th>\n",
       "      <th>truth</th>\n",
       "      <th>diff</th>\n",
       "    </tr>\n",
       "  </thead>\n",
       "  <tbody>\n",
       "    <tr>\n",
       "      <th>9</th>\n",
       "      <td>KNOWS</td>\n",
       "      <td>http://example.org/stuff/person_21</td>\n",
       "      <td>http://example.org/stuff/person_12</td>\n",
       "      <td>0.215543</td>\n",
       "      <td>-0.784457</td>\n",
       "    </tr>\n",
       "    <tr>\n",
       "      <th>16</th>\n",
       "      <td>KNOWS</td>\n",
       "      <td>http://example.org/stuff/person_21</td>\n",
       "      <td>http://example.org/stuff/person_22</td>\n",
       "      <td>0.209063</td>\n",
       "      <td>-0.790937</td>\n",
       "    </tr>\n",
       "    <tr>\n",
       "      <th>20</th>\n",
       "      <td>KNOWS</td>\n",
       "      <td>http://example.org/stuff/person_22</td>\n",
       "      <td>http://example.org/stuff/person_21</td>\n",
       "      <td>0.209194</td>\n",
       "      <td>-0.790806</td>\n",
       "    </tr>\n",
       "    <tr>\n",
       "      <th>28</th>\n",
       "      <td>KNOWS</td>\n",
       "      <td>http://example.org/stuff/person_05</td>\n",
       "      <td>http://example.org/stuff/person_22</td>\n",
       "      <td>0.232086</td>\n",
       "      <td>-0.767914</td>\n",
       "    </tr>\n",
       "    <tr>\n",
       "      <th>33</th>\n",
       "      <td>KNOWS</td>\n",
       "      <td>http://example.org/stuff/person_06</td>\n",
       "      <td>http://example.org/stuff/person_12</td>\n",
       "      <td>0.243228</td>\n",
       "      <td>-0.756772</td>\n",
       "    </tr>\n",
       "    <tr>\n",
       "      <th>47</th>\n",
       "      <td>KNOWS</td>\n",
       "      <td>http://example.org/stuff/person_12</td>\n",
       "      <td>http://example.org/stuff/person_06</td>\n",
       "      <td>0.242898</td>\n",
       "      <td>-0.757102</td>\n",
       "    </tr>\n",
       "    <tr>\n",
       "      <th>82</th>\n",
       "      <td>KNOWS</td>\n",
       "      <td>http://example.org/stuff/person_07</td>\n",
       "      <td>http://example.org/stuff/person_05</td>\n",
       "      <td>0.245358</td>\n",
       "      <td>-0.754642</td>\n",
       "    </tr>\n",
       "    <tr>\n",
       "      <th>86</th>\n",
       "      <td>KNOWS</td>\n",
       "      <td>http://example.org/stuff/person_09</td>\n",
       "      <td>http://example.org/stuff/person_05</td>\n",
       "      <td>0.256286</td>\n",
       "      <td>-0.743714</td>\n",
       "    </tr>\n",
       "    <tr>\n",
       "      <th>94</th>\n",
       "      <td>KNOWS</td>\n",
       "      <td>http://example.org/stuff/person_12</td>\n",
       "      <td>http://example.org/stuff/person_21</td>\n",
       "      <td>0.215405</td>\n",
       "      <td>-0.784595</td>\n",
       "    </tr>\n",
       "    <tr>\n",
       "      <th>103</th>\n",
       "      <td>KNOWS</td>\n",
       "      <td>http://example.org/stuff/person_22</td>\n",
       "      <td>http://example.org/stuff/person_05</td>\n",
       "      <td>0.231897</td>\n",
       "      <td>-0.768103</td>\n",
       "    </tr>\n",
       "    <tr>\n",
       "      <th>113</th>\n",
       "      <td>KNOWS</td>\n",
       "      <td>http://example.org/stuff/person_05</td>\n",
       "      <td>http://example.org/stuff/person_09</td>\n",
       "      <td>0.256429</td>\n",
       "      <td>-0.743571</td>\n",
       "    </tr>\n",
       "    <tr>\n",
       "      <th>114</th>\n",
       "      <td>KNOWS</td>\n",
       "      <td>http://example.org/stuff/person_05</td>\n",
       "      <td>http://example.org/stuff/person_07</td>\n",
       "      <td>0.245458</td>\n",
       "      <td>-0.754542</td>\n",
       "    </tr>\n",
       "  </tbody>\n",
       "</table>\n",
       "</div>"
      ],
      "text/plain": [
       "    predicate                                  p1  \\\n",
       "9       KNOWS  http://example.org/stuff/person_21   \n",
       "16      KNOWS  http://example.org/stuff/person_21   \n",
       "20      KNOWS  http://example.org/stuff/person_22   \n",
       "28      KNOWS  http://example.org/stuff/person_05   \n",
       "33      KNOWS  http://example.org/stuff/person_06   \n",
       "47      KNOWS  http://example.org/stuff/person_12   \n",
       "82      KNOWS  http://example.org/stuff/person_07   \n",
       "86      KNOWS  http://example.org/stuff/person_09   \n",
       "94      KNOWS  http://example.org/stuff/person_12   \n",
       "103     KNOWS  http://example.org/stuff/person_22   \n",
       "113     KNOWS  http://example.org/stuff/person_05   \n",
       "114     KNOWS  http://example.org/stuff/person_05   \n",
       "\n",
       "                                     p2     truth      diff  \n",
       "9    http://example.org/stuff/person_12  0.215543 -0.784457  \n",
       "16   http://example.org/stuff/person_22  0.209063 -0.790937  \n",
       "20   http://example.org/stuff/person_21  0.209194 -0.790806  \n",
       "28   http://example.org/stuff/person_22  0.232086 -0.767914  \n",
       "33   http://example.org/stuff/person_12  0.243228 -0.756772  \n",
       "47   http://example.org/stuff/person_06  0.242898 -0.757102  \n",
       "82   http://example.org/stuff/person_05  0.245358 -0.754642  \n",
       "86   http://example.org/stuff/person_05  0.256286 -0.743714  \n",
       "94   http://example.org/stuff/person_21  0.215405 -0.784595  \n",
       "103  http://example.org/stuff/person_05  0.231897 -0.768103  \n",
       "113  http://example.org/stuff/person_09  0.256429 -0.743571  \n",
       "114  http://example.org/stuff/person_07  0.245458 -0.754542  "
      ]
     },
     "execution_count": 20,
     "metadata": {},
     "output_type": "execute_result"
    }
   ],
   "source": [
    "df[df[\"diff\"] < -0.2]"
   ]
  },
  {
   "cell_type": "markdown",
   "metadata": {},
   "source": [
    "Speaking of [*human-in-the-loop*](https://derwen.ai/d/human-in-the-loop) practices for AI, using PSL along with a KG seems like a great way to leverage machine learning, so that the people can focus on parts of the graph that have the most uncertainty.\n",
    "And, therefore, probably provide the best ROI for investing time+cost into curation."
   ]
  },
  {
   "cell_type": "markdown",
   "metadata": {},
   "source": [
    "---\n",
    "\n",
    "## Exercises"
   ]
  },
  {
   "cell_type": "markdown",
   "metadata": {},
   "source": [
    "**Exercise 1:**\n",
    "\n",
    "Build a PSL model that tests the \"noodle vs. pancake\" rules used in an earlier example with our recipe KG.\n",
    "Which recipes should be annotated differently?"
   ]
  },
  {
   "cell_type": "markdown",
   "metadata": {},
   "source": [
    "**Exercise 2:**\n",
    "\n",
    "Try representing one of the other [PSL examples](https://github.com/linqs/psl-examples/) using RDF and `kglab`."
   ]
  }
 ],
 "metadata": {
  "kernelspec": {
   "display_name": "Python 3",
   "language": "python",
   "name": "python3"
  },
  "language_info": {
   "codemirror_mode": {
    "name": "ipython",
    "version": 3
   },
   "file_extension": ".py",
   "mimetype": "text/x-python",
   "name": "python",
   "nbconvert_exporter": "python",
   "pygments_lexer": "ipython3",
   "version": "3.7.4"
  }
 },
 "nbformat": 4,
 "nbformat_minor": 4
}
