{
 "cells": [
  {
   "cell_type": "markdown",
   "metadata": {},
   "source": [
    "# SHACL validation with `pySHACL`\n",
    "\n",
    "Let's explore use of the [W3 Shapes Constraint Language](https://www.w3.org/TR/shacl/) (SHACL) based on the [`pySHACL`](https://github.com/RDFLib/pySHACL) library.\n",
    "\n",
    "When we build KGs, it can be helpful to think of the different semantic technologies in terms of layers:\n",
    "\n",
    "  * [SKOS](https://www.w3.org/2001/sw/wiki/SKOS) - *thesauri* and *classification*\n",
    "  * [SHACL](https://www.w3.org/TR/shacl/) - *requirements*\n",
    "  * [OWL](https://www.w3.org/OWL/) - *concepts*\n",
    "  * [RDF](https://www.w3.org/TR/rdf11-primer/) - *represent nodes, predictates, literals*\n",
    "\n",
    "For an excellent overview + demos of SHACL, see [`shacl-masterclass`](https://github.com/veleda/shacl-masterclass) by Veronika Heimsbakk.\n",
    "Another great online resource for working with SHACL is the [SHACL Playground](https://shacl.org/playground/).\n",
    "\n",
    "With SHACL we can *validate* as well as run some forms of inference to complement what's provided by RDF, OWL, and so on. For a good overview, see the discussion about SHACL and other rule-base approaches in general in [\"Rules for Knowledge Graphs Rules\"](https://dmccreary.medium.com/rules-for-knowledge-graphs-rules-f22587307a8f) by Dan McCreary."
   ]
  },
  {
   "cell_type": "markdown",
   "metadata": {},
   "source": [
    "First, we'll show one of the examples from `pySHACL`, starting with its SHACL *shapes graph* in Turtle format:"
   ]
  },
  {
   "cell_type": "code",
   "execution_count": 1,
   "metadata": {},
   "outputs": [],
   "source": [
    "shapes_graph = \"\"\"\n",
    "@prefix sh:     <http://www.w3.org/ns/shacl#> .\n",
    "@prefix xsd:    <http://www.w3.org/2001/XMLSchema#> .\n",
    "@prefix schema: <http://schema.org/> .\n",
    "\n",
    "schema:PersonShape\n",
    "    a sh:NodeShape ;\n",
    "    sh:targetClass schema:Person ;\n",
    "    sh:property [\n",
    "        sh:path schema:givenName ;\n",
    "        sh:datatype xsd:string ;\n",
    "        sh:name \"given name\" ;\n",
    "    ] ;\n",
    "    sh:property [\n",
    "        sh:path schema:birthDate ;\n",
    "        sh:lessThan schema:deathDate ;\n",
    "        sh:maxCount 1 ;\n",
    "    ] ;\n",
    "    sh:property [\n",
    "        sh:path schema:gender ;\n",
    "        sh:in ( \"female\" \"male\" ) ;\n",
    "    ] ;\n",
    "    sh:property [\n",
    "        sh:path schema:address ;\n",
    "        sh:node schema:AddressShape ;\n",
    "    ] .\n",
    "\n",
    "schema:AddressShape\n",
    "    a sh:NodeShape ;\n",
    "    sh:closed true ;\n",
    "    sh:property [\n",
    "        sh:path schema:streetAddress ;\n",
    "        sh:datatype xsd:string ;\n",
    "    ] ;\n",
    "    sh:property [\n",
    "        sh:path schema:postalCode ;\n",
    "        sh:datatype xsd:integer ;\n",
    "        sh:minInclusive 10000 ;\n",
    "        sh:maxInclusive 99999 ;\n",
    "    ] .\n",
    "\"\"\""
   ]
  },
  {
   "cell_type": "markdown",
   "metadata": {},
   "source": [
    "Then define a simple *data graph* to test against, given in JSON-LD format:"
   ]
  },
  {
   "cell_type": "code",
   "execution_count": 2,
   "metadata": {},
   "outputs": [],
   "source": [
    "data_graph = \"\"\"\n",
    "{\n",
    "    \"@context\": { \"@vocab\": \"http://schema.org/\" },\n",
    "    \"@id\": \"http://example.org/ns#Bob\",\n",
    "    \"@type\": \"Person\",\n",
    "    \"givenName\": \"Robert\",\n",
    "    \"familyName\": \"Junior\",\n",
    "\n",
    "    \"birthDate\": \"1971-07-07\",\n",
    "    \"deathDate\": \"1968-09-10\",\n",
    "    \"address\": {\n",
    "        \"@id\": \"http://example.org/ns#BobsAddress\",\n",
    "        \"streetAddress\": \"1600 Amphitheatre Pkway\",\n",
    "        \"postalCode\": 9404\n",
    "    }\n",
    "}\n",
    "\"\"\""
   ]
  },
  {
   "cell_type": "markdown",
   "metadata": {},
   "source": [
    "Now let's run `pySHACL` directly, to test whether this data graph conforms to the shapes graph, then print out the results:"
   ]
  },
  {
   "cell_type": "code",
   "execution_count": 3,
   "metadata": {},
   "outputs": [
    {
     "name": "stderr",
     "output_type": "stream",
     "text": [
      "Constraint Violation in LessThanConstraintComponent (http://www.w3.org/ns/shacl#LessThanConstraintComponent):\n",
      "\tSeverity: sh:Violation\n",
      "\tSource Shape: [ sh:lessThan schema:deathDate ; sh:maxCount Literal(\"1\", datatype=xsd:integer) ; sh:path schema:birthDate ]\n",
      "\tFocus Node: <http://example.org/ns#Bob>\n",
      "\tValue Node: Literal(\"1971-07-07\")\n",
      "\tResult Path: schema:birthDate\n",
      "\tMessage: Value of <http://example.org/ns#Bob>->schema:deathDate <= Literal(\"1971-07-07\")\n",
      "\n",
      "Constraint Violation in MinInclusiveConstraintComponent (http://www.w3.org/ns/shacl#MinInclusiveConstraintComponent):\n",
      "\tSeverity: sh:Violation\n",
      "\tSource Shape: [ sh:datatype xsd:integer ; sh:maxInclusive Literal(\"99999\", datatype=xsd:integer) ; sh:minInclusive Literal(\"10000\", datatype=xsd:integer) ; sh:path schema:postalCode ]\n",
      "\tFocus Node: <http://example.org/ns#BobsAddress>\n",
      "\tValue Node: Literal(\"9404\", datatype=xsd:integer)\n",
      "\tResult Path: schema:postalCode\n",
      "\tMessage: Value is not >= Literal(\"10000\", datatype=xsd:integer)\n",
      "\n",
      "Constraint Violation in NodeConstraintComponent (http://www.w3.org/ns/shacl#NodeConstraintComponent):\n",
      "\tSeverity: sh:Violation\n",
      "\tSource Shape: [ sh:node schema:AddressShape ; sh:path schema:address ]\n",
      "\tFocus Node: <http://example.org/ns#Bob>\n",
      "\tValue Node: <http://example.org/ns#BobsAddress>\n",
      "\tResult Path: schema:address\n",
      "\tMessage: Value does not conform to Shape schema:AddressShape\n",
      "\n"
     ]
    },
    {
     "name": "stdout",
     "output_type": "stream",
     "text": [
      "conforms False\n",
      "graph [a rdfg:Graph;rdflib:storage [a rdflib:Store;rdfs:label 'Memory2']].\n",
      "text Validation Report\n",
      "Conforms: False\n",
      "Results (2):\n",
      "Constraint Violation in LessThanConstraintComponent (http://www.w3.org/ns/shacl#LessThanConstraintComponent):\n",
      "\tSeverity: sh:Violation\n",
      "\tSource Shape: [ sh:lessThan schema:deathDate ; sh:maxCount Literal(\"1\", datatype=xsd:integer) ; sh:path schema:birthDate ]\n",
      "\tFocus Node: <http://example.org/ns#Bob>\n",
      "\tValue Node: Literal(\"1971-07-07\")\n",
      "\tResult Path: schema:birthDate\n",
      "\tMessage: Value of <http://example.org/ns#Bob>->schema:deathDate <= Literal(\"1971-07-07\")\n",
      "Constraint Violation in NodeConstraintComponent (http://www.w3.org/ns/shacl#NodeConstraintComponent):\n",
      "\tSeverity: sh:Violation\n",
      "\tSource Shape: [ sh:node schema:AddressShape ; sh:path schema:address ]\n",
      "\tFocus Node: <http://example.org/ns#Bob>\n",
      "\tValue Node: <http://example.org/ns#BobsAddress>\n",
      "\tResult Path: schema:address\n",
      "\tMessage: Value does not conform to Shape schema:AddressShape\n",
      "\n"
     ]
    }
   ],
   "source": [
    "import pyshacl\n",
    "\n",
    "results = pyshacl.validate(\n",
    "    data_graph,\n",
    "    shacl_graph=shapes_graph,\n",
    "    data_graph_format=\"json-ld\",\n",
    "    shacl_graph_format=\"turtle\",\n",
    "    inference=\"rdfs\",\n",
    "    debug=True,\n",
    "    serialize_report_graph=False,\n",
    "    )\n",
    "\n",
    "conforms, v_graph, v_text = results\n",
    "\n",
    "print(\"conforms\", conforms)\n",
    "print(\"graph\", v_graph)\n",
    "print(\"text\", v_text)"
   ]
  },
  {
   "cell_type": "markdown",
   "metadata": {},
   "source": [
    "The birthday value should cause a `LessThanConstraintComponent` violation, and the postal code value should cause a `NodeConstraintComponent` violation."
   ]
  },
  {
   "cell_type": "markdown",
   "metadata": {},
   "source": [
    "---\n",
    "## Validating RDF graphs with `kglab`"
   ]
  },
  {
   "cell_type": "markdown",
   "metadata": {},
   "source": [
    "*The following lines are only needed for verifying this example code with the library code as it's in development. You do not need to include this in production code:*"
   ]
  },
  {
   "cell_type": "code",
   "execution_count": 4,
   "metadata": {},
   "outputs": [],
   "source": [
    "import sys\n",
    "sys.path.insert(0, \"../\")"
   ]
  },
  {
   "cell_type": "markdown",
   "metadata": {},
   "source": [
    "Now let's try this again, using the `kglab` abstraction layer.\n",
    "First we'll load our recipe graph:"
   ]
  },
  {
   "cell_type": "code",
   "execution_count": 5,
   "metadata": {},
   "outputs": [],
   "source": [
    "import kglab\n",
    "\n",
    "namespaces = {\n",
    "    \"nom\":  \"http://example.org/#\",\n",
    "    \"wtm\":  \"http://purl.org/heals/food/\",\n",
    "    \"ind\":  \"http://purl.org/heals/ingredient/\",\n",
    "    \"skos\": \"http://www.w3.org/2004/02/skos/core#\",\n",
    "    }\n",
    "\n",
    "kg = kglab.KnowledgeGraph(\n",
    "    name = \"A recipe KG example based on Food.com\",\n",
    "    base_uri = \"https://www.food.com/recipe/\",\n",
    "    language = \"en\",\n",
    "    namespaces = namespaces,\n",
    "    )\n",
    "\n",
    "kg.load_ttl(\"tmp.ttl\")"
   ]
  },
  {
   "cell_type": "markdown",
   "metadata": {},
   "source": [
    "Next we define a SHACL shape graph to provide *requirements* for our recipes KG:"
   ]
  },
  {
   "cell_type": "code",
   "execution_count": 6,
   "metadata": {},
   "outputs": [],
   "source": [
    "shacl_graph = \"\"\"\n",
    "@prefix sh:   <http://www.w3.org/ns/shacl#> .\n",
    "@prefix xsd:  <http://www.w3.org/2001/XMLSchema#> .\n",
    "@prefix nom:  <http://example.org/#> .\n",
    "@prefix wtm:  <http://purl.org/heals/food/> .\n",
    "@prefix ind:  <http://purl.org/heals/ingredient/> .\n",
    "@prefix skos: <http://www.w3.org/2004/02/skos/core#> .\n",
    "\n",
    "nom:RecipeShape\n",
    "    a sh:NodeShape ;\n",
    "    sh:targetClass wtm:Recipe ;\n",
    "    sh:property [\n",
    "        sh:path wtm:hasIngredient ;\n",
    "        sh:node wtm:Ingredient ;\n",
    "        sh:minCount 3 ;\n",
    "    ] ;\n",
    "    sh:property [\n",
    "        sh:path skos:definition ;\n",
    "        sh:datatype xsd:string ;\n",
    "        sh:maxLength 50 ;\n",
    "    ] .\n",
    "\"\"\""
   ]
  },
  {
   "cell_type": "markdown",
   "metadata": {},
   "source": [
    "Now run the SHACL validation through `kglab`.\n",
    "Note that the `shacl_graph` parameter is optional; alternatively the SHACL shape graph could have been included as part of our `dat/nom.ttl` file."
   ]
  },
  {
   "cell_type": "code",
   "execution_count": 7,
   "metadata": {},
   "outputs": [
    {
     "name": "stderr",
     "output_type": "stream",
     "text": [
      "Constraint Violation in MaxLengthConstraintComponent (http://www.w3.org/ns/shacl#MaxLengthConstraintComponent):\n",
      "\tSeverity: sh:Violation\n",
      "\tSource Shape: [ sh:datatype xsd:string ; sh:maxLength Literal(\"50\", datatype=xsd:integer) ; sh:path skos:definition ]\n",
      "\tFocus Node: <https://www.food.com/recipe/137158>\n",
      "\tValue Node: Literal(\"pikkuleipienperustaikina  finnish butter cookie dough\")\n",
      "\tResult Path: skos:definition\n",
      "\tMessage: String length not <= Literal(\"50\", datatype=xsd:integer)\n",
      "\n",
      "Constraint Violation in MaxLengthConstraintComponent (http://www.w3.org/ns/shacl#MaxLengthConstraintComponent):\n",
      "\tSeverity: sh:Violation\n",
      "\tSource Shape: [ sh:datatype xsd:string ; sh:maxLength Literal(\"50\", datatype=xsd:integer) ; sh:path skos:definition ]\n",
      "\tFocus Node: <https://www.food.com/recipe/279314>\n",
      "\tValue Node: Literal(\"choux pastry  for profiteroles  cream puffs or eclairs\")\n",
      "\tResult Path: skos:definition\n",
      "\tMessage: String length not <= Literal(\"50\", datatype=xsd:integer)\n",
      "\n",
      "Constraint Violation in MaxLengthConstraintComponent (http://www.w3.org/ns/shacl#MaxLengthConstraintComponent):\n",
      "\tSeverity: sh:Violation\n",
      "\tSource Shape: [ sh:datatype xsd:string ; sh:maxLength Literal(\"50\", datatype=xsd:integer) ; sh:path skos:definition ]\n",
      "\tFocus Node: <https://www.food.com/recipe/61108>\n",
      "\tValue Node: Literal(\"german pancakes  from the mennonite treasury of recipes\")\n",
      "\tResult Path: skos:definition\n",
      "\tMessage: String length not <= Literal(\"50\", datatype=xsd:integer)\n",
      "\n",
      "Constraint Violation in MaxLengthConstraintComponent (http://www.w3.org/ns/shacl#MaxLengthConstraintComponent):\n",
      "\tSeverity: sh:Violation\n",
      "\tSource Shape: [ sh:datatype xsd:string ; sh:maxLength Literal(\"50\", datatype=xsd:integer) ; sh:path skos:definition ]\n",
      "\tFocus Node: <https://www.food.com/recipe/261361>\n",
      "\tValue Node: Literal(\"german dumplings  spaetzle or kniffles  for soup or saute\")\n",
      "\tResult Path: skos:definition\n",
      "\tMessage: String length not <= Literal(\"50\", datatype=xsd:integer)\n",
      "\n"
     ]
    }
   ],
   "source": [
    "conforms, v_graph, v_text = kg.validate(shacl_graph=shacl_graph)"
   ]
  },
  {
   "cell_type": "markdown",
   "metadata": {},
   "source": [
    "Then print the results, which should be approximately what was just printed as violations:"
   ]
  },
  {
   "cell_type": "code",
   "execution_count": 8,
   "metadata": {},
   "outputs": [
    {
     "name": "stdout",
     "output_type": "stream",
     "text": [
      "conforms: False\n",
      "\n",
      "graph: [a rdfg:Graph;rdflib:storage [a rdflib:Store;rdfs:label 'Memory2']].\n",
      "\n",
      "text: Validation Report\n",
      "Conforms: False\n",
      "Results (4):\n",
      "Constraint Violation in MaxLengthConstraintComponent (http://www.w3.org/ns/shacl#MaxLengthConstraintComponent):\n",
      "\tSeverity: sh:Violation\n",
      "\tSource Shape: [ sh:datatype xsd:string ; sh:maxLength Literal(\"50\", datatype=xsd:integer) ; sh:path skos:definition ]\n",
      "\tFocus Node: <https://www.food.com/recipe/137158>\n",
      "\tValue Node: Literal(\"pikkuleipienperustaikina  finnish butter cookie dough\")\n",
      "\tResult Path: skos:definition\n",
      "\tMessage: String length not <= Literal(\"50\", datatype=xsd:integer)\n",
      "Constraint Violation in MaxLengthConstraintComponent (http://www.w3.org/ns/shacl#MaxLengthConstraintComponent):\n",
      "\tSeverity: sh:Violation\n",
      "\tSource Shape: [ sh:datatype xsd:string ; sh:maxLength Literal(\"50\", datatype=xsd:integer) ; sh:path skos:definition ]\n",
      "\tFocus Node: <https://www.food.com/recipe/279314>\n",
      "\tValue Node: Literal(\"choux pastry  for profiteroles  cream puffs or eclairs\")\n",
      "\tResult Path: skos:definition\n",
      "\tMessage: String length not <= Literal(\"50\", datatype=xsd:integer)\n",
      "Constraint Violation in MaxLengthConstraintComponent (http://www.w3.org/ns/shacl#MaxLengthConstraintComponent):\n",
      "\tSeverity: sh:Violation\n",
      "\tSource Shape: [ sh:datatype xsd:string ; sh:maxLength Literal(\"50\", datatype=xsd:integer) ; sh:path skos:definition ]\n",
      "\tFocus Node: <https://www.food.com/recipe/61108>\n",
      "\tValue Node: Literal(\"german pancakes  from the mennonite treasury of recipes\")\n",
      "\tResult Path: skos:definition\n",
      "\tMessage: String length not <= Literal(\"50\", datatype=xsd:integer)\n",
      "Constraint Violation in MaxLengthConstraintComponent (http://www.w3.org/ns/shacl#MaxLengthConstraintComponent):\n",
      "\tSeverity: sh:Violation\n",
      "\tSource Shape: [ sh:datatype xsd:string ; sh:maxLength Literal(\"50\", datatype=xsd:integer) ; sh:path skos:definition ]\n",
      "\tFocus Node: <https://www.food.com/recipe/261361>\n",
      "\tValue Node: Literal(\"german dumplings  spaetzle or kniffles  for soup or saute\")\n",
      "\tResult Path: skos:definition\n",
      "\tMessage: String length not <= Literal(\"50\", datatype=xsd:integer)\n",
      "\n"
     ]
    }
   ],
   "source": [
    "print(\"conforms:\", conforms)\n",
    "print(\"\\ngraph:\", v_graph)\n",
    "print(\"\\ntext:\", v_text)"
   ]
  },
  {
   "cell_type": "markdown",
   "metadata": {},
   "source": [
    "SHACL provides excellent resources for ensuring data quality when working with KGs.\n",
    "In addition to validation, SHACL can also be applied for auditing and inference."
   ]
  },
  {
   "cell_type": "markdown",
   "metadata": {},
   "source": [
    "---\n",
    "\n",
    "## Exercises"
   ]
  },
  {
   "cell_type": "markdown",
   "metadata": {},
   "source": [
    "**Exercise 1:**\n",
    "\n",
    "Fix the errors in the first example by modifying its *data graph*, i.e., its ABox.\n",
    "Can you get it to a state were the returned flag `conforms` is true?"
   ]
  },
  {
   "cell_type": "markdown",
   "metadata": {},
   "source": [
    "**Exercise 2:**\n",
    "\n",
    "Extend the SHACL *shape graph* for our recipe KG to validate that each recipe has a non-zero cooking time?\n",
    "How large must the maximum cooking time be set to avoid violations?"
   ]
  }
 ],
 "metadata": {
  "kernelspec": {
   "display_name": "Python 3",
   "language": "python",
   "name": "python3"
  },
  "language_info": {
   "codemirror_mode": {
    "name": "ipython",
    "version": 3
   },
   "file_extension": ".py",
   "mimetype": "text/x-python",
   "name": "python",
   "nbconvert_exporter": "python",
   "pygments_lexer": "ipython3",
   "version": "3.7.4"
  }
 },
 "nbformat": 4,
 "nbformat_minor": 4
}
