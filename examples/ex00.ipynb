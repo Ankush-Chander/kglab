{
 "cells": [
  {
   "cell_type": "markdown",
   "metadata": {},
   "source": [
    "# Data Source\n",
    "\n",
    "Throughout this tutorial we'll work with data in the `dat/recipes.csv` CSV file which comes from a [Kaggle dataset](https://www.kaggle.com/shuyangli94/food-com-recipes-and-user-interactions/metadata):\n",
    "\n",
    "> \"Food.com Recipes and Interactions\"  \n",
    "Shuyang Li  \n",
    "Kaggle (2019)  \n",
    "<https://doi.org/10.34740/kaggle/dsv/783630>"
   ]
  },
  {
   "cell_type": "markdown",
   "metadata": {},
   "source": [
    "One of the simpler recipes in that dataset is **anytime crepes** <https://www.food.com/recipe/327593>\n",
    "\n",
    "  * id: 327593\n",
    "  * minutes: 8\n",
    "  * ingredients: `\"['egg', 'milk', 'whole wheat flour']\"`\n",
    "  \n",
    "Let's load and examine that CSV data:"
   ]
  },
  {
   "cell_type": "code",
   "execution_count": 1,
   "metadata": {},
   "outputs": [
    {
     "data": {
      "text/html": [
       "<div>\n",
       "<style scoped>\n",
       "    .dataframe tbody tr th:only-of-type {\n",
       "        vertical-align: middle;\n",
       "    }\n",
       "\n",
       "    .dataframe tbody tr th {\n",
       "        vertical-align: top;\n",
       "    }\n",
       "\n",
       "    .dataframe thead th {\n",
       "        text-align: right;\n",
       "    }\n",
       "</style>\n",
       "<table border=\"1\" class=\"dataframe\">\n",
       "  <thead>\n",
       "    <tr style=\"text-align: right;\">\n",
       "      <th></th>\n",
       "      <th>id</th>\n",
       "      <th>name</th>\n",
       "      <th>minutes</th>\n",
       "      <th>tags</th>\n",
       "      <th>description</th>\n",
       "      <th>ingredients</th>\n",
       "    </tr>\n",
       "  </thead>\n",
       "  <tbody>\n",
       "    <tr>\n",
       "      <th>0</th>\n",
       "      <td>164636</td>\n",
       "      <td>1 1 1 tempura batter</td>\n",
       "      <td>5</td>\n",
       "      <td>['15-minutes-or-less', 'time-to-make', 'course...</td>\n",
       "      <td>i use this everytime i make onion rings, hot p...</td>\n",
       "      <td>['egg', 'flour', 'water']</td>\n",
       "    </tr>\n",
       "    <tr>\n",
       "      <th>1</th>\n",
       "      <td>144841</td>\n",
       "      <td>2 step pound cake  for a kitchen aide mixer</td>\n",
       "      <td>110</td>\n",
       "      <td>['time-to-make', 'course', 'preparation', 'occ...</td>\n",
       "      <td>this recipe was published in a southern living...</td>\n",
       "      <td>['flour', 'sugar', 'butter', 'milk', 'eggs', '...</td>\n",
       "    </tr>\n",
       "    <tr>\n",
       "      <th>2</th>\n",
       "      <td>189437</td>\n",
       "      <td>40 second omelet</td>\n",
       "      <td>25</td>\n",
       "      <td>['30-minutes-or-less', 'time-to-make', 'course...</td>\n",
       "      <td>you'll need an \"inverted pancake turner\" for t...</td>\n",
       "      <td>['eggs', 'water', 'butter']</td>\n",
       "    </tr>\n",
       "    <tr>\n",
       "      <th>3</th>\n",
       "      <td>19104</td>\n",
       "      <td>all purpose dinner crepes batter</td>\n",
       "      <td>90</td>\n",
       "      <td>['weeknight', 'time-to-make', 'course', 'main-...</td>\n",
       "      <td>this basic crepe recipe can be used for all yo...</td>\n",
       "      <td>['eggs', 'salt', 'flour', 'milk', 'butter']</td>\n",
       "    </tr>\n",
       "    <tr>\n",
       "      <th>4</th>\n",
       "      <td>64793</td>\n",
       "      <td>amish friendship starter</td>\n",
       "      <td>14405</td>\n",
       "      <td>['weeknight', 'time-to-make', 'course', 'cuisi...</td>\n",
       "      <td>this recipe was given to me years ago by a fri...</td>\n",
       "      <td>['sugar', 'flour', 'milk']</td>\n",
       "    </tr>\n",
       "  </tbody>\n",
       "</table>\n",
       "</div>"
      ],
      "text/plain": [
       "       id                                         name  minutes  \\\n",
       "0  164636                         1 1 1 tempura batter        5   \n",
       "1  144841  2 step pound cake  for a kitchen aide mixer      110   \n",
       "2  189437                             40 second omelet       25   \n",
       "3   19104             all purpose dinner crepes batter       90   \n",
       "4   64793                     amish friendship starter    14405   \n",
       "\n",
       "                                                tags  \\\n",
       "0  ['15-minutes-or-less', 'time-to-make', 'course...   \n",
       "1  ['time-to-make', 'course', 'preparation', 'occ...   \n",
       "2  ['30-minutes-or-less', 'time-to-make', 'course...   \n",
       "3  ['weeknight', 'time-to-make', 'course', 'main-...   \n",
       "4  ['weeknight', 'time-to-make', 'course', 'cuisi...   \n",
       "\n",
       "                                         description  \\\n",
       "0  i use this everytime i make onion rings, hot p...   \n",
       "1  this recipe was published in a southern living...   \n",
       "2  you'll need an \"inverted pancake turner\" for t...   \n",
       "3  this basic crepe recipe can be used for all yo...   \n",
       "4  this recipe was given to me years ago by a fri...   \n",
       "\n",
       "                                         ingredients  \n",
       "0                          ['egg', 'flour', 'water']  \n",
       "1  ['flour', 'sugar', 'butter', 'milk', 'eggs', '...  \n",
       "2                        ['eggs', 'water', 'butter']  \n",
       "3        ['eggs', 'salt', 'flour', 'milk', 'butter']  \n",
       "4                         ['sugar', 'flour', 'milk']  "
      ]
     },
     "execution_count": 1,
     "metadata": {},
     "output_type": "execute_result"
    }
   ],
   "source": [
    "import pandas as pd\n",
    "\n",
    "df = pd.read_csv(\"../dat/recipes.csv\")\n",
    "df.head()"
   ]
  },
  {
   "cell_type": "code",
   "execution_count": 2,
   "metadata": {},
   "outputs": [
    {
     "data": {
      "text/plain": [
       "id                                                        327593\n",
       "name                                              anytime crepes\n",
       "minutes                                                        8\n",
       "tags           ['15-minutes-or-less', 'time-to-make', 'course...\n",
       "description    from my friend linda, this is an oh-so-easy-an...\n",
       "ingredients                 ['egg', 'milk', 'whole wheat flour']\n",
       "Name: 8, dtype: object"
      ]
     },
     "execution_count": 2,
     "metadata": {},
     "output_type": "execute_result"
    }
   ],
   "source": [
    "recipe_row = df[df[\"name\"] == \"anytime crepes\"].iloc[0]\n",
    "recipe_row"
   ]
  },
  {
   "cell_type": "markdown",
   "metadata": {},
   "source": [
    "Given that we have a rich source of *linked data* to use, next we need to focus on *knowledge representation*. \n",
    "We'll use the [FoodOn](https://foodon.org/design/foodon-relations/) ontology to represent recipes, making use of two *controlled vocabularies*:\n",
    "\n",
    "  * <http://purl.org/heals/food/>\n",
    "  * <http://purl.org/heals/ingredient/>\n",
    "  \n",
    "The first one defines an entity called `Recipe` which has the full URL of <http://purl.org/heals/food/Recipe> and we'll use that to represent our recipe data from the *Food.com* dataset.\n",
    "  \n",
    "It's a common practice to abbreviate the first part of the URL for a controlled vocabular with a *prefix*.\n",
    "In this case we'll the prefix conventions used in previous publications related to this ontology:\n",
    "\n",
    "| URL | prefix |  \n",
    "| --- | --- |  \n",
    "| <http://purl.org/heals/food/> | `wtm:` |\n",
    "| <http://purl.org/heals/ingredient/> | `ind:` |"
   ]
  },
  {
   "cell_type": "markdown",
   "metadata": {},
   "source": [
    "Now let's represent the data using this ontology, starting with the three ingredients for the **anytime crepes** recipe:"
   ]
  },
  {
   "cell_type": "code",
   "execution_count": 3,
   "metadata": {},
   "outputs": [
    {
     "data": {
      "text/plain": [
       "['egg', 'milk', 'whole wheat flour']"
      ]
     },
     "execution_count": 3,
     "metadata": {},
     "output_type": "execute_result"
    }
   ],
   "source": [
    "ingredients = eval(recipe_row[\"ingredients\"])\n",
    "ingredients"
   ]
  },
  {
   "cell_type": "markdown",
   "metadata": {},
   "source": [
    "These ingredients become represented, respectively, as:\n",
    "\n",
    "  * `ind:ChickenEgg`\n",
    "  * `ind:CowMilk`\n",
    "  * `ind:WholeWheatFlour`"
   ]
  },
  {
   "cell_type": "markdown",
   "metadata": {},
   "source": [
    "---\n",
    "## Misc. Notes (not part of lesson)"
   ]
  },
  {
   "cell_type": "markdown",
   "metadata": {},
   "source": [
    "    <owl:NamedIndividual rdf:about=\"&ind;BananaBlueberryAlmondFlourMuffin\">\n",
    "        <rdf:type rdf:resource=\"&wtm;Recipe\"/>\n",
    "        <wtm:hasIngredient rdf:resource=\"&ind;AlmondMeal\"/>\n",
    "        <wtm:hasIngredient rdf:resource=\"&ind;AppleCiderVinegar\"/>\n",
    "        <wtm:hasIngredient rdf:resource=\"&ind;BakingSoda\"/>\n",
    "        <wtm:hasIngredient rdf:resource=\"&ind;Banana\"/>\n",
    "        <wtm:hasIngredient rdf:resource=\"&ind;Blueberry\"/>\n",
    "        <wtm:hasIngredient rdf:resource=\"&ind;ChickenEgg\"/>\n",
    "        <wtm:hasIngredient rdf:resource=\"&ind;Honey\"/>\n",
    "        <wtm:isRecommendedForCourse rdf:resource=\"&wtm;Dessert\"/>\n",
    "        <wtm:isRecommendedForMeal rdf:resource=\"&wtm;Breakfast\"/>\n",
    "        <wtm:isRecommendedForMeal rdf:resource=\"&wtm;Snack\"/>\n",
    "        <wtm:hasCookTime rdf:datatype=\"&xsd;integer\">60</wtm:hasCookTime>\n",
    "        <wtm:hasCookingTemperature rdf:datatype=\"&xsd;integer\">350</wtm:hasCookingTemperature>\n",
    "        <wtm:serves rdf:datatype=\"&xsd;integer\">4</wtm:serves>\n",
    "        <dct:source>Allrecipes.com, \"Banana Blueberry Almond Flour Muffins ,\" 2010. [Online]. Available: https://www.allrecipes.com/recipe/238012/banana-blueberry-almond-flour-muffins-gluten-free/?internalSource=hub%20recipe&amp;referringContentType=Search. [Accessed Nov.9, 2018]</dct:source>\n",
    "        <rdfs:label>banana blueberry almond flour muffin</rdfs:label>\n",
    "        <skos:definition>a banana blueberry muffin made with almond flour</skos:definition>\n",
    "        <skos:scopeNote>recipe</skos:scopeNote>\n",
    "        <prov:wasDerivedFrom>https://www.allrecipes.com/recipe/238012/banana-blueberry-almond-flour-muffins-gluten-free/?internalSource=hub%20recipe&amp;referringContentType=Search</prov:wasDerivedFrom>\n",
    "    </owl:NamedIndividual>"
   ]
  },
  {
   "cell_type": "markdown",
   "metadata": {},
   "source": [
    "```\n",
    ":x rdf:type wtm:Recipe ,\n",
    "  wtm:hasIngredient ind:ChickenEgg,\n",
    "  wtm:hasIngredient ind:CowMilk,\n",
    "  wtm:hasIngredient ind:WholeWheatFlour,\n",
    "  wtm:hasCookTime 8,\n",
    "  skos:definition \"anytime crepes\",\n",
    "  dct:source <https://www.food.com/recipe/327593>\n",
    "  ;\n",
    "```"
   ]
  }
 ],
 "metadata": {
  "kernelspec": {
   "display_name": "Python 3",
   "language": "python",
   "name": "python3"
  },
  "language_info": {
   "codemirror_mode": {
    "name": "ipython",
    "version": 3
   },
   "file_extension": ".py",
   "mimetype": "text/x-python",
   "name": "python",
   "nbconvert_exporter": "python",
   "pygments_lexer": "ipython3",
   "version": "3.7.4"
  }
 },
 "nbformat": 4,
 "nbformat_minor": 4
}
