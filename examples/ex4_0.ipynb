{
 "cells": [
  {
   "cell_type": "code",
   "execution_count": 1,
   "metadata": {},
   "outputs": [],
   "source": [
    "# for use in tutorial and development; do not include this `sys.path` change in production:\n",
    "import sys ; sys.path.insert(0, \"../\")"
   ]
  },
  {
   "cell_type": "markdown",
   "metadata": {},
   "source": [
    "# Running SPARQL queries\n",
    "\n",
    "[SPARQL](https://www.w3.org/TR/rdf-sparql-query/) is a standard query language for RDF.\n",
    "Note: there are also other approaches for queries, such [SHACL](https://www.w3.org/TR/shacl/) the *Shapes Constraint Language*.\n",
    "\n",
    "In any case, if you've worked with SQL queries before, SPARQL should seem quite familiar.\n",
    "\n",
    "OH: \n",
    ">\"If you build it, they will SPARQL\""
   ]
  },
  {
   "cell_type": "markdown",
   "metadata": {},
   "source": [
    "First, let's define a small graph in RDF:"
   ]
  },
  {
   "cell_type": "code",
   "execution_count": 2,
   "metadata": {},
   "outputs": [],
   "source": [
    "ttl_text = \"\"\"\n",
    "@prefix : <http://www.w3.org/2012/12/rdf-val/SOTA-ex#> .\n",
    "@prefix foaf: <http://xmlns.com/foaf/0.1/'> .\n",
    "\n",
    ":peep0 a foaf:Person ;\n",
    "    foaf:givenName \"Alice\" ;\n",
    "    foaf:familyName \"Nakamoto\" ;\n",
    "    foaf:phone <tel:+1.555.222.2222> ;\n",
    "    foaf:mbox <mailto:alice@example.org> .\n",
    "\n",
    ":peep1 a foaf:Person ;\n",
    "    foaf:givenName \"Bob\" ;\n",
    "    foaf:familyName \"Patel\" ;\n",
    "    foaf:phone <tel:+1.555.666.5150> ;\n",
    "    foaf:mbox <mailto:bob@example.org> .\n",
    "\n",
    ":peep2 a foaf:Person ;\n",
    "    foaf:givenName \"Dhanya\" ;\n",
    "    foaf:familyName \"O'Neill\" ;\n",
    "    foaf:phone <tel:+1.555.123.9876> ;\n",
    "    foaf:mbox <mailto:dhanya@example.org> .\n",
    "\"\"\""
   ]
  },
  {
   "cell_type": "markdown",
   "metadata": {},
   "source": [
    "Then construct a graph using `rdflib`:"
   ]
  },
  {
   "cell_type": "code",
   "execution_count": 3,
   "metadata": {},
   "outputs": [
    {
     "data": {
      "text/plain": [
       "<Graph identifier=N2140fce8d91b41048d2260fe029ccc52 (<class 'rdflib.graph.Graph'>)>"
      ]
     },
     "execution_count": 3,
     "metadata": {},
     "output_type": "execute_result"
    }
   ],
   "source": [
    "import rdflib\n",
    "\n",
    "g = rdflib.Graph()\n",
    "g.parse(data=ttl_text, format=\"ttl\")"
   ]
  },
  {
   "cell_type": "markdown",
   "metadata": {},
   "source": [
    "Now we'll define a SPARQL query to extract the surnames and email addresses for each person in the graph, in descending order by surname:"
   ]
  },
  {
   "cell_type": "code",
   "execution_count": 4,
   "metadata": {},
   "outputs": [],
   "source": [
    "sparql = \"\"\"\n",
    "    SELECT ?person ?surname ?email\n",
    "    WHERE {\n",
    "        ?person foaf:familyName ?surname .\n",
    "        ?person foaf:mbox ?email .\n",
    "    }\n",
    "    ORDER BY DESC(?surname)\n",
    "\"\"\""
   ]
  },
  {
   "cell_type": "markdown",
   "metadata": {},
   "source": [
    "Then run the SPARQL query and iterate over its result set:"
   ]
  },
  {
   "cell_type": "code",
   "execution_count": 5,
   "metadata": {},
   "outputs": [
    {
     "name": "stdout",
     "output_type": "stream",
     "text": [
      "{'person': rdflib.term.URIRef('http://www.w3.org/2012/12/rdf-val/SOTA-ex#peep1'), 'surname': rdflib.term.Literal('Patel'), 'email': rdflib.term.URIRef('mailto:bob@example.org')}\n",
      "{'person': rdflib.term.URIRef('http://www.w3.org/2012/12/rdf-val/SOTA-ex#peep2'), 'surname': rdflib.term.Literal(\"O'Neill\"), 'email': rdflib.term.URIRef('mailto:dhanya@example.org')}\n",
      "{'person': rdflib.term.URIRef('http://www.w3.org/2012/12/rdf-val/SOTA-ex#peep0'), 'surname': rdflib.term.Literal('Nakamoto'), 'email': rdflib.term.URIRef('mailto:alice@example.org')}\n"
     ]
    }
   ],
   "source": [
    "for row in g.query(sparql):\n",
    "    print(row.asdict())"
   ]
  },
  {
   "cell_type": "markdown",
   "metadata": {},
   "source": [
    "To access the URLs and literals from those results in more readable form, use the `n3()` function with the graph's namespaces to extract formatted text from each term:"
   ]
  },
  {
   "cell_type": "code",
   "execution_count": 6,
   "metadata": {},
   "outputs": [
    {
     "name": "stdout",
     "output_type": "stream",
     "text": [
      ":peep1 Patel <mailto:bob@example.org>\n",
      ":peep2 O'Neill <mailto:dhanya@example.org>\n",
      ":peep0 Nakamoto <mailto:alice@example.org>\n"
     ]
    }
   ],
   "source": [
    "for row in g.query(sparql):\n",
    "    person = row[\"person\"].n3(g.namespace_manager)\n",
    "    surname = eval(row[\"surname\"].n3())\n",
    "    email = row[\"email\"].n3()\n",
    "\n",
    "    print(person, surname, email)"
   ]
  },
  {
   "cell_type": "markdown",
   "metadata": {},
   "source": [
    "---\n",
    "\n",
    "## SPARQL queries with `kglab` abstractions"
   ]
  },
  {
   "cell_type": "markdown",
   "metadata": {},
   "source": [
    "Now we'll load our medium size KG from the previous example.\n",
    "Note that an additional namespace with the `nom:` prefix gets added at this point.\n",
    "We'll use that in the following examples:"
   ]
  },
  {
   "cell_type": "code",
   "execution_count": 7,
   "metadata": {},
   "outputs": [],
   "source": [
    "import kglab\n",
    "\n",
    "namespaces = {\n",
    "    \"nom\":  \"http://example.org/#\",\n",
    "    \"wtm\":  \"http://purl.org/heals/food/\",\n",
    "    \"ind\":  \"http://purl.org/heals/ingredient/\",\n",
    "    \"skos\": \"http://www.w3.org/2004/02/skos/core#\",\n",
    "    }\n",
    "\n",
    "kg = kglab.KnowledgeGraph(\n",
    "    name = \"A recipe KG example based on Food.com\",\n",
    "    base_uri = \"https://www.food.com/recipe/\",\n",
    "    language = \"en\",\n",
    "    namespaces = namespaces,\n",
    "    )\n",
    "\n",
    "kg.load_rdf(\"tmp.ttl\")"
   ]
  },
  {
   "cell_type": "markdown",
   "metadata": {},
   "source": [
    "## Identify recipes with special ingredients"
   ]
  },
  {
   "cell_type": "markdown",
   "metadata": {},
   "source": [
    "Let's define a query based on [SPARQL 1.1](https://www.w3.org/TR/sparql11-query/) to look for recipes that use *eggs*:"
   ]
  },
  {
   "cell_type": "code",
   "execution_count": 8,
   "metadata": {
    "scrolled": true
   },
   "outputs": [],
   "source": [
    "sparql = \"\"\"\n",
    "SELECT ?recipe ?definition ?time\n",
    "  WHERE {\n",
    "      ?recipe rdf:type wtm:Recipe .\n",
    "      ?recipe skos:definition ?definition .\n",
    "      ?recipe wtm:hasIngredient ind:ChickenEgg .\n",
    "      ?recipe wtm:hasCookTime ?time\n",
    "  }\n",
    "  ORDER BY DESC(?time)\n",
    "  \"\"\""
   ]
  },
  {
   "cell_type": "markdown",
   "metadata": {},
   "source": [
    "Now we'll run the query and iterate through its result set:"
   ]
  },
  {
   "cell_type": "code",
   "execution_count": 9,
   "metadata": {
    "scrolled": true
   },
   "outputs": [
    {
     "data": {
      "text/html": [
       "<div>\n",
       "<style scoped>\n",
       "    .dataframe tbody tr th:only-of-type {\n",
       "        vertical-align: middle;\n",
       "    }\n",
       "\n",
       "    .dataframe tbody tr th {\n",
       "        vertical-align: top;\n",
       "    }\n",
       "\n",
       "    .dataframe thead th {\n",
       "        text-align: right;\n",
       "    }\n",
       "</style>\n",
       "<table border=\"1\" class=\"dataframe\">\n",
       "  <thead>\n",
       "    <tr style=\"text-align: right;\">\n",
       "      <th></th>\n",
       "      <th>recipe</th>\n",
       "      <th>definition</th>\n",
       "      <th>time</th>\n",
       "    </tr>\n",
       "  </thead>\n",
       "  <tbody>\n",
       "    <tr>\n",
       "      <th>0</th>\n",
       "      <td>&lt;https://www.food.com/recipe/64564&gt;</td>\n",
       "      <td>classic cooked eggnog</td>\n",
       "      <td>1 days 00:30:00</td>\n",
       "    </tr>\n",
       "    <tr>\n",
       "      <th>1</th>\n",
       "      <td>&lt;https://www.food.com/recipe/16163&gt;</td>\n",
       "      <td>safe eggnog</td>\n",
       "      <td>0 days 12:15:00</td>\n",
       "    </tr>\n",
       "    <tr>\n",
       "      <th>2</th>\n",
       "      <td>&lt;https://www.food.com/recipe/43126&gt;</td>\n",
       "      <td>mrs  corbins butter cookies</td>\n",
       "      <td>0 days 06:15:00</td>\n",
       "    </tr>\n",
       "    <tr>\n",
       "      <th>3</th>\n",
       "      <td>&lt;https://www.food.com/recipe/284530&gt;</td>\n",
       "      <td>rooster cookies  sugar cookies</td>\n",
       "      <td>0 days 04:10:00</td>\n",
       "    </tr>\n",
       "    <tr>\n",
       "      <th>4</th>\n",
       "      <td>&lt;https://www.food.com/recipe/31041&gt;</td>\n",
       "      <td>marti s homemade noodles</td>\n",
       "      <td>0 days 02:40:00</td>\n",
       "    </tr>\n",
       "    <tr>\n",
       "      <th>5</th>\n",
       "      <td>&lt;https://www.food.com/recipe/124106&gt;</td>\n",
       "      <td>hungarian noodles homemade</td>\n",
       "      <td>0 days 02:00:00</td>\n",
       "    </tr>\n",
       "    <tr>\n",
       "      <th>6</th>\n",
       "      <td>&lt;https://www.food.com/recipe/144841&gt;</td>\n",
       "      <td>2 step pound cake  for a kitchen aide mixer</td>\n",
       "      <td>0 days 01:50:00</td>\n",
       "    </tr>\n",
       "    <tr>\n",
       "      <th>7</th>\n",
       "      <td>&lt;https://www.food.com/recipe/483334&gt;</td>\n",
       "      <td>wallis  crepes</td>\n",
       "      <td>0 days 01:40:00</td>\n",
       "    </tr>\n",
       "    <tr>\n",
       "      <th>8</th>\n",
       "      <td>&lt;https://www.food.com/recipe/371915&gt;</td>\n",
       "      <td>crepes    alton brown</td>\n",
       "      <td>0 days 01:40:00</td>\n",
       "    </tr>\n",
       "    <tr>\n",
       "      <th>9</th>\n",
       "      <td>&lt;https://www.food.com/recipe/272433&gt;</td>\n",
       "      <td>fannie farmer s pound cake</td>\n",
       "      <td>0 days 01:35:00</td>\n",
       "    </tr>\n",
       "    <tr>\n",
       "      <th>10</th>\n",
       "      <td>&lt;https://www.food.com/recipe/19097&gt;</td>\n",
       "      <td>basic dessert crepes batter</td>\n",
       "      <td>0 days 01:30:00</td>\n",
       "    </tr>\n",
       "    <tr>\n",
       "      <th>11</th>\n",
       "      <td>&lt;https://www.food.com/recipe/77354&gt;</td>\n",
       "      <td>wonton wrappers</td>\n",
       "      <td>0 days 01:30:00</td>\n",
       "    </tr>\n",
       "    <tr>\n",
       "      <th>12</th>\n",
       "      <td>&lt;https://www.food.com/recipe/362055&gt;</td>\n",
       "      <td>miss ellen s pound cake</td>\n",
       "      <td>0 days 01:30:00</td>\n",
       "    </tr>\n",
       "    <tr>\n",
       "      <th>13</th>\n",
       "      <td>&lt;https://www.food.com/recipe/19104&gt;</td>\n",
       "      <td>all purpose dinner crepes batter</td>\n",
       "      <td>0 days 01:30:00</td>\n",
       "    </tr>\n",
       "    <tr>\n",
       "      <th>14</th>\n",
       "      <td>&lt;https://www.food.com/recipe/497918&gt;</td>\n",
       "      <td>easy homemade noodles</td>\n",
       "      <td>0 days 01:30:00</td>\n",
       "    </tr>\n",
       "    <tr>\n",
       "      <th>15</th>\n",
       "      <td>&lt;https://www.food.com/recipe/90391&gt;</td>\n",
       "      <td>linda s perfect popovers</td>\n",
       "      <td>0 days 01:20:00</td>\n",
       "    </tr>\n",
       "    <tr>\n",
       "      <th>16</th>\n",
       "      <td>&lt;https://www.food.com/recipe/499338&gt;</td>\n",
       "      <td>magic cake</td>\n",
       "      <td>0 days 01:20:00</td>\n",
       "    </tr>\n",
       "    <tr>\n",
       "      <th>17</th>\n",
       "      <td>&lt;https://www.food.com/recipe/234763&gt;</td>\n",
       "      <td>norwegian krumkake</td>\n",
       "      <td>0 days 01:15:00</td>\n",
       "    </tr>\n",
       "    <tr>\n",
       "      <th>18</th>\n",
       "      <td>&lt;https://www.food.com/recipe/151617&gt;</td>\n",
       "      <td>sugar cookies for ceramic cookie molds</td>\n",
       "      <td>0 days 01:15:00</td>\n",
       "    </tr>\n",
       "    <tr>\n",
       "      <th>19</th>\n",
       "      <td>&lt;https://www.food.com/recipe/137357&gt;</td>\n",
       "      <td>dane dumplings</td>\n",
       "      <td>0 days 01:15:00</td>\n",
       "    </tr>\n",
       "  </tbody>\n",
       "</table>\n",
       "</div>"
      ],
      "text/plain": [
       "                                  recipe  \\\n",
       "0    <https://www.food.com/recipe/64564>   \n",
       "1    <https://www.food.com/recipe/16163>   \n",
       "2    <https://www.food.com/recipe/43126>   \n",
       "3   <https://www.food.com/recipe/284530>   \n",
       "4    <https://www.food.com/recipe/31041>   \n",
       "5   <https://www.food.com/recipe/124106>   \n",
       "6   <https://www.food.com/recipe/144841>   \n",
       "7   <https://www.food.com/recipe/483334>   \n",
       "8   <https://www.food.com/recipe/371915>   \n",
       "9   <https://www.food.com/recipe/272433>   \n",
       "10   <https://www.food.com/recipe/19097>   \n",
       "11   <https://www.food.com/recipe/77354>   \n",
       "12  <https://www.food.com/recipe/362055>   \n",
       "13   <https://www.food.com/recipe/19104>   \n",
       "14  <https://www.food.com/recipe/497918>   \n",
       "15   <https://www.food.com/recipe/90391>   \n",
       "16  <https://www.food.com/recipe/499338>   \n",
       "17  <https://www.food.com/recipe/234763>   \n",
       "18  <https://www.food.com/recipe/151617>   \n",
       "19  <https://www.food.com/recipe/137357>   \n",
       "\n",
       "                                     definition            time  \n",
       "0                         classic cooked eggnog 1 days 00:30:00  \n",
       "1                                   safe eggnog 0 days 12:15:00  \n",
       "2                   mrs  corbins butter cookies 0 days 06:15:00  \n",
       "3                rooster cookies  sugar cookies 0 days 04:10:00  \n",
       "4                      marti s homemade noodles 0 days 02:40:00  \n",
       "5                    hungarian noodles homemade 0 days 02:00:00  \n",
       "6   2 step pound cake  for a kitchen aide mixer 0 days 01:50:00  \n",
       "7                                wallis  crepes 0 days 01:40:00  \n",
       "8                         crepes    alton brown 0 days 01:40:00  \n",
       "9                    fannie farmer s pound cake 0 days 01:35:00  \n",
       "10                  basic dessert crepes batter 0 days 01:30:00  \n",
       "11                              wonton wrappers 0 days 01:30:00  \n",
       "12                      miss ellen s pound cake 0 days 01:30:00  \n",
       "13             all purpose dinner crepes batter 0 days 01:30:00  \n",
       "14                        easy homemade noodles 0 days 01:30:00  \n",
       "15                     linda s perfect popovers 0 days 01:20:00  \n",
       "16                                   magic cake 0 days 01:20:00  \n",
       "17                           norwegian krumkake 0 days 01:15:00  \n",
       "18       sugar cookies for ceramic cookie molds 0 days 01:15:00  \n",
       "19                               dane dumplings 0 days 01:15:00  "
      ]
     },
     "execution_count": 9,
     "metadata": {},
     "output_type": "execute_result"
    }
   ],
   "source": [
    "import pandas as pd\n",
    "pd.set_option(\"max_rows\", None)\n",
    "\n",
    "df = kg.query_as_df(sparql)\n",
    "df.head(20)"
   ]
  },
  {
   "cell_type": "markdown",
   "metadata": {},
   "source": [
    "That's interesting – notice the outliers based on cooking times, i.e., recipes for *eggnog* or special kinds of *cookies* and *noodles*. Some of these take hours or even days to prepare."
   ]
  },
  {
   "cell_type": "markdown",
   "metadata": {},
   "source": [
    "## Using SPARQL queries and post-processing to create annotations\n",
    "\n",
    "Let's begin to add [*annotations*](https://www.w3.org/TR/annotation-model/) to the KG.\n",
    "In other words, we'll add descriptions to the recipes to help classify them based on an [*ontology*](https://www.datasciencecentral.com/profiles/blogs/understanding-how-taxonomies-differ-from-ontologies).\n",
    "\n",
    "We've created a brief *controlled vocabulary* in RDF called `NOM` in the `dat/nom.ttl` file, which provides part of a simple taxonomy for our recipes.\n",
    "Take a look at those definitions – mostly these are distinctions between two kind of flour-based recipes:\n",
    "\n",
    "  * \"pancakes\" -- which use batter in their preparation\n",
    "  * \"noodles\" -- which use kneading in their preparation\n",
    "  \n",
    "Let's include these definitions in our KG:"
   ]
  },
  {
   "cell_type": "code",
   "execution_count": 10,
   "metadata": {},
   "outputs": [],
   "source": [
    "kg.load_rdf(\"../dat/nom.ttl\")"
   ]
  },
  {
   "cell_type": "markdown",
   "metadata": {},
   "source": [
    "Now we'll query the KG, specifically looking for recipes that use *flour*, *eggs*, *salt* among their ingredients:"
   ]
  },
  {
   "cell_type": "code",
   "execution_count": 11,
   "metadata": {
    "scrolled": true
   },
   "outputs": [],
   "source": [
    "sparql = \"\"\"\n",
    "SELECT ?recipe ?definition\n",
    "  WHERE {\n",
    "    ?recipe rdf:type wtm:Recipe .\n",
    "    ?recipe skos:definition ?definition .\n",
    "    ?recipe wtm:hasIngredient ind:ChickenEgg .\n",
    "    ?recipe wtm:hasIngredient ind:AllPurposeFlour .\n",
    "    ?recipe wtm:hasIngredient ind:Salt\n",
    "  }\n",
    "  \"\"\""
   ]
  },
  {
   "cell_type": "markdown",
   "metadata": {},
   "source": [
    "While looping through a query result set, we can perform some post-processing which would have been quite difficult to express in the SPARQL query language, although relatively simple within a Python loop. For instance, we can compare two points for each recipe in the results:\n",
    "\n",
    "  * Is the word noodle or its close synonyms in the recipe description?\n",
    "  * Does the recipe use butter?\n",
    "  \n",
    "Our `dat/nom.ttl` vocabulary that we've just added to the KG distinguishes between a `nom:Noodle` and a `nom:Pancake` as two categories of flour-based recipes. Let's run this query to look through the flour-based recipes and determine whether we might be able to specific rules to distinguish between noodle-ish foods and pancake-ish foods.  For example, using butter is rare among noodle recipes that also use eggs, though more common for pancakes."
   ]
  },
  {
   "cell_type": "code",
   "execution_count": 12,
   "metadata": {
    "scrolled": true
   },
   "outputs": [
    {
     "name": "stdout",
     "output_type": "stream",
     "text": [
      "https://www.food.com/recipe/140570\n",
      " rivilchas\n",
      " False False\n",
      "\n",
      "https://www.food.com/recipe/61108\n",
      " german pancakes  from the mennonite treasury of recipes\n",
      " False False\n",
      "\n",
      "https://www.food.com/recipe/277824\n",
      " easy basic crepes\n",
      " False False\n",
      "\n",
      "https://www.food.com/recipe/77354\n",
      " wonton wrappers\n",
      " False False\n",
      "\n",
      "https://www.food.com/recipe/171106\n",
      " jamie oliver s huge yorkshire puddings\n",
      " False False\n",
      "\n",
      "https://www.food.com/recipe/280663\n",
      " yorkhire pudding aka popovers\n",
      " False False\n",
      "\n",
      "https://www.food.com/recipe/20191\n",
      " perfect boiled custard\n",
      " False False\n",
      "\n",
      "https://www.food.com/recipe/60413\n",
      " never fail popovers\n",
      " False False\n",
      "\n",
      "https://www.food.com/recipe/96087\n",
      " fresh made manicotti or cannelloni crepes shells\n",
      " False False\n",
      "\n",
      "https://www.food.com/recipe/60149\n",
      " kielke\n",
      " False False\n",
      "\n",
      "https://www.food.com/recipe/136111\n",
      " small batch popovers\n",
      " False False\n",
      "\n",
      "https://www.food.com/recipe/232248\n",
      " hootenanny\n",
      " False False\n",
      "\n",
      "https://www.food.com/recipe/16051\n",
      " plain popovers\n",
      " False False\n",
      "\n",
      "https://www.food.com/recipe/208673\n",
      " egg filling for sushi\n",
      " False False\n",
      "\n",
      "https://www.food.com/recipe/124131\n",
      " basic crepes mix in blender\n",
      " False False\n",
      "\n",
      "https://www.food.com/recipe/93990\n",
      " egg roll wrappers\n",
      " False False\n",
      "\n",
      "https://www.food.com/recipe/221279\n",
      " paula deen s popovers\n",
      " False False\n",
      "\n",
      "https://www.food.com/recipe/72129\n",
      " muffin tin popovers\n",
      " False False\n",
      "\n",
      "https://www.food.com/recipe/424328\n",
      " wonton wrappers made at home\n",
      " False False\n",
      "\n",
      "https://www.food.com/recipe/268242\n",
      " single crepe\n",
      " False False\n",
      "\n",
      "https://www.food.com/recipe/384137\n",
      " anya s dutch pancakes\n",
      " False False\n",
      "\n",
      "https://www.food.com/recipe/235292\n",
      " norwegian pancakes   pannekaken\n",
      " False False\n",
      "\n",
      "https://www.food.com/recipe/62799\n",
      " old fashioned sponge cake\n",
      " False False\n",
      "\n",
      "https://www.food.com/recipe/105830\n",
      " no beat popovers\n",
      " False False\n",
      "\n",
      "https://www.food.com/recipe/136571\n",
      " uncle don s swedish pancakes\n",
      " False False\n",
      "\n",
      "https://www.food.com/recipe/255748\n",
      " german pancake shreds  for clear soups\n",
      " False False\n",
      "\n",
      "https://www.food.com/recipe/368491\n",
      " unleavened bread\n",
      " False False\n",
      "\n"
     ]
    }
   ],
   "source": [
    "tally = []\n",
    "\n",
    "for row in kg.query(sparql):\n",
    "    url = row.recipe\n",
    "    recipe_name = row.definition\n",
    "    \n",
    "    # collect two flags to evaluate our noodle vs. pancake rules\n",
    "    has_butter = (url, kg.get_ns(\"wtm\").hasIngredient, kg.get_ns(\"ind\").Butter) in kg.rdf_graph()\n",
    "    sez_noodle =  any([x in recipe_name for x in [\"noodle\", \"spaetzle\", \"dumpling\", \"pasta\"]])\n",
    "    tally.append(str([ has_butter, sez_noodle ]))\n",
    "\n",
    "    if not has_butter and not sez_noodle:\n",
    "        print(\"{}\\n {}\\n {} {}\\n\".format(url, recipe_name, has_butter, sez_noodle))"
   ]
  },
  {
   "cell_type": "markdown",
   "metadata": {},
   "source": [
    "Let's tally a *confusion matrix* based on what we observed from the query results:"
   ]
  },
  {
   "cell_type": "code",
   "execution_count": 13,
   "metadata": {},
   "outputs": [
    {
     "data": {
      "text/plain": [
       "Counter({'[False, False]': 27,\n",
       "         '[True, False]': 53,\n",
       "         '[False, True]': 15,\n",
       "         '[True, True]': 7})"
      ]
     },
     "execution_count": 13,
     "metadata": {},
     "output_type": "execute_result"
    }
   ],
   "source": [
    "from collections import Counter\n",
    "\n",
    "Counter(tally)"
   ]
  },
  {
   "cell_type": "markdown",
   "metadata": {},
   "source": [
    "In this sample the conditional probability `P(sez_noodle|has_butter)` is approximately 1:2, while `P(has_butter|sez_noodle)` is approximately 1:4 (i.e., significantly lower).\n",
    "So these conditions seem reasonably good to use as filters for identifying which recipes to annotate.\n",
    "\n",
    "Of course, not every recipe is either a kind of pancake or noodle, since there are recipes for *omelette*, *Yorkshire pudding*, etc. We'll revisit this kind of problem later with more formal, semi-automated methods that leverage machine learning.\n",
    "\n",
    "For now let's add annotations based on our manual review:"
   ]
  },
  {
   "cell_type": "code",
   "execution_count": 14,
   "metadata": {},
   "outputs": [],
   "source": [
    "noodle_ids = { \"400\", \"86710\", \"331765\", \"508734\", \"320154\", \"220361\", \"148900\", \"317697\", \"252783\", \"137357\", \"1975\", \"31041\", \"441475\", \"261361\", \"124106\", \"78459\", \"358908\", \"103964\", \"91311\", \"497918\", \"328388\" }"
   ]
  },
  {
   "cell_type": "code",
   "execution_count": 15,
   "metadata": {},
   "outputs": [],
   "source": [
    "pancake_ids = { \"277824\", \"489\", \"4643\", \"272746\", \"12055\", \"124131\", \"40772\", \"459\", \"48178\", \"124176\", \"61108\", \"111008\", \"262038\", \"458\", \"440398\", \"157638\" }"
   ]
  },
  {
   "cell_type": "code",
   "execution_count": 16,
   "metadata": {},
   "outputs": [],
   "source": [
    "for id in noodle_ids:\n",
    "    url = f\"https://www.food.com/recipe/{id}\"\n",
    "    node = rdflib.URIRef(url)\n",
    "    kg.add(node, kg.get_ns(\"rdf\").type, kg.get_ns(\"nom\").Noodle)\n",
    "\n",
    "for id in pancake_ids:\n",
    "    url = f\"https://www.food.com/recipe/{id}\"\n",
    "    node = rdflib.URIRef(url)\n",
    "    kg.add(node, kg.get_ns(\"rdf\").type, kg.get_ns(\"nom\").Pancake)\n",
    "\n",
    "kg.save_rdf(\"tmp.ttl\")"
   ]
  },
  {
   "cell_type": "markdown",
   "metadata": {},
   "source": [
    "Now open the `tmp.ttl` file.\n",
    "Notice the new annotations for `nom:Noodle` and `nom:Pancake` added to the recipes?"
   ]
  },
  {
   "cell_type": "markdown",
   "metadata": {},
   "source": [
    "---\n",
    "\n",
    "## Exercises"
   ]
  },
  {
   "cell_type": "markdown",
   "metadata": {},
   "source": [
    "**Exercise 1:**\n",
    "\n",
    "A third category of recipes that use *flour*, *eggs*, *salt* among their ingredients would be \n",
    "[*popovers*](https://en.wikipedia.org/wiki/Popover) (US usage) which are much the same as [*Yorkshire pudding*](https://en.wikipedia.org/wiki/Yorkshire_pudding) (UK usage).\n",
    "\n",
    "Extend the `nom.ttl` vocabulary to include the definition of a `popover`"
   ]
  },
  {
   "cell_type": "markdown",
   "metadata": {},
   "source": [
    "**Exercise 2:**\n",
    "\n",
    "Revise the queries and post-processing above to identifier popover recipes."
   ]
  },
  {
   "cell_type": "markdown",
   "metadata": {},
   "source": [
    "**Exercise 3:**\n",
    "\n",
    "Construct a `popover_ids` list for the identified recipes."
   ]
  },
  {
   "cell_type": "markdown",
   "metadata": {},
   "source": [
    "**Exercise 4:**\n",
    "    \n",
    "Annotate the KG to include `nom:popover` definitions for popovers."
   ]
  }
 ],
 "metadata": {
  "kernelspec": {
   "display_name": "Python 3",
   "language": "python",
   "name": "python3"
  },
  "language_info": {
   "codemirror_mode": {
    "name": "ipython",
    "version": 3
   },
   "file_extension": ".py",
   "mimetype": "text/x-python",
   "name": "python",
   "nbconvert_exporter": "python",
   "pygments_lexer": "ipython3",
   "version": "3.7.4"
  }
 },
 "nbformat": 4,
 "nbformat_minor": 4
}
