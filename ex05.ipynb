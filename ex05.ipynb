{
 "cells": [
  {
   "cell_type": "markdown",
   "metadata": {},
   "source": [
    "# Running SPARQL queries\n",
    "\n",
    "[SPARQL](https://www.w3.org/TR/rdf-sparql-query/) is a standard query language for RDF.\n",
    "Note: there are also other approaches for queries, such [SHACL](https://www.w3.org/TR/shacl/) the *Shapes Constraint Language*.\n",
    "\n",
    "In any case, if you've worked with SQL queries before, SPARQL should seem quite familiar.\n",
    "\n",
    "OH: \n",
    ">\"If you build it, they will SPARQL\""
   ]
  },
  {
   "cell_type": "markdown",
   "metadata": {},
   "source": [
    "First, let's define a small graph in RDF:"
   ]
  },
  {
   "cell_type": "code",
   "execution_count": 1,
   "metadata": {},
   "outputs": [],
   "source": [
    "n3_string = \"\"\"\n",
    "@prefix : <http://www.w3.org/2012/12/rdf-val/SOTA-ex#> .\n",
    "@prefix foaf: <http://xmlns.com/foaf/0.1/'> .\n",
    "\n",
    ":peep0 a foaf:Person ;\n",
    "    foaf:givenName \"Alice\" ;\n",
    "    foaf:familyName \"Nakamoto\" ;\n",
    "    foaf:phone <tel:+1.555.222.2222> ;\n",
    "    foaf:mbox <mailto:alice@example.com> .\n",
    "\n",
    ":peep1 a foaf:Person ;\n",
    "    foaf:givenName \"Bob\" ;\n",
    "    foaf:familyName \"Patel\" ;\n",
    "    foaf:phone <tel:+1.555.666.5150> ;\n",
    "    foaf:mbox <mailto:bob@example.com> .\n",
    "\n",
    ":peep2 a foaf:Person ;\n",
    "    foaf:givenName \"Dhanya\" ;\n",
    "    foaf:familyName \"O'Neill\" ;\n",
    "    foaf:phone <tel:+1.555.123.9876> ;\n",
    "    foaf:mbox <mailto:dhanya@example.com> .\n",
    "\"\"\""
   ]
  },
  {
   "cell_type": "markdown",
   "metadata": {},
   "source": [
    "Then construct a graph using `rdflib`:"
   ]
  },
  {
   "cell_type": "code",
   "execution_count": 2,
   "metadata": {},
   "outputs": [
    {
     "data": {
      "text/plain": [
       "<Graph identifier=Nd4ac0eaa7acd462186c3a45cfc6c2fc4 (<class 'rdflib.graph.Graph'>)>"
      ]
     },
     "execution_count": 2,
     "metadata": {},
     "output_type": "execute_result"
    }
   ],
   "source": [
    "import rdflib as rdf\n",
    "import rdflib.namespace\n",
    "\n",
    "g = rdf.Graph()\n",
    "g.parse(data=n3_string, format=\"n3\")"
   ]
  },
  {
   "cell_type": "markdown",
   "metadata": {},
   "source": [
    "Now we'll define a SPARQL query to extract the surnames and email addresses for each person in the graph, in descending order by surname:"
   ]
  },
  {
   "cell_type": "code",
   "execution_count": 3,
   "metadata": {},
   "outputs": [],
   "source": [
    "query = \"\"\"\n",
    "    SELECT ?person ?surname ?email\n",
    "    WHERE {\n",
    "        ?person foaf:familyName ?surname .\n",
    "        ?person foaf:mbox ?email .\n",
    "    }\n",
    "    ORDER BY DESC(?surname)\n",
    "\"\"\""
   ]
  },
  {
   "cell_type": "markdown",
   "metadata": {},
   "source": [
    "Then run the SPARQL query and iterate over its result set:"
   ]
  },
  {
   "cell_type": "code",
   "execution_count": 4,
   "metadata": {},
   "outputs": [
    {
     "name": "stdout",
     "output_type": "stream",
     "text": [
      "(rdflib.term.URIRef('http://www.w3.org/2012/12/rdf-val/SOTA-ex#peep1'), rdflib.term.Literal('Patel'), rdflib.term.URIRef('mailto:bob@example.com'))\n",
      "(rdflib.term.URIRef('http://www.w3.org/2012/12/rdf-val/SOTA-ex#peep2'), rdflib.term.Literal(\"O'Neill\"), rdflib.term.URIRef('mailto:dhanya@example.com'))\n",
      "(rdflib.term.URIRef('http://www.w3.org/2012/12/rdf-val/SOTA-ex#peep0'), rdflib.term.Literal('Nakamoto'), rdflib.term.URIRef('mailto:alice@example.com'))\n"
     ]
    }
   ],
   "source": [
    "for row in g.query(query):\n",
    "    print(row)"
   ]
  },
  {
   "cell_type": "markdown",
   "metadata": {},
   "source": [
    "To access the URLs and literals from those results in more readable form, use the `n3()` function with the graph's namespaces to extract formatted text from each term:"
   ]
  },
  {
   "cell_type": "code",
   "execution_count": 5,
   "metadata": {},
   "outputs": [
    {
     "name": "stdout",
     "output_type": "stream",
     "text": [
      ":peep1 Patel <mailto:bob@example.com>\n",
      ":peep2 O'Neill <mailto:dhanya@example.com>\n",
      ":peep0 Nakamoto <mailto:alice@example.com>\n"
     ]
    }
   ],
   "source": [
    "for row in g.query(query):\n",
    "    person = row[0].n3(g.namespace_manager)\n",
    "    surname = eval(row[1].n3())\n",
    "    email = row[2].n3()\n",
    "\n",
    "    print(person, surname, email)"
   ]
  },
  {
   "cell_type": "markdown",
   "metadata": {},
   "source": [
    "---\n",
    "\n",
    "## SPARQL queries with `kglab` abstractions"
   ]
  },
  {
   "cell_type": "markdown",
   "metadata": {},
   "source": [
    "Now we'll load our medium size KG serialized as `tmp.ttl` from the previous example – although note that we're adding `nom:` as an additional vocabulary namespace:"
   ]
  },
  {
   "cell_type": "code",
   "execution_count": 6,
   "metadata": {},
   "outputs": [],
   "source": [
    "import kglab\n",
    "\n",
    "namespaces = {\n",
    "    \"wtm\": \"http://purl.org/heals/food/\",\n",
    "    \"ind\": \"http://purl.org/heals/ingredient/\",\n",
    "    \"nom\": \"https://github.com/DerwenAI/kglab/wiki/Vocab#\",\n",
    "    }\n",
    "\n",
    "kg = kglab.KnowledgeGraph(\n",
    "    name = \"A recipe KG example based on Food.com\",\n",
    "    base_uri = \"https://www.food.com/recipe/\",\n",
    "    language = \"en\",\n",
    "    namespaces = namespaces,\n",
    "    )\n",
    "\n",
    "kg.load_ttl(\"tmp.ttl\")"
   ]
  },
  {
   "cell_type": "markdown",
   "metadata": {},
   "source": [
    "## Identify recipes with special ingredients and cooking times"
   ]
  },
  {
   "cell_type": "markdown",
   "metadata": {},
   "source": [
    "Let's define a query based on [SPARQL 1.1](https://www.w3.org/TR/sparql11-query/) to look for recipes that use *eggs* and require at least 1.5 hours to prepare:"
   ]
  },
  {
   "cell_type": "code",
   "execution_count": 7,
   "metadata": {
    "scrolled": true
   },
   "outputs": [],
   "source": [
    "query = \"\"\"\n",
    "SELECT ?rec ?def ?time\n",
    "  WHERE {\n",
    "      ?rec rdf:type wtm:Recipe .\n",
    "      ?rec skos:definition ?def .\n",
    "      ?rec wtm:hasIngredient ind:ChickenEgg .\n",
    "      ?rec wtm:hasCookTime ?time .\n",
    "      FILTER (?time >= 90)\n",
    "  }\n",
    "  ORDER BY DESC(?time)\n",
    "        \"\"\""
   ]
  },
  {
   "cell_type": "markdown",
   "metadata": {},
   "source": [
    "Now we'll run the query and iterate through its result set:"
   ]
  },
  {
   "cell_type": "code",
   "execution_count": 8,
   "metadata": {
    "scrolled": true
   },
   "outputs": [
    {
     "name": "stdout",
     "output_type": "stream",
     "text": [
      "https://www.food.com/recipe/31041\n",
      " marti s homemade noodles\n",
      " 160 minutes\n",
      "\n",
      "https://www.food.com/recipe/124106\n",
      " hungarian noodles homemade\n",
      " 120 minutes\n",
      "\n",
      "https://www.food.com/recipe/371915\n",
      " crepes    alton brown\n",
      " 100 minutes\n",
      "\n",
      "https://www.food.com/recipe/77354\n",
      " wonton wrappers\n",
      " 90 minutes\n",
      "\n",
      "https://www.food.com/recipe/19104\n",
      " all purpose dinner crepes batter\n",
      " 90 minutes\n",
      "\n",
      "https://www.food.com/recipe/497918\n",
      " easy homemade noodles\n",
      " 90 minutes\n",
      "\n"
     ]
    }
   ],
   "source": [
    "for row in kg.query(query):\n",
    "    rec, recipe_name, cook_time = row\n",
    "    print(\"{}\\n {}\\n {} minutes\\n\".format(rec, recipe_name, cook_time))"
   ]
  },
  {
   "cell_type": "markdown",
   "metadata": {},
   "source": [
    "That's interesting – notice the outliers based on cooking times, i.e., recipes for special kinds of *noodles*. Some of these take 2-3 hours to prepare."
   ]
  },
  {
   "cell_type": "markdown",
   "metadata": {},
   "source": [
    "## Using SPARQL queries and post-processing to create annotations\n",
    "\n",
    "Let's begin to add [*annotations*](https://www.w3.org/TR/annotation-model/) to the KG.\n",
    "In other words, we'll add descriptions to the recipes to help classify them based on an [*ontology*](https://www.datasciencecentral.com/profiles/blogs/understanding-how-taxonomies-differ-from-ontologies).\n",
    "\n",
    "We've created a brief *controlled vocabulary* in RDF called `NOM` in the `nom.ttl` file, which provides part of a simple taxonomy for our recipes.\n",
    "Take a look at those definitions – mostly these are distinctions between two kind of flour-based recipes:\n",
    "\n",
    "  * \"pancakes\" -- which use batter in their preparation\n",
    "  * \"noodles\" -- which use kneading in their preparation\n",
    "  \n",
    "Let's load these definitions into our KG:"
   ]
  },
  {
   "cell_type": "code",
   "execution_count": 9,
   "metadata": {},
   "outputs": [],
   "source": [
    "kg.load_ttl(\"nom.ttl\")"
   ]
  },
  {
   "cell_type": "markdown",
   "metadata": {},
   "source": [
    "Now we'll query the KG, specifically looking for recipes that use *flour*, *eggs*, *salt* among their ingredients:"
   ]
  },
  {
   "cell_type": "code",
   "execution_count": 10,
   "metadata": {
    "scrolled": true
   },
   "outputs": [],
   "source": [
    "query = \"\"\"\n",
    "SELECT ?rec ?def\n",
    "  WHERE {\n",
    "    ?rec rdf:type wtm:Recipe .\n",
    "    ?rec skos:definition ?def .\n",
    "    ?rec wtm:hasIngredient ind:ChickenEgg .\n",
    "    ?rec wtm:hasIngredient ind:AllPurposeFlour .\n",
    "    ?rec wtm:hasIngredient ind:Salt\n",
    "  }\n",
    "        \"\"\""
   ]
  },
  {
   "cell_type": "markdown",
   "metadata": {},
   "source": [
    "Next, while looping through the query result set, we'll perform some post-processing which would be quite difficult to express in the query language, although relatively simple within a Python loop.\n",
    "We can compare two points for each recipe in the results:\n",
    "\n",
    "  * Is the word noodle or its close synonyms in the recipe description?\n",
    "  * Does the recipe use butter?\n",
    "  \n",
    "Our `nom.ttl` ontology loaded above distinguishes between a `nom:Noodle` and a `nom:Pancake` as two categories of flour-based recipes. Let's run this look and review the results, then determine whether we might be able to specific rules to distinguish between noodle-ish foods and pancake-ish foods.  For example, using butter is rare among noodle recipes that also use eggs, though more common for pancakes."
   ]
  },
  {
   "cell_type": "code",
   "execution_count": 11,
   "metadata": {
    "scrolled": true
   },
   "outputs": [
    {
     "name": "stdout",
     "output_type": "stream",
     "text": [
      "https://www.food.com/recipe/277824\n",
      " easy basic crepes\n",
      " False False\n",
      "\n",
      "https://www.food.com/recipe/317697\n",
      " swabian noodles  spatzle\n",
      " False True\n",
      "\n",
      "https://www.food.com/recipe/441475\n",
      " swiss spaetzle  very easy homemade noodle\n",
      " False True\n",
      "\n",
      "https://www.food.com/recipe/60413\n",
      " never fail popovers\n",
      " False False\n",
      "\n",
      "https://www.food.com/recipe/111008\n",
      " flop proof crepes\n",
      " True False\n",
      "\n",
      "https://www.food.com/recipe/137357\n",
      " dane dumplings\n",
      " True True\n",
      "\n",
      "https://www.food.com/recipe/72129\n",
      " muffin tin popovers\n",
      " False False\n",
      "\n",
      "https://www.food.com/recipe/262038\n",
      " crepe batter\n",
      " True False\n",
      "\n",
      "https://www.food.com/recipe/497918\n",
      " easy homemade noodles\n",
      " False True\n",
      "\n",
      "https://www.food.com/recipe/140570\n",
      " rivilchas\n",
      " False False\n",
      "\n",
      "https://www.food.com/recipe/19104\n",
      " all purpose dinner crepes batter\n",
      " True False\n",
      "\n",
      "https://www.food.com/recipe/186892\n",
      " pate a choux\n",
      " True False\n",
      "\n",
      "https://www.food.com/recipe/157638\n",
      " hootenanny pancakes\n",
      " True False\n",
      "\n",
      "https://www.food.com/recipe/280663\n",
      " yorkhire pudding aka popovers\n",
      " False False\n",
      "\n",
      "https://www.food.com/recipe/459\n",
      " basic crepes\n",
      " True False\n",
      "\n",
      "https://www.food.com/recipe/78459\n",
      " ukrainian lokshyna  egg noodles\n",
      " False True\n",
      "\n",
      "https://www.food.com/recipe/124131\n",
      " basic crepes mix in blender\n",
      " False False\n",
      "\n",
      "https://www.food.com/recipe/1975\n",
      " grandma hornsby s homemade noodles\n",
      " False True\n",
      "\n",
      "https://www.food.com/recipe/103073\n",
      " simple popovers\n",
      " True False\n",
      "\n",
      "https://www.food.com/recipe/48178\n",
      " oven pancake puff\n",
      " True False\n",
      "\n",
      "https://www.food.com/recipe/272746\n",
      " simple and basic crepe batter\n",
      " True False\n",
      "\n",
      "https://www.food.com/recipe/173544\n",
      " whole wheat popovers\n",
      " True False\n",
      "\n",
      "https://www.food.com/recipe/399\n",
      " spaetzle   hungarian\n",
      " False True\n",
      "\n",
      "https://www.food.com/recipe/171106\n",
      " jamie oliver s huge yorkshire puddings\n",
      " False False\n",
      "\n",
      "https://www.food.com/recipe/440398\n",
      " dutch baby  aka  german pancake or puff pancake\n",
      " True False\n",
      "\n",
      "https://www.food.com/recipe/91311\n",
      " no fail homemade noodles\n",
      " False True\n",
      "\n",
      "https://www.food.com/recipe/268209\n",
      " honey wheat popovers\n",
      " True False\n",
      "\n",
      "https://www.food.com/recipe/137046\n",
      " swedish country style scrambled eggs\n",
      " True False\n",
      "\n",
      "https://www.food.com/recipe/77354\n",
      " wonton wrappers\n",
      " False False\n",
      "\n",
      "https://www.food.com/recipe/458\n",
      " basic crepes ii\n",
      " True False\n",
      "\n",
      "https://www.food.com/recipe/261361\n",
      " german dumplings  spaetzle or kniffles  for soup or saute\n",
      " False True\n",
      "\n",
      "https://www.food.com/recipe/328388\n",
      " spaetzel dumplings\n",
      " False True\n",
      "\n",
      "https://www.food.com/recipe/90391\n",
      " linda s perfect popovers\n",
      " True False\n",
      "\n",
      "https://www.food.com/recipe/109196\n",
      " galuska for stew  dumplings\n",
      " True True\n",
      "\n",
      "https://www.food.com/recipe/93990\n",
      " egg roll wrappers\n",
      " False False\n",
      "\n",
      "https://www.food.com/recipe/86710\n",
      " spatzle\n",
      " True False\n",
      "\n",
      "https://www.food.com/recipe/75949\n",
      " quick and easy popovers\n",
      " True False\n",
      "\n",
      "https://www.food.com/recipe/220361\n",
      " spaetzle dumplings\n",
      " True True\n",
      "\n",
      "https://www.food.com/recipe/120884\n",
      " heavenly scrambled eggs\n",
      " True False\n",
      "\n",
      "https://www.food.com/recipe/124176\n",
      " crazy   pancakes\n",
      " True False\n",
      "\n",
      "https://www.food.com/recipe/40772\n",
      " puffy oven pancake or  hootin  annies\n",
      " True False\n",
      "\n",
      "https://www.food.com/recipe/60149\n",
      " kielke\n",
      " False False\n",
      "\n",
      "https://www.food.com/recipe/31041\n",
      " marti s homemade noodles\n",
      " False True\n",
      "\n",
      "https://www.food.com/recipe/400\n",
      " spaetzle   german\n",
      " True True\n",
      "\n",
      "https://www.food.com/recipe/16051\n",
      " plain popovers\n",
      " False False\n",
      "\n",
      "https://www.food.com/recipe/139989\n",
      " ruhrei     mennonite scrambled eggs\n",
      " True False\n",
      "\n",
      "https://www.food.com/recipe/105830\n",
      " no beat popovers\n",
      " False False\n",
      "\n",
      "https://www.food.com/recipe/109179\n",
      " easy yorkshire puddings\n",
      " True False\n",
      "\n",
      "https://www.food.com/recipe/331765\n",
      " homemade spaetzle\n",
      " False True\n",
      "\n",
      "https://www.food.com/recipe/232248\n",
      " hootenanny\n",
      " False False\n",
      "\n",
      "https://www.food.com/recipe/221279\n",
      " paula deen s popovers\n",
      " False False\n",
      "\n",
      "https://www.food.com/recipe/255748\n",
      " german pancake shreds  for clear soups\n",
      " False False\n",
      "\n",
      "https://www.food.com/recipe/103964\n",
      " spatzle  little german noodle dumplings\n",
      " True True\n",
      "\n",
      "https://www.food.com/recipe/358908\n",
      " mel boller  danish soup dumplings\n",
      " True True\n",
      "\n",
      "https://www.food.com/recipe/368491\n",
      " unleavened bread\n",
      " False False\n",
      "\n",
      "https://www.food.com/recipe/61108\n",
      " german pancakes  from the mennonite treasury of recipes\n",
      " False False\n",
      "\n",
      "https://www.food.com/recipe/320154\n",
      " plain dumplings  spatzen\n",
      " False True\n",
      "\n",
      "https://www.food.com/recipe/489\n",
      " butter crepes\n",
      " True False\n",
      "\n",
      "https://www.food.com/recipe/96087\n",
      " fresh made manicotti or cannelloni crepes shells\n",
      " False False\n",
      "\n",
      "https://www.food.com/recipe/1079\n",
      " salty milk biscuits\n",
      " True False\n",
      "\n",
      "https://www.food.com/recipe/148900\n",
      " homemade pasta  fettuccine\n",
      " False True\n",
      "\n",
      "https://www.food.com/recipe/124106\n",
      " hungarian noodles homemade\n",
      " False True\n",
      "\n",
      "https://www.food.com/recipe/424328\n",
      " wonton wrappers made at home\n",
      " False False\n",
      "\n",
      "https://www.food.com/recipe/136111\n",
      " small batch popovers\n",
      " False False\n",
      "\n",
      "https://www.food.com/recipe/508734\n",
      " slovak egg dumplings\n",
      " False True\n",
      "\n",
      "https://www.food.com/recipe/4643\n",
      " tjock pan kaka  swedish thick pancake\n",
      " True False\n",
      "\n",
      "https://www.food.com/recipe/12055\n",
      " crepes\n",
      " True False\n",
      "\n",
      "https://www.food.com/recipe/252783\n",
      " croatian flour noodles\n",
      " True True\n",
      "\n"
     ]
    }
   ],
   "source": [
    "tally = []\n",
    "\n",
    "for row in kg.query(query):\n",
    "    url, recipe_name = row\n",
    "    \n",
    "    # collect two flags to evaluate our noodle vs. pancake rules\n",
    "    has_butter = (url, kg.get_ns(\"wtm\").hasIngredient, kg.get_ns(\"ind\").Butter) in kg._g\n",
    "    sez_noodle =  any([x in recipe_name for x in [\"noodle\", \"spaetzle\", \"dumpling\", \"pasta\"]])\n",
    "    \n",
    "    tally.append(str([ has_butter, sez_noodle ]))\n",
    "    print(\"{}\\n {}\\n {} {}\\n\".format(url, recipe_name, has_butter, sez_noodle))"
   ]
  },
  {
   "cell_type": "markdown",
   "metadata": {},
   "source": [
    "Let's tally a *confusion matrix* based on what we observed from the query results:"
   ]
  },
  {
   "cell_type": "code",
   "execution_count": 12,
   "metadata": {},
   "outputs": [
    {
     "data": {
      "text/plain": [
       "Counter({'[False, False]': 20,\n",
       "         '[False, True]': 15,\n",
       "         '[True, False]': 26,\n",
       "         '[True, True]': 7})"
      ]
     },
     "execution_count": 12,
     "metadata": {},
     "output_type": "execute_result"
    }
   ],
   "source": [
    "from collections import Counter\n",
    "\n",
    "Counter(tally)"
   ]
  },
  {
   "cell_type": "markdown",
   "metadata": {},
   "source": [
    "In this sample the conditional probability `P(sez_noodle|has_butter)` is approximately 1:2, while `P(has_butter|sez_noodle)` is approximately 1:4 (i.e., significantly lower).\n",
    "So these conditions seem reasonably good to use as filters for identifying which recipes to annotate.\n",
    "\n",
    "Of course, not every recipe is either a kind of pancake or noodle, since there are recipes for *omelette*, *Yorkshire pudding*, etc. We'll revisit this kind of problem later with more formal, semi-automated methods that leverage machine learning.\n",
    "\n",
    "For now let's add annotations based on our manual review:"
   ]
  },
  {
   "cell_type": "code",
   "execution_count": 13,
   "metadata": {},
   "outputs": [],
   "source": [
    "noodle_ids = { \"400\", \"86710\", \"331765\", \"508734\", \"320154\", \"220361\", \"148900\", \"317697\", \"252783\", \"137357\", \"1975\", \"31041\", \"441475\", \"261361\", \"124106\", \"78459\", \"358908\", \"103964\", \"91311\", \"497918\", \"328388\" }"
   ]
  },
  {
   "cell_type": "code",
   "execution_count": 14,
   "metadata": {},
   "outputs": [],
   "source": [
    "pancake_ids = { \"277824\", \"489\", \"4643\", \"272746\", \"12055\", \"124131\", \"40772\", \"459\", \"48178\", \"124176\", \"61108\", \"111008\", \"262038\", \"458\", \"440398\", \"157638\" }"
   ]
  },
  {
   "cell_type": "code",
   "execution_count": 15,
   "metadata": {},
   "outputs": [],
   "source": [
    "import rdflib as rdf\n",
    "from rdflib.namespace import RDF, XSD\n",
    "\n",
    "for id in noodle_ids:\n",
    "    url = f\"https://www.food.com/recipe/{id}\"\n",
    "    node = rdf.URIRef(url)\n",
    "    kg.add(node, RDF.type, kg.get_ns(\"nom\").Noodle)\n",
    "\n",
    "for id in pancake_ids:\n",
    "    url = f\"https://www.food.com/recipe/{id}\"\n",
    "    node = rdf.URIRef(url)\n",
    "    kg.add(node, RDF.type, kg.get_ns(\"nom\").Pancake)\n",
    "\n",
    "kg.save_ttl(\"tmp.ttl\")"
   ]
  },
  {
   "cell_type": "markdown",
   "metadata": {},
   "source": [
    "Now open the `tmp.ttl` file.\n",
    "Notice the new annotations for `nom:Noodle` and `nom:Pancake` added to the recipes?"
   ]
  },
  {
   "cell_type": "markdown",
   "metadata": {},
   "source": [
    "---\n",
    "\n",
    "## Exercises"
   ]
  },
  {
   "cell_type": "markdown",
   "metadata": {},
   "source": [
    "**Exercise 1:**\n",
    "\n",
    "A third category of recipes that use *flour*, *eggs*, *salt* among their ingredients would be \n",
    "[*popovers*](https://en.wikipedia.org/wiki/Popover) (US usage) which are much the same as [*Yorkshire pudding*](https://en.wikipedia.org/wiki/Yorkshire_pudding) (UK usage).\n",
    "\n",
    "Extend the `nom.ttl` vocabulary to include the definition of a `popover`"
   ]
  },
  {
   "cell_type": "markdown",
   "metadata": {},
   "source": [
    "**Exercise 2:**\n",
    "\n",
    "Revise the queries and post-processing above to identifier popover recipes."
   ]
  },
  {
   "cell_type": "markdown",
   "metadata": {},
   "source": [
    "**Exercise 3:**\n",
    "\n",
    "Construct a `popover_ids` list for the identified recipes."
   ]
  },
  {
   "cell_type": "markdown",
   "metadata": {},
   "source": [
    "**Exercise 4:**\n",
    "    \n",
    "Annotate the KG to include `nom:popover` definitions for popovers."
   ]
  }
 ],
 "metadata": {
  "kernelspec": {
   "display_name": "Python 3",
   "language": "python",
   "name": "python3"
  },
  "language_info": {
   "codemirror_mode": {
    "name": "ipython",
    "version": 3
   },
   "file_extension": ".py",
   "mimetype": "text/x-python",
   "name": "python",
   "nbconvert_exporter": "python",
   "pygments_lexer": "ipython3",
   "version": "3.7.4"
  }
 },
 "nbformat": 4,
 "nbformat_minor": 4
}
