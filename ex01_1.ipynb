{
 "cells": [
  {
   "cell_type": "markdown",
   "metadata": {},
   "source": [
    "intialize a Graph object"
   ]
  },
  {
   "cell_type": "code",
   "execution_count": 2,
   "metadata": {},
   "outputs": [],
   "source": [
    "import rdflib as rdf\n",
    "import rdflib.namespace"
   ]
  },
  {
   "cell_type": "code",
   "execution_count": 3,
   "metadata": {},
   "outputs": [],
   "source": [
    "g = rdf.Graph()"
   ]
  },
  {
   "cell_type": "markdown",
   "metadata": {},
   "source": [
    "## anytime crepes\n",
    "\n",
    "<https://www.food.com/recipe/327593>\n",
    "\n",
    "  * id: 327593\n",
    "  * minutes: 8\n",
    "  * ingredients: \"['egg', 'milk', 'whole wheat flour']\"\n"
   ]
  },
  {
   "cell_type": "markdown",
   "metadata": {},
   "source": [
    "load CSV data which is a subset from <https://www.kaggle.com/shuyangli94/food-com-recipes-and-user-interactions/metadata>"
   ]
  },
  {
   "cell_type": "code",
   "execution_count": 5,
   "metadata": {},
   "outputs": [
    {
     "data": {
      "text/html": [
       "<div>\n",
       "<style scoped>\n",
       "    .dataframe tbody tr th:only-of-type {\n",
       "        vertical-align: middle;\n",
       "    }\n",
       "\n",
       "    .dataframe tbody tr th {\n",
       "        vertical-align: top;\n",
       "    }\n",
       "\n",
       "    .dataframe thead th {\n",
       "        text-align: right;\n",
       "    }\n",
       "</style>\n",
       "<table border=\"1\" class=\"dataframe\">\n",
       "  <thead>\n",
       "    <tr style=\"text-align: right;\">\n",
       "      <th></th>\n",
       "      <th>name</th>\n",
       "      <th>id</th>\n",
       "      <th>minutes</th>\n",
       "      <th>contributor_id</th>\n",
       "      <th>submitted</th>\n",
       "      <th>tags</th>\n",
       "      <th>nutrition</th>\n",
       "      <th>n_steps</th>\n",
       "      <th>steps</th>\n",
       "      <th>description</th>\n",
       "      <th>ingredients</th>\n",
       "      <th>n_ingredients</th>\n",
       "    </tr>\n",
       "  </thead>\n",
       "  <tbody>\n",
       "    <tr>\n",
       "      <th>0</th>\n",
       "      <td>anytime crepes</td>\n",
       "      <td>327593</td>\n",
       "      <td>8</td>\n",
       "      <td>955857</td>\n",
       "      <td>2008-09-27</td>\n",
       "      <td>['15-minutes-or-less', 'time-to-make', 'course...</td>\n",
       "      <td>[149.6, 14.0, 0.0, 5.0, 20.0, 21.0, 2.0]</td>\n",
       "      <td>12</td>\n",
       "      <td>['mix all ingredients in a blender , or mix re...</td>\n",
       "      <td>from my friend linda, this is an oh-so-easy-an...</td>\n",
       "      <td>['egg', 'milk', 'whole wheat flour']</td>\n",
       "      <td>3</td>\n",
       "    </tr>\n",
       "  </tbody>\n",
       "</table>\n",
       "</div>"
      ],
      "text/plain": [
       "             name      id  minutes  contributor_id   submitted  \\\n",
       "0  anytime crepes  327593        8          955857  2008-09-27   \n",
       "\n",
       "                                                tags  \\\n",
       "0  ['15-minutes-or-less', 'time-to-make', 'course...   \n",
       "\n",
       "                                  nutrition  n_steps  \\\n",
       "0  [149.6, 14.0, 0.0, 5.0, 20.0, 21.0, 2.0]       12   \n",
       "\n",
       "                                               steps  \\\n",
       "0  ['mix all ingredients in a blender , or mix re...   \n",
       "\n",
       "                                         description  \\\n",
       "0  from my friend linda, this is an oh-so-easy-an...   \n",
       "\n",
       "                            ingredients  n_ingredients  \n",
       "0  ['egg', 'milk', 'whole wheat flour']              3  "
      ]
     },
     "execution_count": 5,
     "metadata": {},
     "output_type": "execute_result"
    }
   ],
   "source": [
    "import pandas as pd\n",
    "\n",
    "df = pd.read_csv(\"recipes.csv\")\n",
    "df.head()"
   ]
  },
  {
   "cell_type": "code",
   "execution_count": 6,
   "metadata": {},
   "outputs": [
    {
     "data": {
      "text/plain": [
       "name                                                 anytime crepes\n",
       "id                                                           327593\n",
       "minutes                                                           8\n",
       "contributor_id                                               955857\n",
       "submitted                                                2008-09-27\n",
       "tags              ['15-minutes-or-less', 'time-to-make', 'course...\n",
       "nutrition                  [149.6, 14.0, 0.0, 5.0, 20.0, 21.0, 2.0]\n",
       "n_steps                                                          12\n",
       "steps             ['mix all ingredients in a blender , or mix re...\n",
       "description       from my friend linda, this is an oh-so-easy-an...\n",
       "ingredients                    ['egg', 'milk', 'whole wheat flour']\n",
       "n_ingredients                                                     3\n",
       "Name: 0, dtype: object"
      ]
     },
     "execution_count": 6,
     "metadata": {},
     "output_type": "execute_result"
    }
   ],
   "source": [
    "recipe_row = df[df[\"name\"] == \"anytime crepes\"].iloc[0]\n",
    "recipe_row"
   ]
  },
  {
   "cell_type": "code",
   "execution_count": 7,
   "metadata": {},
   "outputs": [
    {
     "data": {
      "text/plain": [
       "['egg', 'milk', 'whole wheat flour']"
      ]
     },
     "execution_count": 7,
     "metadata": {},
     "output_type": "execute_result"
    }
   ],
   "source": [
    "ingredients = eval(recipe_row[\"ingredients\"])\n",
    "ingredients"
   ]
  },
  {
   "cell_type": "markdown",
   "metadata": {},
   "source": [
    "To represent a recipe, we will use two *controlled vocabularies*:\n",
    "\n",
    "  * <http://purl.org/heals/food/>\n",
    "  * <http://purl.org/heals/ingredient/>"
   ]
  },
  {
   "cell_type": "markdown",
   "metadata": {},
   "source": [
    "So then the ingredients list becomes linked to:\n",
    "\n",
    "  * `ingredient:ChickenEgg`\n",
    "  * `ingredient:CowMilk`\n",
    "  * `ingredient:WholeWheatFlour`"
   ]
  },
  {
   "cell_type": "markdown",
   "metadata": {},
   "source": [
    "    <owl:NamedIndividual rdf:about=\"&ind;BananaBlueberryAlmondFlourMuffin\">\n",
    "        <rdf:type rdf:resource=\"&wtm;Recipe\"/>\n",
    "        <wtm:hasIngredient rdf:resource=\"&ind;AlmondMeal\"/>\n",
    "        <wtm:hasIngredient rdf:resource=\"&ind;AppleCiderVinegar\"/>\n",
    "        <wtm:hasIngredient rdf:resource=\"&ind;BakingSoda\"/>\n",
    "        <wtm:hasIngredient rdf:resource=\"&ind;Banana\"/>\n",
    "        <wtm:hasIngredient rdf:resource=\"&ind;Blueberry\"/>\n",
    "        <wtm:hasIngredient rdf:resource=\"&ind;ChickenEgg\"/>\n",
    "        <wtm:hasIngredient rdf:resource=\"&ind;Honey\"/>\n",
    "        <wtm:isRecommendedForCourse rdf:resource=\"&wtm;Dessert\"/>\n",
    "        <wtm:isRecommendedForMeal rdf:resource=\"&wtm;Breakfast\"/>\n",
    "        <wtm:isRecommendedForMeal rdf:resource=\"&wtm;Snack\"/>\n",
    "        <wtm:hasCookTime rdf:datatype=\"&xsd;integer\">60</wtm:hasCookTime>\n",
    "        <wtm:hasCookingTemperature rdf:datatype=\"&xsd;integer\">350</wtm:hasCookingTemperature>\n",
    "        <wtm:serves rdf:datatype=\"&xsd;integer\">4</wtm:serves>\n",
    "        <dct:source>Allrecipes.com, \"Banana Blueberry Almond Flour Muffins ,\" 2010. [Online]. Available: https://www.allrecipes.com/recipe/238012/banana-blueberry-almond-flour-muffins-gluten-free/?internalSource=hub%20recipe&amp;referringContentType=Search. [Accessed Nov.9, 2018]</dct:source>\n",
    "        <rdfs:label>banana blueberry almond flour muffin</rdfs:label>\n",
    "        <skos:definition>a banana blueberry muffin made with almond flour</skos:definition>\n",
    "        <skos:scopeNote>recipe</skos:scopeNote>\n",
    "        <prov:wasDerivedFrom>https://www.allrecipes.com/recipe/238012/banana-blueberry-almond-flour-muffins-gluten-free/?internalSource=hub%20recipe&amp;referringContentType=Search</prov:wasDerivedFrom>\n",
    "    </owl:NamedIndividual>"
   ]
  },
  {
   "cell_type": "markdown",
   "metadata": {},
   "source": [
    "```\n",
    ":x rdf:type wtm:Recipe ,\n",
    "  wtm:hasIngredient ingredient:ChickenEgg,\n",
    "  wtm:hasIngredient ingredient:CowMilk,\n",
    "  wtm:hasIngredient ingredient:WholeWheatFlour,\n",
    "  wtm:hasCookTime 8,\n",
    "  skos:definition \"anytime crepes\",\n",
    "  dct:source <https://www.food.com/recipe/327593>\n",
    "  ;\n",
    "```"
   ]
  },
  {
   "cell_type": "code",
   "execution_count": 8,
   "metadata": {},
   "outputs": [
    {
     "data": {
      "text/plain": [
       "rdflib.term.URIRef('https://www.food.com/recipe/327593')"
      ]
     },
     "execution_count": 8,
     "metadata": {},
     "output_type": "execute_result"
    }
   ],
   "source": [
    "uri = \"https://www.food.com/recipe/327593\"\n",
    "s = rdf.URIRef(uri)\n",
    "s"
   ]
  },
  {
   "cell_type": "code",
   "execution_count": 9,
   "metadata": {},
   "outputs": [
    {
     "data": {
      "text/plain": [
       "rdflib.term.URIRef('http://www.w3.org/1999/02/22-rdf-syntax-ns#type')"
      ]
     },
     "execution_count": 9,
     "metadata": {},
     "output_type": "execute_result"
    }
   ],
   "source": [
    "from rdflib.namespace import RDF\n",
    "\n",
    "p = RDF.type\n",
    "p"
   ]
  },
  {
   "cell_type": "code",
   "execution_count": 10,
   "metadata": {},
   "outputs": [],
   "source": [
    "nm = rdflib.namespace.NamespaceManager(g)"
   ]
  },
  {
   "cell_type": "code",
   "execution_count": 11,
   "metadata": {},
   "outputs": [],
   "source": [
    "uri = \"http://purl.org/heals/food/\"\n",
    "ns_wtm = rdf.Namespace(uri)\n",
    "\n",
    "prefix = \"wtm\"\n",
    "nm.bind(prefix, ns_wtm)"
   ]
  },
  {
   "cell_type": "code",
   "execution_count": 12,
   "metadata": {},
   "outputs": [
    {
     "data": {
      "text/plain": [
       "rdflib.term.URIRef('http://purl.org/heals/food/Recipe')"
      ]
     },
     "execution_count": 12,
     "metadata": {},
     "output_type": "execute_result"
    }
   ],
   "source": [
    "o = ns_wtm.Recipe\n",
    "o"
   ]
  },
  {
   "cell_type": "code",
   "execution_count": 13,
   "metadata": {},
   "outputs": [
    {
     "data": {
      "text/plain": [
       "<Graph identifier=N469c9aa9c1364fa0b9b68d2678aaac48 (<class 'rdflib.graph.Graph'>)>"
      ]
     },
     "execution_count": 13,
     "metadata": {},
     "output_type": "execute_result"
    }
   ],
   "source": [
    "g.add((s, p, o,))\n",
    "g"
   ]
  },
  {
   "cell_type": "markdown",
   "metadata": {},
   "source": [
    "let's add more..."
   ]
  },
  {
   "cell_type": "code",
   "execution_count": 14,
   "metadata": {},
   "outputs": [
    {
     "data": {
      "text/plain": [
       "rdflib.term.URIRef('http://purl.org/heals/food/hasCookTime')"
      ]
     },
     "execution_count": 14,
     "metadata": {},
     "output_type": "execute_result"
    }
   ],
   "source": [
    "p = ns_wtm.hasCookTime\n",
    "p"
   ]
  },
  {
   "cell_type": "code",
   "execution_count": 15,
   "metadata": {},
   "outputs": [
    {
     "data": {
      "text/plain": [
       "rdflib.term.Literal('8', datatype=rdflib.term.URIRef('http://www.w3.org/2001/XMLSchema#integer'))"
      ]
     },
     "execution_count": 15,
     "metadata": {},
     "output_type": "execute_result"
    }
   ],
   "source": [
    "from rdflib.namespace import XSD\n",
    "\n",
    "o = rdf.Literal(\"8\", datatype=XSD.integer)\n",
    "o"
   ]
  },
  {
   "cell_type": "code",
   "execution_count": 16,
   "metadata": {},
   "outputs": [],
   "source": [
    "g.add((s, p, o,))"
   ]
  },
  {
   "cell_type": "markdown",
   "metadata": {},
   "source": [
    "now let's add the ingredients"
   ]
  },
  {
   "cell_type": "code",
   "execution_count": 17,
   "metadata": {},
   "outputs": [
    {
     "data": {
      "text/plain": [
       "rdflib.term.URIRef('http://purl.org/heals/food/hasIngredient')"
      ]
     },
     "execution_count": 17,
     "metadata": {},
     "output_type": "execute_result"
    }
   ],
   "source": [
    "p = ns_wtm.hasIngredient\n",
    "p"
   ]
  },
  {
   "cell_type": "code",
   "execution_count": 18,
   "metadata": {},
   "outputs": [],
   "source": [
    "uri = \"http://purl.org/heals/ingredient/\"\n",
    "ns_ind = rdf.Namespace(uri)\n",
    "\n",
    "prefix = \"ind\"\n",
    "nm.bind(prefix, ns_ind)"
   ]
  },
  {
   "cell_type": "code",
   "execution_count": 19,
   "metadata": {},
   "outputs": [
    {
     "data": {
      "text/plain": [
       "rdflib.term.URIRef('http://purl.org/heals/ingredient/ChickenEgg')"
      ]
     },
     "execution_count": 19,
     "metadata": {},
     "output_type": "execute_result"
    }
   ],
   "source": [
    "o = ns_ind.ChickenEgg\n",
    "o"
   ]
  },
  {
   "cell_type": "code",
   "execution_count": 20,
   "metadata": {},
   "outputs": [],
   "source": [
    "g.add((s, p, o,))"
   ]
  },
  {
   "cell_type": "code",
   "execution_count": 21,
   "metadata": {},
   "outputs": [],
   "source": [
    "g.add((s, p, ns_ind.CowMilk,))\n",
    "g.add((s, p, ns_ind.WholeWheatFlour,))"
   ]
  },
  {
   "cell_type": "code",
   "execution_count": 22,
   "metadata": {},
   "outputs": [
    {
     "name": "stdout",
     "output_type": "stream",
     "text": [
      "https://www.food.com/recipe/327593 http://www.w3.org/1999/02/22-rdf-syntax-ns#type http://purl.org/heals/food/Recipe\n",
      "https://www.food.com/recipe/327593 http://purl.org/heals/food/hasCookTime 8\n",
      "https://www.food.com/recipe/327593 http://purl.org/heals/food/hasIngredient http://purl.org/heals/ingredient/WholeWheatFlour\n",
      "https://www.food.com/recipe/327593 http://purl.org/heals/food/hasIngredient http://purl.org/heals/ingredient/CowMilk\n",
      "https://www.food.com/recipe/327593 http://purl.org/heals/food/hasIngredient http://purl.org/heals/ingredient/ChickenEgg\n"
     ]
    }
   ],
   "source": [
    "for s, p, o in g:\n",
    "    print(s, p, o)"
   ]
  },
  {
   "cell_type": "markdown",
   "metadata": {},
   "source": [
    "show a serialization to `n3` triples, also known as `ttl` or \"turtle\" format"
   ]
  },
  {
   "cell_type": "code",
   "execution_count": 23,
   "metadata": {},
   "outputs": [
    {
     "name": "stdout",
     "output_type": "stream",
     "text": [
      "@prefix ind: <http://purl.org/heals/ingredient/> .\n",
      "@prefix rdf: <http://www.w3.org/1999/02/22-rdf-syntax-ns#> .\n",
      "@prefix rdfs: <http://www.w3.org/2000/01/rdf-schema#> .\n",
      "@prefix wtm: <http://purl.org/heals/food/> .\n",
      "@prefix xml: <http://www.w3.org/XML/1998/namespace> .\n",
      "@prefix xsd: <http://www.w3.org/2001/XMLSchema#> .\n",
      "\n",
      "<https://www.food.com/recipe/327593> a wtm:Recipe ;\n",
      "    wtm:hasCookTime 8 ;\n",
      "    wtm:hasIngredient ind:ChickenEgg,\n",
      "        ind:CowMilk,\n",
      "        ind:WholeWheatFlour .\n",
      "\n",
      "\n"
     ]
    }
   ],
   "source": [
    "s = g.serialize(format=\"n3\")\n",
    "print(s.decode(\"utf8\"))"
   ]
  },
  {
   "cell_type": "markdown",
   "metadata": {},
   "source": [
    "serialization as `n3` triples to a file"
   ]
  },
  {
   "cell_type": "code",
   "execution_count": 24,
   "metadata": {},
   "outputs": [],
   "source": [
    "g.serialize(destination=\"tmp.ttl\", format=\"n3\", encoding=\"utf-8\")"
   ]
  },
  {
   "cell_type": "markdown",
   "metadata": {},
   "source": [
    "try taking a look at the `tmp.ttl` file, which should be the same as the serialization above"
   ]
  },
  {
   "cell_type": "code",
   "execution_count": 26,
   "metadata": {},
   "outputs": [],
   "source": [
    "data = g.serialize(\n",
    "    format=\"json-ld\",\n",
    "    indent=2,\n",
    "    encoding=\"utf-8\",\n",
    "    )\n",
    "\n",
    "with open(\"tmp.jsonld\", \"wb\") as f:\n",
    "    f.write(data)"
   ]
  },
  {
   "cell_type": "markdown",
   "metadata": {},
   "source": [
    "try taking a look at the `tmp.jsonld` file"
   ]
  },
  {
   "cell_type": "code",
   "execution_count": 28,
   "metadata": {},
   "outputs": [],
   "source": [
    "context = {\n",
    "    \"@language\": \"en\",\n",
    "    \"wtm\": \"http://purl.org/heals/food/\",\n",
    "    \"ind\": \"http://purl.org/heals/ingredient/\",\n",
    "    }"
   ]
  },
  {
   "cell_type": "code",
   "execution_count": 29,
   "metadata": {},
   "outputs": [
    {
     "data": {
      "text/plain": [
       "{'@language': 'en',\n",
       " 'wtm': 'http://purl.org/heals/food/',\n",
       " 'ind': 'http://purl.org/heals/ingredient/'}"
      ]
     },
     "execution_count": 29,
     "metadata": {},
     "output_type": "execute_result"
    }
   ],
   "source": [
    "context"
   ]
  },
  {
   "cell_type": "code",
   "execution_count": 30,
   "metadata": {},
   "outputs": [],
   "source": [
    "data = g.serialize(\n",
    "    format=\"json-ld\",\n",
    "    context=context,\n",
    "    indent=2,\n",
    "    encoding=\"utf-8\",\n",
    "    )\n",
    "\n",
    "with open(\"tmp.jsonld\", \"wb\") as f:\n",
    "    f.write(data)"
   ]
  }
 ],
 "metadata": {
  "kernelspec": {
   "display_name": "Python 3",
   "language": "python",
   "name": "python3"
  },
  "language_info": {
   "codemirror_mode": {
    "name": "ipython",
    "version": 3
   },
   "file_extension": ".py",
   "mimetype": "text/x-python",
   "name": "python",
   "nbconvert_exporter": "python",
   "pygments_lexer": "ipython3",
   "version": "3.7.4"
  }
 },
 "nbformat": 4,
 "nbformat_minor": 4
}
