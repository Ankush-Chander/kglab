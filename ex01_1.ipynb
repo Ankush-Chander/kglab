{
 "cells": [
  {
   "cell_type": "markdown",
   "metadata": {},
   "source": [
    "# Building a graph in RDF using `rdflib`\n",
    "\n",
    "First we need to intialize a Graph object in `rdflib`:"
   ]
  },
  {
   "cell_type": "code",
   "execution_count": 22,
   "metadata": {},
   "outputs": [],
   "source": [
    "import rdflib as rdf\n",
    "import rdflib.namespace"
   ]
  },
  {
   "cell_type": "code",
   "execution_count": 23,
   "metadata": {},
   "outputs": [],
   "source": [
    "g = rdf.Graph()"
   ]
  },
  {
   "cell_type": "markdown",
   "metadata": {},
   "source": [
    "In RDF, a graph is constructed from *triples*, each of which has three components:\n",
    "\n",
    "  * *subject*: the entity being annotated\n",
    "  * *predicate*: a relation between the subject and the object\n",
    "  * *object*: another entity or a literal value"
   ]
  },
  {
   "cell_type": "markdown",
   "metadata": {},
   "source": [
    "We'll represent the **anytime crepes** recipe by making programmatic calls to `rdflib`, starting with a URL constructed from the recipe `id` as an initial node.\n",
    "We'll show that as our first subject `s` to annotate using RDF triples."
   ]
  },
  {
   "cell_type": "code",
   "execution_count": 24,
   "metadata": {},
   "outputs": [
    {
     "data": {
      "text/plain": [
       "rdflib.term.URIRef('https://www.food.com/recipe/327593')"
      ]
     },
     "execution_count": 24,
     "metadata": {},
     "output_type": "execute_result"
    }
   ],
   "source": [
    "uri = \"https://www.food.com/recipe/327593\"\n",
    "s = rdf.URIRef(uri)\n",
    "s"
   ]
  },
  {
   "cell_type": "markdown",
   "metadata": {},
   "source": [
    "Then we'll use the [`rdf:type`](https://www.w3.org/TR/rdf-schema/#ch_type) for the predicate `p` to describe the subject as an instance of `wmt:Recipe`"
   ]
  },
  {
   "cell_type": "code",
   "execution_count": 25,
   "metadata": {},
   "outputs": [
    {
     "data": {
      "text/plain": [
       "rdflib.term.URIRef('http://www.w3.org/1999/02/22-rdf-syntax-ns#type')"
      ]
     },
     "execution_count": 25,
     "metadata": {},
     "output_type": "execute_result"
    }
   ],
   "source": [
    "from rdflib.namespace import RDF\n",
    "\n",
    "p = RDF.type\n",
    "p"
   ]
  },
  {
   "cell_type": "markdown",
   "metadata": {},
   "source": [
    "While the first two nodes in the graph used vocabularies that are predefined in `rdflib`, now we'll need to reference other vocabularies.\n",
    "We'll need to use the [`NamespaceManager`](https://rdflib.readthedocs.io/en/stable/namespaces_and_bindings.html) in `rdflib` to bind and access the namespaces for those vocabularies, which is the `nm` variable:"
   ]
  },
  {
   "cell_type": "code",
   "execution_count": 26,
   "metadata": {},
   "outputs": [],
   "source": [
    "nm = g.namespace_manager"
   ]
  },
  {
   "cell_type": "code",
   "execution_count": 27,
   "metadata": {},
   "outputs": [],
   "source": [
    "uri = \"http://purl.org/heals/food/\"\n",
    "ns_wtm = rdf.Namespace(uri)\n",
    "\n",
    "prefix = \"wtm\"\n",
    "nm.bind(prefix, ns_wtm)"
   ]
  },
  {
   "cell_type": "markdown",
   "metadata": {},
   "source": [
    "Now we can use this `wtm:` namespace to reference the object `o` as the `wtm:Recipe` entity:"
   ]
  },
  {
   "cell_type": "code",
   "execution_count": 28,
   "metadata": {},
   "outputs": [
    {
     "data": {
      "text/plain": [
       "rdflib.term.URIRef('http://purl.org/heals/food/Recipe')"
      ]
     },
     "execution_count": 28,
     "metadata": {},
     "output_type": "execute_result"
    }
   ],
   "source": [
    "o = ns_wtm.Recipe\n",
    "o"
   ]
  },
  {
   "cell_type": "markdown",
   "metadata": {},
   "source": [
    "Note how that object resolves to the URL <http://purl.org/heals/food/Recipe> -- which is a link to the vocabulary's RDF description.\n",
    "\n",
    "Finally, we'll add the tuple `(s, p, o,)` to the graph:"
   ]
  },
  {
   "cell_type": "code",
   "execution_count": 29,
   "metadata": {},
   "outputs": [
    {
     "data": {
      "text/plain": [
       "<Graph identifier=N7a356e022da5426581dd3be3c6b9481a (<class 'rdflib.graph.Graph'>)>"
      ]
     },
     "execution_count": 29,
     "metadata": {},
     "output_type": "execute_result"
    }
   ],
   "source": [
    "g.add((s, p, o,))\n",
    "g"
   ]
  },
  {
   "cell_type": "markdown",
   "metadata": {},
   "source": [
    "Now let's add the remaining metadata for the **anytime crepes** recipe.\n",
    "The required cooking time of \"8 minutes\" can be represented as a predicate `wtm:hasCookTime` and the literal `8` which we'll define as an `xsd:integer` value:"
   ]
  },
  {
   "cell_type": "code",
   "execution_count": 30,
   "metadata": {},
   "outputs": [
    {
     "data": {
      "text/plain": [
       "rdflib.term.URIRef('http://purl.org/heals/food/hasCookTime')"
      ]
     },
     "execution_count": 30,
     "metadata": {},
     "output_type": "execute_result"
    }
   ],
   "source": [
    "p = ns_wtm.hasCookTime\n",
    "p"
   ]
  },
  {
   "cell_type": "code",
   "execution_count": 31,
   "metadata": {},
   "outputs": [
    {
     "data": {
      "text/plain": [
       "rdflib.term.Literal('8', datatype=rdflib.term.URIRef('http://www.w3.org/2001/XMLSchema#integer'))"
      ]
     },
     "execution_count": 31,
     "metadata": {},
     "output_type": "execute_result"
    }
   ],
   "source": [
    "from rdflib.namespace import XSD\n",
    "\n",
    "o = rdf.Literal(\"8\", datatype=XSD.integer)\n",
    "o"
   ]
  },
  {
   "cell_type": "code",
   "execution_count": 32,
   "metadata": {},
   "outputs": [],
   "source": [
    "g.add((s, p, o,))"
   ]
  },
  {
   "cell_type": "markdown",
   "metadata": {},
   "source": [
    "Now let's add the three ingredients of eggs, milk, flour:"
   ]
  },
  {
   "cell_type": "code",
   "execution_count": 33,
   "metadata": {},
   "outputs": [
    {
     "data": {
      "text/plain": [
       "rdflib.term.URIRef('http://purl.org/heals/food/hasIngredient')"
      ]
     },
     "execution_count": 33,
     "metadata": {},
     "output_type": "execute_result"
    }
   ],
   "source": [
    "p = ns_wtm.hasIngredient\n",
    "p"
   ]
  },
  {
   "cell_type": "code",
   "execution_count": 34,
   "metadata": {},
   "outputs": [],
   "source": [
    "uri = \"http://purl.org/heals/ingredient/\"\n",
    "ns_ind = rdf.Namespace(uri)\n",
    "\n",
    "prefix = \"ind\"\n",
    "nm.bind(prefix, ns_ind)"
   ]
  },
  {
   "cell_type": "code",
   "execution_count": 35,
   "metadata": {},
   "outputs": [
    {
     "data": {
      "text/plain": [
       "rdflib.term.URIRef('http://purl.org/heals/ingredient/ChickenEgg')"
      ]
     },
     "execution_count": 35,
     "metadata": {},
     "output_type": "execute_result"
    }
   ],
   "source": [
    "o = ns_ind.ChickenEgg\n",
    "o"
   ]
  },
  {
   "cell_type": "code",
   "execution_count": 36,
   "metadata": {},
   "outputs": [],
   "source": [
    "g.add((s, p, o,))"
   ]
  },
  {
   "cell_type": "code",
   "execution_count": 37,
   "metadata": {},
   "outputs": [],
   "source": [
    "g.add((s, p, ns_ind.CowMilk,))\n",
    "g.add((s, p, ns_ind.WholeWheatFlour,))"
   ]
  },
  {
   "cell_type": "markdown",
   "metadata": {},
   "source": [
    "To confirm what we've built so far, we can iterate through each of the `(s, p, o,)` triples in the graph:"
   ]
  },
  {
   "cell_type": "code",
   "execution_count": 38,
   "metadata": {},
   "outputs": [
    {
     "name": "stdout",
     "output_type": "stream",
     "text": [
      "https://www.food.com/recipe/327593 http://purl.org/heals/food/hasCookTime 8\n",
      "https://www.food.com/recipe/327593 http://purl.org/heals/food/hasIngredient http://purl.org/heals/ingredient/CowMilk\n",
      "https://www.food.com/recipe/327593 http://www.w3.org/1999/02/22-rdf-syntax-ns#type http://purl.org/heals/food/Recipe\n",
      "https://www.food.com/recipe/327593 http://purl.org/heals/food/hasIngredient http://purl.org/heals/ingredient/ChickenEgg\n",
      "https://www.food.com/recipe/327593 http://purl.org/heals/food/hasIngredient http://purl.org/heals/ingredient/WholeWheatFlour\n"
     ]
    }
   ],
   "source": [
    "for s, p, o in g:\n",
    "    print(s, p, o)"
   ]
  },
  {
   "cell_type": "markdown",
   "metadata": {},
   "source": [
    "## Serialization\n",
    "\n",
    "First let's show how to serialize the graph as `n3` triples, also known as `ttl` or [*turtle*](https://www.w3.org/TR/turtle/) format.\n",
    "This will be returned from RDF as a byte array, so we'll need to use a Unicode [*codec*](https://docs.python.org/3/library/codecs.html) to convert the serialized graph into a string:"
   ]
  },
  {
   "cell_type": "code",
   "execution_count": 39,
   "metadata": {},
   "outputs": [
    {
     "name": "stdout",
     "output_type": "stream",
     "text": [
      "@prefix ind: <http://purl.org/heals/ingredient/> .\n",
      "@prefix rdf: <http://www.w3.org/1999/02/22-rdf-syntax-ns#> .\n",
      "@prefix rdfs: <http://www.w3.org/2000/01/rdf-schema#> .\n",
      "@prefix wtm: <http://purl.org/heals/food/> .\n",
      "@prefix xml: <http://www.w3.org/XML/1998/namespace> .\n",
      "@prefix xsd: <http://www.w3.org/2001/XMLSchema#> .\n",
      "\n",
      "<https://www.food.com/recipe/327593> a wtm:Recipe ;\n",
      "    wtm:hasCookTime 8 ;\n",
      "    wtm:hasIngredient ind:ChickenEgg,\n",
      "        ind:CowMilk,\n",
      "        ind:WholeWheatFlour .\n",
      "\n",
      "\n"
     ]
    }
   ],
   "source": [
    "s = g.serialize(format=\"n3\")\n",
    "print(s.decode(\"utf8\"))"
   ]
  },
  {
   "cell_type": "markdown",
   "metadata": {},
   "source": [
    "Similarly, we can serialize the graph as `n3` triples to a file `tmp.ttl` in the local directory:"
   ]
  },
  {
   "cell_type": "code",
   "execution_count": 40,
   "metadata": {},
   "outputs": [],
   "source": [
    "g.serialize(destination=\"tmp.ttl\", format=\"n3\", encoding=\"utf-8\")"
   ]
  },
  {
   "cell_type": "markdown",
   "metadata": {},
   "source": [
    "Try taking a look at the `tmp.ttl` file.\n",
    "Is it the same as the serialization shown above?"
   ]
  },
  {
   "cell_type": "markdown",
   "metadata": {},
   "source": [
    "Next, let's serialize the graph in [JSON-LD](https://json-ld.org/) format, stored in the `tmp.jsonld` file in the local directory:"
   ]
  },
  {
   "cell_type": "code",
   "execution_count": 41,
   "metadata": {},
   "outputs": [],
   "source": [
    "data = g.serialize(\n",
    "    format=\"json-ld\",\n",
    "    indent=2,\n",
    "    encoding=\"utf-8\",\n",
    "    )\n",
    "\n",
    "with open(\"tmp.jsonld\", \"wb\") as f:\n",
    "    f.write(data)"
   ]
  },
  {
   "cell_type": "markdown",
   "metadata": {},
   "source": [
    "Try taking a look at the `tmp.jsonld` file.\n",
    "Each entity, relation, and literal value has a full URL known as an *IRI* (internationalized resource locator) which [identifies a resource](https://www.w3.org/TR/json-ld11/#iris) used to define it.\n",
    "\n",
    "We can make these JSON-LD files a bit more succinct by adding a `context` that defines prefixes for each of the vocabularies used:"
   ]
  },
  {
   "cell_type": "code",
   "execution_count": 28,
   "metadata": {},
   "outputs": [],
   "source": [
    "context = {\n",
    "    \"@language\": \"en\",\n",
    "    \"wtm\": \"http://purl.org/heals/food/\",\n",
    "    \"ind\": \"http://purl.org/heals/ingredient/\",\n",
    "    }"
   ]
  },
  {
   "cell_type": "code",
   "execution_count": 29,
   "metadata": {},
   "outputs": [
    {
     "data": {
      "text/plain": [
       "{'@language': 'en',\n",
       " 'wtm': 'http://purl.org/heals/food/',\n",
       " 'ind': 'http://purl.org/heals/ingredient/'}"
      ]
     },
     "execution_count": 29,
     "metadata": {},
     "output_type": "execute_result"
    }
   ],
   "source": [
    "context"
   ]
  },
  {
   "cell_type": "markdown",
   "metadata": {},
   "source": [
    "Now we'll serialize again as JSON-LD, this time using the context:"
   ]
  },
  {
   "cell_type": "code",
   "execution_count": 30,
   "metadata": {},
   "outputs": [],
   "source": [
    "data = g.serialize(\n",
    "    format=\"json-ld\",\n",
    "    context=context,\n",
    "    indent=2,\n",
    "    encoding=\"utf-8\",\n",
    "    )\n",
    "\n",
    "with open(\"tmp.jsonld\", \"wb\") as f:\n",
    "    f.write(data)"
   ]
  },
  {
   "cell_type": "markdown",
   "metadata": {},
   "source": [
    "See the difference in the resulting file?"
   ]
  }
 ],
 "metadata": {
  "kernelspec": {
   "display_name": "Python 3",
   "language": "python",
   "name": "python3"
  },
  "language_info": {
   "codemirror_mode": {
    "name": "ipython",
    "version": 3
   },
   "file_extension": ".py",
   "mimetype": "text/x-python",
   "name": "python",
   "nbconvert_exporter": "python",
   "pygments_lexer": "ipython3",
   "version": "3.7.4"
  }
 },
 "nbformat": 4,
 "nbformat_minor": 4
}
