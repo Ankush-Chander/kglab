{
 "cells": [
  {
   "cell_type": "markdown",
   "metadata": {},
   "source": [
    "# Build a medium size KG from a CSV dataset\n",
    "\n",
    "OH: \"If you build it, they will SPARQL\""
   ]
  },
  {
   "cell_type": "markdown",
   "metadata": {},
   "source": [
    "First, let's initialize the KG object the same as we did in an earlier notebook:"
   ]
  },
  {
   "cell_type": "code",
   "execution_count": 1,
   "metadata": {},
   "outputs": [],
   "source": [
    "import kglab\n",
    "\n",
    "namespaces = {\n",
    "    \"wtm\": \"http://purl.org/heals/food/\",\n",
    "    \"ind\": \"http://purl.org/heals/ingredient/\",\n",
    "    }\n",
    "\n",
    "kg = kglab.KnowledgeGraph(\n",
    "    name = \"A recipe KG example based on Food.com\",\n",
    "    base_uri = \"https://www.food.com/recipe/\",\n",
    "    language = \"en\",\n",
    "    namespaces = namespaces,\n",
    "    )"
   ]
  },
  {
   "cell_type": "markdown",
   "metadata": {},
   "source": [
    "Next, we'll define a dictionary that maps (somewhat magically) from strings (i.e., \"labels\") to ingredients defined in the <http://purl.org/heals/ingredient/> vocabulary:"
   ]
  },
  {
   "cell_type": "code",
   "execution_count": 2,
   "metadata": {},
   "outputs": [],
   "source": [
    "common_ingredient = {\n",
    "    \"water\": kg.get_ns(\"ind\").Water,\n",
    "    \"salt\": kg.get_ns(\"ind\").Salt,\n",
    "    \"pepper\": kg.get_ns(\"ind\").BlackPepper,\n",
    "    \"black pepper\": kg.get_ns(\"ind\").BlackPepper,\n",
    "    \n",
    "    \"baking powder\": kg.get_ns(\"ind\").BakingPowder,\n",
    "    \"baking soda\": kg.get_ns(\"ind\").BakingSoda,\n",
    "\n",
    "    \"vanilla\": kg.get_ns(\"ind\").VanillaExtract,\n",
    "    \"vanilla extract\": kg.get_ns(\"ind\").VanillaExtract,\n",
    "\n",
    "    \"butter\": kg.get_ns(\"ind\").Butter,\n",
    "    \"milk\": kg.get_ns(\"ind\").CowMilk,\n",
    "    \"egg\": kg.get_ns(\"ind\").ChickenEgg,\n",
    "    \"eggs\": kg.get_ns(\"ind\").ChickenEgg,\n",
    "\n",
    "    \"sugar\": kg.get_ns(\"ind\").WhiteSugar,\n",
    "    \"brown sugar\": kg.get_ns(\"ind\").BrownSugar,\n",
    "    \"honey\": kg.get_ns(\"ind\").Honey,\n",
    "\n",
    "    \"flour\": kg.get_ns(\"ind\").AllPurposeFlour,\n",
    "    \"all-purpose flour\": kg.get_ns(\"ind\").AllPurposeFlour,\n",
    "    \"whole wheat flour\": kg.get_ns(\"ind\").WholeWheatFlour,\n",
    "\n",
    "    \"olive oil\": kg.get_ns(\"ind\").OliveOil,\n",
    "    \"vinegar\": kg.get_ns(\"ind\").AppleCiderVinegar,\n",
    "\n",
    "    \"onion\": kg.get_ns(\"ind\").Onion,\n",
    "    \"onions\": kg.get_ns(\"ind\").Onion,\n",
    "    \"garlic\": kg.get_ns(\"ind\").Garlic,\n",
    "    \"garlic clove\": kg.get_ns(\"ind\").Garlic,\n",
    "    \"garlic cloves\": kg.get_ns(\"ind\").Garlic,\n",
    "    \"cabbage\": kg.get_ns(\"ind\").Cabbage,\n",
    "    \"carrot\": kg.get_ns(\"ind\").Carrot,\n",
    "    \"carrots\": kg.get_ns(\"ind\").Carrot,\n",
    "    \"celery\": kg.get_ns(\"ind\").Celery,\n",
    "    \"potato\": kg.get_ns(\"ind\").Potato,\n",
    "    \"potatoes\": kg.get_ns(\"ind\").Potato,\n",
    "    \"tomato\": kg.get_ns(\"ind\").Tomato,\n",
    "    \"tomatoes\": kg.get_ns(\"ind\").Tomato,\n",
    "}"
   ]
  },
  {
   "cell_type": "markdown",
   "metadata": {},
   "source": [
    "Now load the dataset of recipes into a dataframe:"
   ]
  },
  {
   "cell_type": "code",
   "execution_count": 3,
   "metadata": {},
   "outputs": [
    {
     "data": {
      "text/html": [
       "<div>\n",
       "<style scoped>\n",
       "    .dataframe tbody tr th:only-of-type {\n",
       "        vertical-align: middle;\n",
       "    }\n",
       "\n",
       "    .dataframe tbody tr th {\n",
       "        vertical-align: top;\n",
       "    }\n",
       "\n",
       "    .dataframe thead th {\n",
       "        text-align: right;\n",
       "    }\n",
       "</style>\n",
       "<table border=\"1\" class=\"dataframe\">\n",
       "  <thead>\n",
       "    <tr style=\"text-align: right;\">\n",
       "      <th></th>\n",
       "      <th>id</th>\n",
       "      <th>name</th>\n",
       "      <th>minutes</th>\n",
       "      <th>tags</th>\n",
       "      <th>description</th>\n",
       "      <th>ingredients</th>\n",
       "    </tr>\n",
       "  </thead>\n",
       "  <tbody>\n",
       "    <tr>\n",
       "      <th>0</th>\n",
       "      <td>35653</td>\n",
       "      <td>make it your way  shortcakes</td>\n",
       "      <td>25</td>\n",
       "      <td>['30-minutes-or-less', 'time-to-make', 'course...</td>\n",
       "      <td>top with freshly sliced strawberries and whipp...</td>\n",
       "      <td>['flour', 'salt', 'baking powder', 'sugar', 'b...</td>\n",
       "    </tr>\n",
       "    <tr>\n",
       "      <th>1</th>\n",
       "      <td>292568</td>\n",
       "      <td>better  cake mix</td>\n",
       "      <td>35</td>\n",
       "      <td>['60-minutes-or-less', 'time-to-make', 'course...</td>\n",
       "      <td>to make a boxed cake mix even better add these...</td>\n",
       "      <td>['butter', 'flour', 'baking powder']</td>\n",
       "    </tr>\n",
       "    <tr>\n",
       "      <th>2</th>\n",
       "      <td>236346</td>\n",
       "      <td>1 bowl 1 person mashed potatoes</td>\n",
       "      <td>25</td>\n",
       "      <td>['30-minutes-or-less', 'time-to-make', 'course...</td>\n",
       "      <td>ever feel like having mashed potatoes but you ...</td>\n",
       "      <td>['potato', 'butter', 'milk', 'salt', 'pepper']</td>\n",
       "    </tr>\n",
       "    <tr>\n",
       "      <th>3</th>\n",
       "      <td>164636</td>\n",
       "      <td>1 1 1 tempura batter</td>\n",
       "      <td>5</td>\n",
       "      <td>['15-minutes-or-less', 'time-to-make', 'course...</td>\n",
       "      <td>i use this everytime i make onion rings, hot p...</td>\n",
       "      <td>['egg', 'flour', 'water']</td>\n",
       "    </tr>\n",
       "    <tr>\n",
       "      <th>4</th>\n",
       "      <td>144841</td>\n",
       "      <td>2 step pound cake  for a kitchen aide mixer</td>\n",
       "      <td>110</td>\n",
       "      <td>['time-to-make', 'course', 'preparation', 'occ...</td>\n",
       "      <td>this recipe was published in a southern living...</td>\n",
       "      <td>['flour', 'sugar', 'butter', 'milk', 'eggs', '...</td>\n",
       "    </tr>\n",
       "  </tbody>\n",
       "</table>\n",
       "</div>"
      ],
      "text/plain": [
       "       id                                         name  minutes  \\\n",
       "0   35653                 make it your way  shortcakes       25   \n",
       "1  292568                             better  cake mix       35   \n",
       "2  236346              1 bowl 1 person mashed potatoes       25   \n",
       "3  164636                         1 1 1 tempura batter        5   \n",
       "4  144841  2 step pound cake  for a kitchen aide mixer      110   \n",
       "\n",
       "                                                tags  \\\n",
       "0  ['30-minutes-or-less', 'time-to-make', 'course...   \n",
       "1  ['60-minutes-or-less', 'time-to-make', 'course...   \n",
       "2  ['30-minutes-or-less', 'time-to-make', 'course...   \n",
       "3  ['15-minutes-or-less', 'time-to-make', 'course...   \n",
       "4  ['time-to-make', 'course', 'preparation', 'occ...   \n",
       "\n",
       "                                         description  \\\n",
       "0  top with freshly sliced strawberries and whipp...   \n",
       "1  to make a boxed cake mix even better add these...   \n",
       "2  ever feel like having mashed potatoes but you ...   \n",
       "3  i use this everytime i make onion rings, hot p...   \n",
       "4  this recipe was published in a southern living...   \n",
       "\n",
       "                                         ingredients  \n",
       "0  ['flour', 'salt', 'baking powder', 'sugar', 'b...  \n",
       "1               ['butter', 'flour', 'baking powder']  \n",
       "2     ['potato', 'butter', 'milk', 'salt', 'pepper']  \n",
       "3                          ['egg', 'flour', 'water']  \n",
       "4  ['flour', 'sugar', 'butter', 'milk', 'eggs', '...  "
      ]
     },
     "execution_count": 3,
     "metadata": {},
     "output_type": "execute_result"
    }
   ],
   "source": [
    "import pandas as pd\n",
    "\n",
    "df = pd.read_csv(\"dat/recipes.csv\")\n",
    "df.head()"
   ]
  },
  {
   "cell_type": "markdown",
   "metadata": {},
   "source": [
    "Then iterate over the rows in the dataframe, representing a new recipe in the KG for each row:"
   ]
  },
  {
   "cell_type": "code",
   "execution_count": 6,
   "metadata": {},
   "outputs": [],
   "source": [
    "import rdflib as rdf\n",
    "from rdflib.namespace import RDF, XSD\n",
    "\n",
    "for index, row in df.iterrows():\n",
    "    recipe_id = row[\"id\"]\n",
    "    node = rdf.URIRef(\"https://www.food.com/recipe/{}\".format(recipe_id))\n",
    "    kg.add(node, RDF.type, kg.get_ns(\"wtm\").Recipe)\n",
    "\n",
    "    recipe_name = row[\"name\"]\n",
    "    kg.add(node, kg.get_ns(\"skos\").definition, rdf.Literal(recipe_name))\n",
    "    \n",
    "    cook_time = row[\"minutes\"]\n",
    "    kg.add(node, kg.get_ns(\"wtm\").hasCookTime, rdf.Literal(cook_time, datatype=XSD.integer))\n",
    "    \n",
    "    ind_list = eval(row[\"ingredients\"])\n",
    "\n",
    "    for ind in ind_list:\n",
    "        ingredient = ind.strip()\n",
    "        ingredient_obj = common_ingredient[ingredient]\n",
    "        kg.add(node, kg.get_ns(\"wtm\").hasIngredient, ingredient_obj)"
   ]
  },
  {
   "cell_type": "markdown",
   "metadata": {},
   "source": [
    "The graph has grown by a couple orders of magnitude, so it's visualization should be more interesting now.\n",
    "Let's take a look:"
   ]
  },
  {
   "cell_type": "code",
   "execution_count": 8,
   "metadata": {},
   "outputs": [
    {
     "data": {
      "text/html": [
       "\n",
       "        <iframe\n",
       "            width=\"500px\"\n",
       "            height=\"500px\"\n",
       "            src=\"tmp.html\"\n",
       "            frameborder=\"0\"\n",
       "            allowfullscreen\n",
       "        ></iframe>\n",
       "        "
      ],
      "text/plain": [
       "<IPython.lib.display.IFrame at 0x11fc52110>"
      ]
     },
     "execution_count": 8,
     "metadata": {},
     "output_type": "execute_result"
    }
   ],
   "source": [
    "VIS_STYLE = {\n",
    "    \"wtm\": {\n",
    "        \"color\": \"orange\",\n",
    "        \"size\": 20,\n",
    "    },\n",
    "    \"ind\":{\n",
    "        \"color\": \"blue\",\n",
    "        \"size\": 35,\n",
    "    },\n",
    "}\n",
    "\n",
    "\n",
    "g = kg.vis(notebook=True, style=VIS_STYLE)\n",
    "g.show(\"tmp.html\")"
   ]
  },
  {
   "cell_type": "markdown",
   "metadata": {},
   "source": [
    "Given the defaults for this kind of visualization, there's likely a dense pulsing mass of orange (recipes) at the center, with a close cluster of common ingredients (dark blue), surrounded by less common ingredients and cooking times (light blue) ?"
   ]
  },
  {
   "cell_type": "markdown",
   "metadata": {},
   "source": [
    "Let's serialize the KG to a local file:"
   ]
  },
  {
   "cell_type": "code",
   "execution_count": 10,
   "metadata": {},
   "outputs": [],
   "source": [
    "kg.save_ttl(\"tmp.ttl\")"
   ]
  }
 ],
 "metadata": {
  "kernelspec": {
   "display_name": "Python 3",
   "language": "python",
   "name": "python3"
  },
  "language_info": {
   "codemirror_mode": {
    "name": "ipython",
    "version": 3
   },
   "file_extension": ".py",
   "mimetype": "text/x-python",
   "name": "python",
   "nbconvert_exporter": "python",
   "pygments_lexer": "ipython3",
   "version": "3.7.4"
  }
 },
 "nbformat": 4,
 "nbformat_minor": 4
}
