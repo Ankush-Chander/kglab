{
 "cells": [
  {
   "cell_type": "markdown",
   "metadata": {},
   "source": [
    "# Build a medium size KG from a CSV dataset\n",
    "\n",
    "OH: \"If you build it, they will SPARQL\""
   ]
  },
  {
   "cell_type": "markdown",
   "metadata": {},
   "source": [
    "First, let's initialize the KG object the same as we did in an earlier notebook:"
   ]
  },
  {
   "cell_type": "code",
   "execution_count": 1,
   "metadata": {},
   "outputs": [],
   "source": [
    "import kglab\n",
    "\n",
    "namespaces = {\n",
    "    \"wtm\": \"http://purl.org/heals/food/\",\n",
    "    \"ind\": \"http://purl.org/heals/ingredient/\",\n",
    "    }\n",
    "\n",
    "kg = kglab.KnowledgeGraph(\n",
    "    name = \"A recipe KG example based on Food.com\",\n",
    "    base_uri = \"https://www.food.com/recipe/\",\n",
    "    language = \"en\",\n",
    "    namespaces = namespaces,\n",
    "    )"
   ]
  },
  {
   "cell_type": "markdown",
   "metadata": {},
   "source": [
    "Next, we'll define a dictionary that maps (somewhat magically) from strings (i.e., \"labels\") to ingredients defined in the <http://purl.org/heals/ingredient/> vocabulary:"
   ]
  },
  {
   "cell_type": "code",
   "execution_count": 2,
   "metadata": {},
   "outputs": [],
   "source": [
    "common_ingredient = {\n",
    "    \"water\": kg.get_ns(\"ind\").Water,\n",
    "    \"salt\": kg.get_ns(\"ind\").Salt,\n",
    "    \"pepper\": kg.get_ns(\"ind\").BlackPepper,\n",
    "    \"black pepper\": kg.get_ns(\"ind\").BlackPepper,\n",
    "    \n",
    "    \"baking powder\": kg.get_ns(\"ind\").BakingPowder,\n",
    "    \"baking soda\": kg.get_ns(\"ind\").BakingSoda,\n",
    "\n",
    "    \"vanilla\": kg.get_ns(\"ind\").VanillaExtract,\n",
    "    \"vanilla extract\": kg.get_ns(\"ind\").VanillaExtract,\n",
    "\n",
    "    \"butter\": kg.get_ns(\"ind\").Butter,\n",
    "    \"milk\": kg.get_ns(\"ind\").CowMilk,\n",
    "    \"egg\": kg.get_ns(\"ind\").ChickenEgg,\n",
    "    \"eggs\": kg.get_ns(\"ind\").ChickenEgg,\n",
    "\n",
    "    \"sugar\": kg.get_ns(\"ind\").WhiteSugar,\n",
    "    \"brown sugar\": kg.get_ns(\"ind\").BrownSugar,\n",
    "    \"honey\": kg.get_ns(\"ind\").Honey,\n",
    "\n",
    "    \"flour\": kg.get_ns(\"ind\").AllPurposeFlour,\n",
    "    \"all-purpose flour\": kg.get_ns(\"ind\").AllPurposeFlour,\n",
    "    \"whole wheat flour\": kg.get_ns(\"ind\").WholeWheatFlour,\n",
    "\n",
    "    \"olive oil\": kg.get_ns(\"ind\").OliveOil,\n",
    "    \"vinegar\": kg.get_ns(\"ind\").AppleCiderVinegar,\n",
    "\n",
    "    \"onion\": kg.get_ns(\"ind\").Onion,\n",
    "    \"onions\": kg.get_ns(\"ind\").Onion,\n",
    "    \"garlic\": kg.get_ns(\"ind\").Garlic,\n",
    "    \"garlic clove\": kg.get_ns(\"ind\").Garlic,\n",
    "    \"garlic cloves\": kg.get_ns(\"ind\").Garlic,\n",
    "    \"cabbage\": kg.get_ns(\"ind\").Cabbage,\n",
    "    \"carrot\": kg.get_ns(\"ind\").Carrot,\n",
    "    \"carrots\": kg.get_ns(\"ind\").Carrot,\n",
    "    \"celery\": kg.get_ns(\"ind\").Celery,\n",
    "    \"potato\": kg.get_ns(\"ind\").Potato,\n",
    "    \"potatoes\": kg.get_ns(\"ind\").Potato,\n",
    "    \"tomato\": kg.get_ns(\"ind\").Tomato,\n",
    "    \"tomatoes\": kg.get_ns(\"ind\").Tomato,\n",
    "}"
   ]
  },
  {
   "cell_type": "markdown",
   "metadata": {},
   "source": [
    "Now load the dataset of recipes into a dataframe:"
   ]
  },
  {
   "cell_type": "code",
   "execution_count": 3,
   "metadata": {},
   "outputs": [
    {
     "data": {
      "text/html": [
       "<div>\n",
       "<style scoped>\n",
       "    .dataframe tbody tr th:only-of-type {\n",
       "        vertical-align: middle;\n",
       "    }\n",
       "\n",
       "    .dataframe tbody tr th {\n",
       "        vertical-align: top;\n",
       "    }\n",
       "\n",
       "    .dataframe thead th {\n",
       "        text-align: right;\n",
       "    }\n",
       "</style>\n",
       "<table border=\"1\" class=\"dataframe\">\n",
       "  <thead>\n",
       "    <tr style=\"text-align: right;\">\n",
       "      <th></th>\n",
       "      <th>id</th>\n",
       "      <th>name</th>\n",
       "      <th>minutes</th>\n",
       "      <th>tags</th>\n",
       "      <th>description</th>\n",
       "      <th>ingredients</th>\n",
       "    </tr>\n",
       "  </thead>\n",
       "  <tbody>\n",
       "    <tr>\n",
       "      <th>0</th>\n",
       "      <td>164636</td>\n",
       "      <td>1 1 1 tempura batter</td>\n",
       "      <td>5</td>\n",
       "      <td>['15-minutes-or-less', 'time-to-make', 'course...</td>\n",
       "      <td>i use this everytime i make onion rings, hot p...</td>\n",
       "      <td>['egg', 'flour', 'water']</td>\n",
       "    </tr>\n",
       "    <tr>\n",
       "      <th>1</th>\n",
       "      <td>189437</td>\n",
       "      <td>40 second omelet</td>\n",
       "      <td>25</td>\n",
       "      <td>['30-minutes-or-less', 'time-to-make', 'course...</td>\n",
       "      <td>you'll need an \"inverted pancake turner\" for t...</td>\n",
       "      <td>['eggs', 'water', 'butter']</td>\n",
       "    </tr>\n",
       "    <tr>\n",
       "      <th>2</th>\n",
       "      <td>19104</td>\n",
       "      <td>all purpose dinner crepes batter</td>\n",
       "      <td>90</td>\n",
       "      <td>['weeknight', 'time-to-make', 'course', 'main-...</td>\n",
       "      <td>this basic crepe recipe can be used for all yo...</td>\n",
       "      <td>['eggs', 'salt', 'flour', 'milk', 'butter']</td>\n",
       "    </tr>\n",
       "    <tr>\n",
       "      <th>3</th>\n",
       "      <td>284518</td>\n",
       "      <td>another perfect poached egg</td>\n",
       "      <td>13</td>\n",
       "      <td>['15-minutes-or-less', 'time-to-make', 'course...</td>\n",
       "      <td>there's already a couple of recipes on here fo...</td>\n",
       "      <td>['eggs', 'water', 'vinegar', 'salt']</td>\n",
       "    </tr>\n",
       "    <tr>\n",
       "      <th>4</th>\n",
       "      <td>327593</td>\n",
       "      <td>anytime crepes</td>\n",
       "      <td>8</td>\n",
       "      <td>['15-minutes-or-less', 'time-to-make', 'course...</td>\n",
       "      <td>from my friend linda, this is an oh-so-easy-an...</td>\n",
       "      <td>['egg', 'milk', 'whole wheat flour']</td>\n",
       "    </tr>\n",
       "  </tbody>\n",
       "</table>\n",
       "</div>"
      ],
      "text/plain": [
       "       id                              name  minutes  \\\n",
       "0  164636              1 1 1 tempura batter        5   \n",
       "1  189437                  40 second omelet       25   \n",
       "2   19104  all purpose dinner crepes batter       90   \n",
       "3  284518       another perfect poached egg       13   \n",
       "4  327593                    anytime crepes        8   \n",
       "\n",
       "                                                tags  \\\n",
       "0  ['15-minutes-or-less', 'time-to-make', 'course...   \n",
       "1  ['30-minutes-or-less', 'time-to-make', 'course...   \n",
       "2  ['weeknight', 'time-to-make', 'course', 'main-...   \n",
       "3  ['15-minutes-or-less', 'time-to-make', 'course...   \n",
       "4  ['15-minutes-or-less', 'time-to-make', 'course...   \n",
       "\n",
       "                                         description  \\\n",
       "0  i use this everytime i make onion rings, hot p...   \n",
       "1  you'll need an \"inverted pancake turner\" for t...   \n",
       "2  this basic crepe recipe can be used for all yo...   \n",
       "3  there's already a couple of recipes on here fo...   \n",
       "4  from my friend linda, this is an oh-so-easy-an...   \n",
       "\n",
       "                                   ingredients  \n",
       "0                    ['egg', 'flour', 'water']  \n",
       "1                  ['eggs', 'water', 'butter']  \n",
       "2  ['eggs', 'salt', 'flour', 'milk', 'butter']  \n",
       "3         ['eggs', 'water', 'vinegar', 'salt']  \n",
       "4         ['egg', 'milk', 'whole wheat flour']  "
      ]
     },
     "execution_count": 3,
     "metadata": {},
     "output_type": "execute_result"
    }
   ],
   "source": [
    "import pandas as pd\n",
    "\n",
    "df = pd.read_csv(\"dat/recipes.csv\")\n",
    "df.head()"
   ]
  },
  {
   "cell_type": "markdown",
   "metadata": {},
   "source": [
    "Then iterate over the rows in the dataframe, representing a new recipe in the KG for each row:"
   ]
  },
  {
   "cell_type": "code",
   "execution_count": 4,
   "metadata": {},
   "outputs": [],
   "source": [
    "import rdflib as rdf\n",
    "from rdflib.namespace import RDF, XSD\n",
    "\n",
    "for index, row in df.iterrows():\n",
    "    recipe_id = row[\"id\"]\n",
    "    node = rdf.URIRef(\"https://www.food.com/recipe/{}\".format(recipe_id))\n",
    "    kg.add(node, RDF.type, kg.get_ns(\"wtm\").Recipe)\n",
    "\n",
    "    recipe_name = row[\"name\"]\n",
    "    kg.add(node, kg.get_ns(\"skos\").definition, rdf.Literal(recipe_name))\n",
    "    \n",
    "    cook_time = row[\"minutes\"]\n",
    "    kg.add(node, kg.get_ns(\"wtm\").hasCookTime, rdf.Literal(cook_time, datatype=XSD.integer))\n",
    "    \n",
    "    ind_list = eval(row[\"ingredients\"])\n",
    "\n",
    "    for ind in ind_list:\n",
    "        ingredient = ind.strip()\n",
    "        ingredient_obj = common_ingredient[ingredient]\n",
    "        kg.add(node, kg.get_ns(\"wtm\").hasIngredient, ingredient_obj)"
   ]
  },
  {
   "cell_type": "markdown",
   "metadata": {},
   "source": [
    "The graph has grown by a couple orders of magnitude, so it's visualization should be more interesting now.\n",
    "Let's take a look:"
   ]
  },
  {
   "cell_type": "code",
   "execution_count": 5,
   "metadata": {},
   "outputs": [
    {
     "data": {
      "text/html": [
       "\n",
       "        <iframe\n",
       "            width=\"500px\"\n",
       "            height=\"500px\"\n",
       "            src=\"tmp.html\"\n",
       "            frameborder=\"0\"\n",
       "            allowfullscreen\n",
       "        ></iframe>\n",
       "        "
      ],
      "text/plain": [
       "<IPython.lib.display.IFrame at 0x11da886d0>"
      ]
     },
     "execution_count": 5,
     "metadata": {},
     "output_type": "execute_result"
    }
   ],
   "source": [
    "VIS_STYLE = {\n",
    "    \"wtm\": {\n",
    "        \"color\": \"orange\",\n",
    "        \"size\": 20,\n",
    "    },\n",
    "    \"ind\":{\n",
    "        \"color\": \"blue\",\n",
    "        \"size\": 35,\n",
    "    },\n",
    "}\n",
    "\n",
    "g = kg.vis_pyvis(notebook=True, style=VIS_STYLE)\n",
    "g.barnes_hut()\n",
    "g.show(\"tmp.html\")"
   ]
  },
  {
   "cell_type": "markdown",
   "metadata": {},
   "source": [
    "Given the defaults for this kind of visualization, there's likely a dense center mass of orange (recipes) at the center, with a close cluster of common ingredients (dark blue), surrounded by less common ingredients and cooking times (light blue)."
   ]
  },
  {
   "cell_type": "markdown",
   "metadata": {},
   "source": [
    "Let's serialize the KG to a local file:"
   ]
  },
  {
   "cell_type": "code",
   "execution_count": 6,
   "metadata": {},
   "outputs": [],
   "source": [
    "kg.save_ttl(\"tmp.ttl\")"
   ]
  },
  {
   "cell_type": "markdown",
   "metadata": {},
   "source": [
    "While we're at this, let's serialize in each of the three formats that we've been using, to compare the relative sizes for a medium-sized KG:"
   ]
  },
  {
   "cell_type": "code",
   "execution_count": 7,
   "metadata": {},
   "outputs": [],
   "source": [
    "kg.save_jsonld(\"tmp.jsonld\")\n",
    "kg.save_parquet(\"tmp.parquet\")"
   ]
  },
  {
   "cell_type": "code",
   "execution_count": 8,
   "metadata": {},
   "outputs": [
    {
     "data": {
      "text/html": [
       "<div>\n",
       "<style scoped>\n",
       "    .dataframe tbody tr th:only-of-type {\n",
       "        vertical-align: middle;\n",
       "    }\n",
       "\n",
       "    .dataframe tbody tr th {\n",
       "        vertical-align: top;\n",
       "    }\n",
       "\n",
       "    .dataframe thead th {\n",
       "        text-align: right;\n",
       "    }\n",
       "</style>\n",
       "<table border=\"1\" class=\"dataframe\">\n",
       "  <thead>\n",
       "    <tr style=\"text-align: right;\">\n",
       "      <th></th>\n",
       "      <th>file_path</th>\n",
       "      <th>file_size</th>\n",
       "    </tr>\n",
       "  </thead>\n",
       "  <tbody>\n",
       "    <tr>\n",
       "      <th>0</th>\n",
       "      <td>tmp.jsonld</td>\n",
       "      <td>74376</td>\n",
       "    </tr>\n",
       "    <tr>\n",
       "      <th>1</th>\n",
       "      <td>tmp.ttl</td>\n",
       "      <td>38613</td>\n",
       "    </tr>\n",
       "    <tr>\n",
       "      <th>2</th>\n",
       "      <td>tmp.parquet</td>\n",
       "      <td>9119</td>\n",
       "    </tr>\n",
       "  </tbody>\n",
       "</table>\n",
       "</div>"
      ],
      "text/plain": [
       "     file_path  file_size\n",
       "0   tmp.jsonld      74376\n",
       "1      tmp.ttl      38613\n",
       "2  tmp.parquet       9119"
      ]
     },
     "execution_count": 8,
     "metadata": {},
     "output_type": "execute_result"
    }
   ],
   "source": [
    "import pandas as pd\n",
    "import os\n",
    "\n",
    "file_paths = [\"tmp.jsonld\", \"tmp.ttl\", \"tmp.parquet\"]\n",
    "file_sizes = [os.path.getsize(file_path) for file_path in file_paths]\n",
    "\n",
    "df = pd.DataFrame({\"file_path\": file_paths, \"file_size\": file_sizes})\n",
    "df"
   ]
  },
  {
   "cell_type": "markdown",
   "metadata": {},
   "source": [
    "Notice the relative sizes?\n",
    "[Parquet](https://parquet.apache.org/) provides for compression in a way that works well with RDF.\n",
    "The same KG stored as a Parquet file is less than 13% the size of the same KG stored as JSON-LD."
   ]
  }
 ],
 "metadata": {
  "kernelspec": {
   "display_name": "Python 3",
   "language": "python",
   "name": "python3"
  },
  "language_info": {
   "codemirror_mode": {
    "name": "ipython",
    "version": 3
   },
   "file_extension": ".py",
   "mimetype": "text/x-python",
   "name": "python",
   "nbconvert_exporter": "python",
   "pygments_lexer": "ipython3",
   "version": "3.7.4"
  }
 },
 "nbformat": 4,
 "nbformat_minor": 4
}
